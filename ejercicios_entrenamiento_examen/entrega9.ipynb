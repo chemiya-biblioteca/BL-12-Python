{
 "cells": [
  {
   "cell_type": "code",
   "execution_count": 1,
   "metadata": {},
   "outputs": [],
   "source": [
    "import pandas as pd"
   ]
  },
  {
   "cell_type": "code",
   "execution_count": 51,
   "metadata": {},
   "outputs": [],
   "source": [
    "datos=pd.read_csv(\"boston.csv\")"
   ]
  },
  {
   "cell_type": "code",
   "execution_count": 52,
   "metadata": {},
   "outputs": [
    {
     "name": "stdout",
     "output_type": "stream",
     "text": [
      "        CRIM  INDUS     ZN  CHAS    NOX     RM   AGE     DIS  RAD    TAX   \n",
      "0    0.00632   18.0   2310   0.0  0.538  6.575  65.2  4.0900  1.0  296.0  \\\n",
      "1    0.02731    0.0   7070   0.0  0.469  6.421  78.9  4.9671  2.0  242.0   \n",
      "2    0.02729    0.0   7070   0.0  0.469  7.185  61.1  4.9671  2.0  242.0   \n",
      "3    0.03237    0.0   2180   0.0  0.458  6.998  45.8  6.0622  3.0  222.0   \n",
      "4    0.06905    0.0   2180   0.0  0.458  7.147  54.2  6.0622  3.0  222.0   \n",
      "..       ...    ...    ...   ...    ...    ...   ...     ...  ...    ...   \n",
      "501  0.06263    0.0  11930   0.0  0.573  6.593  69.1  2.4786  1.0  273.0   \n",
      "502  0.04527    0.0  11930   0.0  0.573  6.120  76.7  2.2875  1.0  273.0   \n",
      "503  0.06076    0.0  11930   0.0  0.573  6.976  91.0  2.1675  1.0  273.0   \n",
      "504  0.10959    0.0  11930   0.0  0.573  6.794  89.3  2.3889  1.0  273.0   \n",
      "505  0.04741    0.0  11930   0.0  0.573  6.030  80.8  2.5050  1.0  273.0   \n",
      "\n",
      "     PTRATIO       B  LSTAT  MEDV  \n",
      "0       15.3  396.90   4.98  24.0  \n",
      "1       17.8  396.90   9.14  21.6  \n",
      "2       17.8  392.83   4.03  34.7  \n",
      "3       18.7  394.63   2.94  33.4  \n",
      "4       18.7  396.90   5.33  36.2  \n",
      "..       ...     ...    ...   ...  \n",
      "501     21.0  391.99   9.67  22.4  \n",
      "502     21.0  396.90   9.08  20.6  \n",
      "503     21.0  396.90   5.64  23.9  \n",
      "504     21.0  393.45   6.48  22.0  \n",
      "505     21.0  396.90   7.88  11.9  \n",
      "\n",
      "[506 rows x 14 columns]\n"
     ]
    }
   ],
   "source": [
    "print(datos)"
   ]
  },
  {
   "cell_type": "code",
   "execution_count": 53,
   "metadata": {},
   "outputs": [],
   "source": [
    "datos=datos.dropna(subset=[\"MEDV\"])"
   ]
  },
  {
   "cell_type": "code",
   "execution_count": 54,
   "metadata": {},
   "outputs": [],
   "source": [
    "y=datos[\"MEDV\"]"
   ]
  },
  {
   "cell_type": "code",
   "execution_count": 55,
   "metadata": {},
   "outputs": [
    {
     "data": {
      "text/plain": [
       "(452, 13)"
      ]
     },
     "execution_count": 55,
     "metadata": {},
     "output_type": "execute_result"
    }
   ],
   "source": [
    "X=datos.drop(columns=[\"MEDV\"])\n",
    "X.shape"
   ]
  },
  {
   "cell_type": "code",
   "execution_count": 56,
   "metadata": {},
   "outputs": [
    {
     "data": {
      "text/plain": [
       "array([[0.        , 0.18      , 0.06781525, ..., 0.28723404, 1.        ,\n",
       "        0.0994492 ],\n",
       "       [0.00210738, 0.        , 0.24230205, ..., 0.55319149, 1.        ,\n",
       "        0.22674419],\n",
       "       [0.00210538, 0.        , 0.24230205, ..., 0.55319149, 0.98973725,\n",
       "        0.07037944],\n",
       "       ...,\n",
       "       [0.00546574, 0.        , 0.42045455, ..., 0.89361702, 1.        ,\n",
       "        0.11964504],\n",
       "       [0.01036824, 0.        , 0.42045455, ..., 0.89361702, 0.99130062,\n",
       "        0.14534884],\n",
       "       [0.00412541, 0.        , 0.42045455, ..., 0.89361702, 1.        ,\n",
       "        0.18818849]])"
      ]
     },
     "execution_count": 56,
     "metadata": {},
     "output_type": "execute_result"
    }
   ],
   "source": [
    "from sklearn.preprocessing import MinMaxScaler\n",
    "minmax=MinMaxScaler()\n",
    "X=minmax.fit_transform(X)\n",
    "X"
   ]
  },
  {
   "cell_type": "code",
   "execution_count": 58,
   "metadata": {},
   "outputs": [
    {
     "data": {
      "text/plain": [
       "0      24.0\n",
       "1      21.6\n",
       "2      34.7\n",
       "3      33.4\n",
       "4      36.2\n",
       "       ... \n",
       "501    22.4\n",
       "502    20.6\n",
       "503    23.9\n",
       "504    22.0\n",
       "505    11.9\n",
       "Name: MEDV, Length: 452, dtype: float64"
      ]
     },
     "execution_count": 58,
     "metadata": {},
     "output_type": "execute_result"
    }
   ],
   "source": [
    "y"
   ]
  },
  {
   "cell_type": "code",
   "execution_count": null,
   "metadata": {},
   "outputs": [],
   "source": [
    "#FSAR"
   ]
  },
  {
   "cell_type": "code",
   "execution_count": 72,
   "metadata": {},
   "outputs": [],
   "source": [
    "from sklearn.model_selection import StratifiedKFold\n",
    "from sklearn.linear_model import SGDRegressor\n",
    "from sklearn.metrics import accuracy_score\n"
   ]
  },
  {
   "cell_type": "code",
   "execution_count": 60,
   "metadata": {},
   "outputs": [],
   "source": [
    "skf=StratifiedKFold(n_splits=10)"
   ]
  },
  {
   "cell_type": "code",
   "execution_count": 62,
   "metadata": {},
   "outputs": [
    {
     "name": "stdout",
     "output_type": "stream",
     "text": [
      "[118  94 177 174 184 146 107 137  46  68  35  68  95  83  61  78 109  55\n",
      "  81  61  23  75  37  31  40  25  47  33  63  89  15  31  19  18  22  68\n",
      "  79  89 125 157 178 134 130 125  91  72  79  47  30  73  76  84 127 112\n",
      "  68 181 125 162 111  75  66  42 100 127 170 113  73  98  54  88 120  95\n",
      " 106 112 119  92  79  87  91  82 140 117 126 107 117 134 103 100 114 146\n",
      " 104  98 107 127  85 143  92 192 200 172 138 133  65  72  80  74  74  83\n",
      "  77  73  95 106  67  66  64  62  91  71  83  72  98  82  84  53  67  92\n",
      "  41  44  59  29  71  75 108  63  40  60  54  51  20  58  26  30  21  40\n",
      "   9  24  40  32  58  39  93  75  38  73  50  40  18 194 121 111 136 209\n",
      " 209 209 105 127 209 116 116 101  54  70 109 114 104 149 110 124 152 188\n",
      " 193 184 191 167 132 150 209 164 151 178 187 155 185 159 148 209 173 154\n",
      " 176 178 169 119 196 207 209 104 122 103 122  79  95  72 102 141 115 127\n",
      " 111 146  93 108 135  95 138 153 202 209 190 162 205 161 121 163 195 206\n",
      " 147 118 128 161 115 111  98  80 100 115  56  64 121  84 123 131 122 126\n",
      " 150 197  97  88 201 209 182 153 175 198 208 158 186 106 156 209 199  86\n",
      "  90 129 122 180 166 164 172 171 148 179 203 181 204 209 165  98  80 110\n",
      " 101 126 144 189 139 117  95 145 137  82 103 147 126  98 132 171 183 143\n",
      " 174 142 106  82  43  99  73  94 116  44  58  77 109  89 116 109  83  64\n",
      " 127 124 108 100  72 104  77  51  73 100  86  90  74  64  85  69  66 168\n",
      "  46 117 160  55  52 109 123 134 107 119  65 153  61  85  58  95 105 104\n",
      " 127  78  87  49  97 138  97 209 209 209 209 209  20   6  12   7  36 110\n",
      "  24  18  13   3   0  11  52  28  21   8   5   4  31  43  29  16  51  63\n",
      "  39  34  14  27  17  21  37  43  58  34  27  15  22  34  79  45  57  74\n",
      "  81  92  78  69  70  78  75 110 151  24  20  48 108 115 127  96  85  91\n",
      "  70  85  37   1   2  23  80  96 123 109  76  62  91  55  49 102  85 117\n",
      "  98  10]\n"
     ]
    }
   ],
   "source": [
    "from sklearn.preprocessing import LabelEncoder\n",
    "lab=LabelEncoder()\n",
    "y=lab.fit_transform(y)\n",
    "print(y)"
   ]
  },
  {
   "cell_type": "code",
   "execution_count": 84,
   "metadata": {},
   "outputs": [
    {
     "name": "stderr",
     "output_type": "stream",
     "text": [
      "c:\\Users\\jmlozanoo\\AppData\\Local\\Programs\\Python\\Python311\\Lib\\site-packages\\sklearn\\model_selection\\_split.py:700: UserWarning: The least populated class in y has only 1 members, which is less than n_splits=10.\n",
      "  warnings.warn(\n",
      "c:\\Users\\jmlozanoo\\AppData\\Local\\Programs\\Python\\Python311\\Lib\\site-packages\\sklearn\\linear_model\\_stochastic_gradient.py:1548: ConvergenceWarning: Maximum number of iteration reached before convergence. Consider increasing max_iter to improve the fit.\n",
      "  warnings.warn(\n",
      "c:\\Users\\jmlozanoo\\AppData\\Local\\Programs\\Python\\Python311\\Lib\\site-packages\\sklearn\\linear_model\\_stochastic_gradient.py:1548: ConvergenceWarning: Maximum number of iteration reached before convergence. Consider increasing max_iter to improve the fit.\n",
      "  warnings.warn(\n",
      "c:\\Users\\jmlozanoo\\AppData\\Local\\Programs\\Python\\Python311\\Lib\\site-packages\\sklearn\\linear_model\\_stochastic_gradient.py:1548: ConvergenceWarning: Maximum number of iteration reached before convergence. Consider increasing max_iter to improve the fit.\n",
      "  warnings.warn(\n",
      "c:\\Users\\jmlozanoo\\AppData\\Local\\Programs\\Python\\Python311\\Lib\\site-packages\\sklearn\\linear_model\\_stochastic_gradient.py:1548: ConvergenceWarning: Maximum number of iteration reached before convergence. Consider increasing max_iter to improve the fit.\n",
      "  warnings.warn(\n",
      "c:\\Users\\jmlozanoo\\AppData\\Local\\Programs\\Python\\Python311\\Lib\\site-packages\\sklearn\\linear_model\\_stochastic_gradient.py:1548: ConvergenceWarning: Maximum number of iteration reached before convergence. Consider increasing max_iter to improve the fit.\n",
      "  warnings.warn(\n",
      "c:\\Users\\jmlozanoo\\AppData\\Local\\Programs\\Python\\Python311\\Lib\\site-packages\\sklearn\\linear_model\\_stochastic_gradient.py:1548: ConvergenceWarning: Maximum number of iteration reached before convergence. Consider increasing max_iter to improve the fit.\n",
      "  warnings.warn(\n",
      "c:\\Users\\jmlozanoo\\AppData\\Local\\Programs\\Python\\Python311\\Lib\\site-packages\\sklearn\\linear_model\\_stochastic_gradient.py:1548: ConvergenceWarning: Maximum number of iteration reached before convergence. Consider increasing max_iter to improve the fit.\n",
      "  warnings.warn(\n",
      "c:\\Users\\jmlozanoo\\AppData\\Local\\Programs\\Python\\Python311\\Lib\\site-packages\\sklearn\\linear_model\\_stochastic_gradient.py:1548: ConvergenceWarning: Maximum number of iteration reached before convergence. Consider increasing max_iter to improve the fit.\n",
      "  warnings.warn(\n",
      "c:\\Users\\jmlozanoo\\AppData\\Local\\Programs\\Python\\Python311\\Lib\\site-packages\\sklearn\\linear_model\\_stochastic_gradient.py:1548: ConvergenceWarning: Maximum number of iteration reached before convergence. Consider increasing max_iter to improve the fit.\n",
      "  warnings.warn(\n",
      "c:\\Users\\jmlozanoo\\AppData\\Local\\Programs\\Python\\Python311\\Lib\\site-packages\\sklearn\\linear_model\\_stochastic_gradient.py:1548: ConvergenceWarning: Maximum number of iteration reached before convergence. Consider increasing max_iter to improve the fit.\n",
      "  warnings.warn(\n"
     ]
    }
   ],
   "source": [
    "resultados=pd.DataFrame(columns=[\"fold\",\"aciertos\",\"r2\"])\n",
    "\n",
    "k=0\n",
    "for train_index,test_index in skf.split(X,y):\n",
    "    error=pd.DataFrame(columns=[\"original\",\"predecido\",\"error\",\"error relativo\"])\n",
    "    sgd=SGDRegressor(tol=1e-5,max_iter=100)\n",
    "    sgd.fit(X[train_index],y[train_index])\n",
    "    pred=sgd.predict(X[test_index])\n",
    "    error[\"original\"]=y[test_index]\n",
    "    error[\"predecido\"]=pred\n",
    "    error[\"error\"]=abs(error[\"original\"]-error[\"predecido\"])\n",
    "    error[\"error relativo\"]=(error[\"error\"]/error[\"original\"])*100\n",
    "    porcentaje=error.apply(lambda x:x[\"error relativo\"]>15,axis=1).sum()/len(error)\n",
    "    \n",
    "    resultados.loc[k]=[k,porcentaje,sgd.score(X[test_index],y[test_index])]\n",
    "    k+=1\n",
    "\n"
   ]
  },
  {
   "cell_type": "code",
   "execution_count": 85,
   "metadata": {},
   "outputs": [
    {
     "data": {
      "text/html": [
       "<div>\n",
       "<style scoped>\n",
       "    .dataframe tbody tr th:only-of-type {\n",
       "        vertical-align: middle;\n",
       "    }\n",
       "\n",
       "    .dataframe tbody tr th {\n",
       "        vertical-align: top;\n",
       "    }\n",
       "\n",
       "    .dataframe thead th {\n",
       "        text-align: right;\n",
       "    }\n",
       "</style>\n",
       "<table border=\"1\" class=\"dataframe\">\n",
       "  <thead>\n",
       "    <tr style=\"text-align: right;\">\n",
       "      <th></th>\n",
       "      <th>fold</th>\n",
       "      <th>aciertos</th>\n",
       "      <th>r2</th>\n",
       "    </tr>\n",
       "  </thead>\n",
       "  <tbody>\n",
       "    <tr>\n",
       "      <th>0</th>\n",
       "      <td>0.0</td>\n",
       "      <td>0.565217</td>\n",
       "      <td>0.815481</td>\n",
       "    </tr>\n",
       "    <tr>\n",
       "      <th>1</th>\n",
       "      <td>1.0</td>\n",
       "      <td>0.565217</td>\n",
       "      <td>0.694056</td>\n",
       "    </tr>\n",
       "    <tr>\n",
       "      <th>2</th>\n",
       "      <td>2.0</td>\n",
       "      <td>0.488889</td>\n",
       "      <td>0.725866</td>\n",
       "    </tr>\n",
       "    <tr>\n",
       "      <th>3</th>\n",
       "      <td>3.0</td>\n",
       "      <td>0.466667</td>\n",
       "      <td>0.818006</td>\n",
       "    </tr>\n",
       "    <tr>\n",
       "      <th>4</th>\n",
       "      <td>4.0</td>\n",
       "      <td>0.600000</td>\n",
       "      <td>0.844696</td>\n",
       "    </tr>\n",
       "    <tr>\n",
       "      <th>5</th>\n",
       "      <td>5.0</td>\n",
       "      <td>0.488889</td>\n",
       "      <td>0.706817</td>\n",
       "    </tr>\n",
       "    <tr>\n",
       "      <th>6</th>\n",
       "      <td>6.0</td>\n",
       "      <td>0.533333</td>\n",
       "      <td>0.687502</td>\n",
       "    </tr>\n",
       "    <tr>\n",
       "      <th>7</th>\n",
       "      <td>7.0</td>\n",
       "      <td>0.688889</td>\n",
       "      <td>0.740466</td>\n",
       "    </tr>\n",
       "    <tr>\n",
       "      <th>8</th>\n",
       "      <td>8.0</td>\n",
       "      <td>0.488889</td>\n",
       "      <td>0.650960</td>\n",
       "    </tr>\n",
       "    <tr>\n",
       "      <th>9</th>\n",
       "      <td>9.0</td>\n",
       "      <td>0.444444</td>\n",
       "      <td>0.682565</td>\n",
       "    </tr>\n",
       "  </tbody>\n",
       "</table>\n",
       "</div>"
      ],
      "text/plain": [
       "   fold  aciertos        r2\n",
       "0   0.0  0.565217  0.815481\n",
       "1   1.0  0.565217  0.694056\n",
       "2   2.0  0.488889  0.725866\n",
       "3   3.0  0.466667  0.818006\n",
       "4   4.0  0.600000  0.844696\n",
       "5   5.0  0.488889  0.706817\n",
       "6   6.0  0.533333  0.687502\n",
       "7   7.0  0.688889  0.740466\n",
       "8   8.0  0.488889  0.650960\n",
       "9   9.0  0.444444  0.682565"
      ]
     },
     "execution_count": 85,
     "metadata": {},
     "output_type": "execute_result"
    }
   ],
   "source": [
    "resultados"
   ]
  }
 ],
 "metadata": {
  "kernelspec": {
   "display_name": "Python 3",
   "language": "python",
   "name": "python3"
  },
  "language_info": {
   "codemirror_mode": {
    "name": "ipython",
    "version": 3
   },
   "file_extension": ".py",
   "mimetype": "text/x-python",
   "name": "python",
   "nbconvert_exporter": "python",
   "pygments_lexer": "ipython3",
   "version": "3.11.2"
  },
  "orig_nbformat": 4
 },
 "nbformat": 4,
 "nbformat_minor": 2
}
