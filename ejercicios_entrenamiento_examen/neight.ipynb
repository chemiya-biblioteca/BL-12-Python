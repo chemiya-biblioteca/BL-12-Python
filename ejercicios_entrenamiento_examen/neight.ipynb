{
 "cells": [
  {
   "cell_type": "code",
   "execution_count": 1,
   "metadata": {},
   "outputs": [],
   "source": [
    "from sklearn.datasets import load_digits"
   ]
  },
  {
   "cell_type": "code",
   "execution_count": 2,
   "metadata": {},
   "outputs": [],
   "source": [
    "datos=load_digits()"
   ]
  },
  {
   "cell_type": "code",
   "execution_count": 3,
   "metadata": {},
   "outputs": [],
   "source": [
    "X=datos.data"
   ]
  },
  {
   "cell_type": "code",
   "execution_count": 4,
   "metadata": {},
   "outputs": [],
   "source": [
    "y=datos.target"
   ]
  },
  {
   "cell_type": "code",
   "execution_count": 5,
   "metadata": {},
   "outputs": [],
   "source": [
    "from sklearn.preprocessing import MinMaxScaler\n",
    "minmax=MinMaxScaler()"
   ]
  },
  {
   "cell_type": "code",
   "execution_count": 6,
   "metadata": {},
   "outputs": [],
   "source": [
    "X=minmax.fit_transform(X)"
   ]
  },
  {
   "cell_type": "code",
   "execution_count": 8,
   "metadata": {},
   "outputs": [],
   "source": [
    "from sklearn.neighbors import KNeighborsClassifier\n",
    "from sklearn.model_selection import train_test_split\n",
    "import pandas as pd"
   ]
  },
  {
   "cell_type": "code",
   "execution_count": 10,
   "metadata": {},
   "outputs": [],
   "source": [
    "dataframe=pd.DataFrame(data=X)"
   ]
  },
  {
   "cell_type": "code",
   "execution_count": 12,
   "metadata": {},
   "outputs": [],
   "source": [
    "dataframe[\"resultado\"]=\"x\""
   ]
  },
  {
   "cell_type": "code",
   "execution_count": 17,
   "metadata": {},
   "outputs": [],
   "source": [
    "y=(y.reshape(-1,1))\n",
    "dataframe[\"resultado\"]=y"
   ]
  },
  {
   "cell_type": "code",
   "execution_count": 18,
   "metadata": {},
   "outputs": [
    {
     "name": "stdout",
     "output_type": "stream",
     "text": [
      "        0    1       2       3       4       5       6    7    8       9  ...   \n",
      "0     0.0  0.0  0.3125  0.8125  0.5625  0.0625  0.0000  0.0  0.0  0.0000  ...  \\\n",
      "1     0.0  0.0  0.0000  0.7500  0.8125  0.3125  0.0000  0.0  0.0  0.0000  ...   \n",
      "2     0.0  0.0  0.0000  0.2500  0.9375  0.7500  0.0000  0.0  0.0  0.0000  ...   \n",
      "3     0.0  0.0  0.4375  0.9375  0.8125  0.0625  0.0000  0.0  0.0  0.5000  ...   \n",
      "4     0.0  0.0  0.0000  0.0625  0.6875  0.0000  0.0000  0.0  0.0  0.0000  ...   \n",
      "...   ...  ...     ...     ...     ...     ...     ...  ...  ...     ...  ...   \n",
      "1792  0.0  0.0  0.2500  0.6250  0.8125  0.3750  0.0000  0.0  0.0  0.0625  ...   \n",
      "1793  0.0  0.0  0.3750  1.0000  0.8125  0.6875  0.0625  0.0  0.0  0.0000  ...   \n",
      "1794  0.0  0.0  0.0625  0.6875  0.9375  0.0625  0.0000  0.0  0.0  0.0000  ...   \n",
      "1795  0.0  0.0  0.1250  0.6250  0.4375  0.0000  0.0000  0.0  0.0  0.0000  ...   \n",
      "1796  0.0  0.0  0.6250  0.8750  0.5000  0.0625  0.0000  0.0  0.0  0.1250  ...   \n",
      "\n",
      "       55   56        57      58      59      60      61      62   63   \n",
      "0     0.0  0.0  0.000000  0.3750  0.8125  0.6250  0.0000  0.0000  0.0  \\\n",
      "1     0.0  0.0  0.000000  0.0000  0.6875  1.0000  0.6250  0.0000  0.0   \n",
      "2     0.0  0.0  0.000000  0.0000  0.1875  0.6875  1.0000  0.5625  0.0   \n",
      "3     0.0  0.0  0.000000  0.4375  0.8125  0.8125  0.5625  0.0000  0.0   \n",
      "4     0.0  0.0  0.000000  0.0000  0.1250  1.0000  0.2500  0.0000  0.0   \n",
      "...   ...  ...       ...     ...     ...     ...     ...     ...  ...   \n",
      "1792  0.0  0.0  0.000000  0.1250  0.8750  0.9375  0.5625  0.0000  0.0   \n",
      "1793  0.0  0.0  0.000000  0.3750  1.0000  0.8750  0.3750  0.0000  0.0   \n",
      "1794  0.0  0.0  0.000000  0.1250  0.5625  0.8125  0.3750  0.0000  0.0   \n",
      "1795  0.0  0.0  0.000000  0.3125  0.7500  1.0000  0.7500  0.0000  0.0   \n",
      "1796  0.0  0.0  0.111111  0.5000  0.7500  0.8750  0.7500  0.0625  0.0   \n",
      "\n",
      "      resultado  \n",
      "0             0  \n",
      "1             1  \n",
      "2             2  \n",
      "3             3  \n",
      "4             4  \n",
      "...         ...  \n",
      "1792          9  \n",
      "1793          0  \n",
      "1794          8  \n",
      "1795          9  \n",
      "1796          8  \n",
      "\n",
      "[1797 rows x 65 columns]\n"
     ]
    }
   ],
   "source": [
    "print(dataframe)"
   ]
  },
  {
   "cell_type": "code",
   "execution_count": 23,
   "metadata": {},
   "outputs": [
    {
     "data": {
      "text/plain": [
       "(1797, 65)"
      ]
     },
     "execution_count": 23,
     "metadata": {},
     "output_type": "execute_result"
    }
   ],
   "source": [
    "dataframe.shape"
   ]
  },
  {
   "cell_type": "code",
   "execution_count": 31,
   "metadata": {},
   "outputs": [
    {
     "data": {
      "text/html": [
       "<div>\n",
       "<style scoped>\n",
       "    .dataframe tbody tr th:only-of-type {\n",
       "        vertical-align: middle;\n",
       "    }\n",
       "\n",
       "    .dataframe tbody tr th {\n",
       "        vertical-align: top;\n",
       "    }\n",
       "\n",
       "    .dataframe thead th {\n",
       "        text-align: right;\n",
       "    }\n",
       "</style>\n",
       "<table border=\"1\" class=\"dataframe\">\n",
       "  <thead>\n",
       "    <tr style=\"text-align: right;\">\n",
       "      <th></th>\n",
       "      <th>0</th>\n",
       "      <th>1</th>\n",
       "      <th>2</th>\n",
       "      <th>3</th>\n",
       "      <th>4</th>\n",
       "      <th>5</th>\n",
       "      <th>6</th>\n",
       "      <th>7</th>\n",
       "      <th>8</th>\n",
       "      <th>9</th>\n",
       "      <th>...</th>\n",
       "      <th>54</th>\n",
       "      <th>55</th>\n",
       "      <th>56</th>\n",
       "      <th>57</th>\n",
       "      <th>58</th>\n",
       "      <th>59</th>\n",
       "      <th>60</th>\n",
       "      <th>61</th>\n",
       "      <th>62</th>\n",
       "      <th>63</th>\n",
       "    </tr>\n",
       "  </thead>\n",
       "  <tbody>\n",
       "    <tr>\n",
       "      <th>0</th>\n",
       "      <td>0.0</td>\n",
       "      <td>0.0</td>\n",
       "      <td>0.3125</td>\n",
       "      <td>0.8125</td>\n",
       "      <td>0.5625</td>\n",
       "      <td>0.0625</td>\n",
       "      <td>0.0000</td>\n",
       "      <td>0.0</td>\n",
       "      <td>0.0</td>\n",
       "      <td>0.0000</td>\n",
       "      <td>...</td>\n",
       "      <td>0.0000</td>\n",
       "      <td>0.0</td>\n",
       "      <td>0.0</td>\n",
       "      <td>0.000000</td>\n",
       "      <td>0.3750</td>\n",
       "      <td>0.8125</td>\n",
       "      <td>0.6250</td>\n",
       "      <td>0.0000</td>\n",
       "      <td>0.0000</td>\n",
       "      <td>0.0</td>\n",
       "    </tr>\n",
       "    <tr>\n",
       "      <th>1</th>\n",
       "      <td>0.0</td>\n",
       "      <td>0.0</td>\n",
       "      <td>0.0000</td>\n",
       "      <td>0.7500</td>\n",
       "      <td>0.8125</td>\n",
       "      <td>0.3125</td>\n",
       "      <td>0.0000</td>\n",
       "      <td>0.0</td>\n",
       "      <td>0.0</td>\n",
       "      <td>0.0000</td>\n",
       "      <td>...</td>\n",
       "      <td>0.0000</td>\n",
       "      <td>0.0</td>\n",
       "      <td>0.0</td>\n",
       "      <td>0.000000</td>\n",
       "      <td>0.0000</td>\n",
       "      <td>0.6875</td>\n",
       "      <td>1.0000</td>\n",
       "      <td>0.6250</td>\n",
       "      <td>0.0000</td>\n",
       "      <td>0.0</td>\n",
       "    </tr>\n",
       "    <tr>\n",
       "      <th>2</th>\n",
       "      <td>0.0</td>\n",
       "      <td>0.0</td>\n",
       "      <td>0.0000</td>\n",
       "      <td>0.2500</td>\n",
       "      <td>0.9375</td>\n",
       "      <td>0.7500</td>\n",
       "      <td>0.0000</td>\n",
       "      <td>0.0</td>\n",
       "      <td>0.0</td>\n",
       "      <td>0.0000</td>\n",
       "      <td>...</td>\n",
       "      <td>0.3125</td>\n",
       "      <td>0.0</td>\n",
       "      <td>0.0</td>\n",
       "      <td>0.000000</td>\n",
       "      <td>0.0000</td>\n",
       "      <td>0.1875</td>\n",
       "      <td>0.6875</td>\n",
       "      <td>1.0000</td>\n",
       "      <td>0.5625</td>\n",
       "      <td>0.0</td>\n",
       "    </tr>\n",
       "    <tr>\n",
       "      <th>3</th>\n",
       "      <td>0.0</td>\n",
       "      <td>0.0</td>\n",
       "      <td>0.4375</td>\n",
       "      <td>0.9375</td>\n",
       "      <td>0.8125</td>\n",
       "      <td>0.0625</td>\n",
       "      <td>0.0000</td>\n",
       "      <td>0.0</td>\n",
       "      <td>0.0</td>\n",
       "      <td>0.5000</td>\n",
       "      <td>...</td>\n",
       "      <td>0.5625</td>\n",
       "      <td>0.0</td>\n",
       "      <td>0.0</td>\n",
       "      <td>0.000000</td>\n",
       "      <td>0.4375</td>\n",
       "      <td>0.8125</td>\n",
       "      <td>0.8125</td>\n",
       "      <td>0.5625</td>\n",
       "      <td>0.0000</td>\n",
       "      <td>0.0</td>\n",
       "    </tr>\n",
       "    <tr>\n",
       "      <th>4</th>\n",
       "      <td>0.0</td>\n",
       "      <td>0.0</td>\n",
       "      <td>0.0000</td>\n",
       "      <td>0.0625</td>\n",
       "      <td>0.6875</td>\n",
       "      <td>0.0000</td>\n",
       "      <td>0.0000</td>\n",
       "      <td>0.0</td>\n",
       "      <td>0.0</td>\n",
       "      <td>0.0000</td>\n",
       "      <td>...</td>\n",
       "      <td>0.0000</td>\n",
       "      <td>0.0</td>\n",
       "      <td>0.0</td>\n",
       "      <td>0.000000</td>\n",
       "      <td>0.0000</td>\n",
       "      <td>0.1250</td>\n",
       "      <td>1.0000</td>\n",
       "      <td>0.2500</td>\n",
       "      <td>0.0000</td>\n",
       "      <td>0.0</td>\n",
       "    </tr>\n",
       "    <tr>\n",
       "      <th>...</th>\n",
       "      <td>...</td>\n",
       "      <td>...</td>\n",
       "      <td>...</td>\n",
       "      <td>...</td>\n",
       "      <td>...</td>\n",
       "      <td>...</td>\n",
       "      <td>...</td>\n",
       "      <td>...</td>\n",
       "      <td>...</td>\n",
       "      <td>...</td>\n",
       "      <td>...</td>\n",
       "      <td>...</td>\n",
       "      <td>...</td>\n",
       "      <td>...</td>\n",
       "      <td>...</td>\n",
       "      <td>...</td>\n",
       "      <td>...</td>\n",
       "      <td>...</td>\n",
       "      <td>...</td>\n",
       "      <td>...</td>\n",
       "      <td>...</td>\n",
       "    </tr>\n",
       "    <tr>\n",
       "      <th>1792</th>\n",
       "      <td>0.0</td>\n",
       "      <td>0.0</td>\n",
       "      <td>0.2500</td>\n",
       "      <td>0.6250</td>\n",
       "      <td>0.8125</td>\n",
       "      <td>0.3750</td>\n",
       "      <td>0.0000</td>\n",
       "      <td>0.0</td>\n",
       "      <td>0.0</td>\n",
       "      <td>0.0625</td>\n",
       "      <td>...</td>\n",
       "      <td>0.2500</td>\n",
       "      <td>0.0</td>\n",
       "      <td>0.0</td>\n",
       "      <td>0.000000</td>\n",
       "      <td>0.1250</td>\n",
       "      <td>0.8750</td>\n",
       "      <td>0.9375</td>\n",
       "      <td>0.5625</td>\n",
       "      <td>0.0000</td>\n",
       "      <td>0.0</td>\n",
       "    </tr>\n",
       "    <tr>\n",
       "      <th>1793</th>\n",
       "      <td>0.0</td>\n",
       "      <td>0.0</td>\n",
       "      <td>0.3750</td>\n",
       "      <td>1.0000</td>\n",
       "      <td>0.8125</td>\n",
       "      <td>0.6875</td>\n",
       "      <td>0.0625</td>\n",
       "      <td>0.0</td>\n",
       "      <td>0.0</td>\n",
       "      <td>0.0000</td>\n",
       "      <td>...</td>\n",
       "      <td>0.0625</td>\n",
       "      <td>0.0</td>\n",
       "      <td>0.0</td>\n",
       "      <td>0.000000</td>\n",
       "      <td>0.3750</td>\n",
       "      <td>1.0000</td>\n",
       "      <td>0.8750</td>\n",
       "      <td>0.3750</td>\n",
       "      <td>0.0000</td>\n",
       "      <td>0.0</td>\n",
       "    </tr>\n",
       "    <tr>\n",
       "      <th>1794</th>\n",
       "      <td>0.0</td>\n",
       "      <td>0.0</td>\n",
       "      <td>0.0625</td>\n",
       "      <td>0.6875</td>\n",
       "      <td>0.9375</td>\n",
       "      <td>0.0625</td>\n",
       "      <td>0.0000</td>\n",
       "      <td>0.0</td>\n",
       "      <td>0.0</td>\n",
       "      <td>0.0000</td>\n",
       "      <td>...</td>\n",
       "      <td>0.0000</td>\n",
       "      <td>0.0</td>\n",
       "      <td>0.0</td>\n",
       "      <td>0.000000</td>\n",
       "      <td>0.1250</td>\n",
       "      <td>0.5625</td>\n",
       "      <td>0.8125</td>\n",
       "      <td>0.3750</td>\n",
       "      <td>0.0000</td>\n",
       "      <td>0.0</td>\n",
       "    </tr>\n",
       "    <tr>\n",
       "      <th>1795</th>\n",
       "      <td>0.0</td>\n",
       "      <td>0.0</td>\n",
       "      <td>0.1250</td>\n",
       "      <td>0.6250</td>\n",
       "      <td>0.4375</td>\n",
       "      <td>0.0000</td>\n",
       "      <td>0.0000</td>\n",
       "      <td>0.0</td>\n",
       "      <td>0.0</td>\n",
       "      <td>0.0000</td>\n",
       "      <td>...</td>\n",
       "      <td>0.1250</td>\n",
       "      <td>0.0</td>\n",
       "      <td>0.0</td>\n",
       "      <td>0.000000</td>\n",
       "      <td>0.3125</td>\n",
       "      <td>0.7500</td>\n",
       "      <td>1.0000</td>\n",
       "      <td>0.7500</td>\n",
       "      <td>0.0000</td>\n",
       "      <td>0.0</td>\n",
       "    </tr>\n",
       "    <tr>\n",
       "      <th>1796</th>\n",
       "      <td>0.0</td>\n",
       "      <td>0.0</td>\n",
       "      <td>0.6250</td>\n",
       "      <td>0.8750</td>\n",
       "      <td>0.5000</td>\n",
       "      <td>0.0625</td>\n",
       "      <td>0.0000</td>\n",
       "      <td>0.0</td>\n",
       "      <td>0.0</td>\n",
       "      <td>0.1250</td>\n",
       "      <td>...</td>\n",
       "      <td>0.5000</td>\n",
       "      <td>0.0</td>\n",
       "      <td>0.0</td>\n",
       "      <td>0.111111</td>\n",
       "      <td>0.5000</td>\n",
       "      <td>0.7500</td>\n",
       "      <td>0.8750</td>\n",
       "      <td>0.7500</td>\n",
       "      <td>0.0625</td>\n",
       "      <td>0.0</td>\n",
       "    </tr>\n",
       "  </tbody>\n",
       "</table>\n",
       "<p>1797 rows × 64 columns</p>\n",
       "</div>"
      ],
      "text/plain": [
       "       0    1       2       3       4       5       6    7    8       9   ...   \n",
       "0     0.0  0.0  0.3125  0.8125  0.5625  0.0625  0.0000  0.0  0.0  0.0000  ...  \\\n",
       "1     0.0  0.0  0.0000  0.7500  0.8125  0.3125  0.0000  0.0  0.0  0.0000  ...   \n",
       "2     0.0  0.0  0.0000  0.2500  0.9375  0.7500  0.0000  0.0  0.0  0.0000  ...   \n",
       "3     0.0  0.0  0.4375  0.9375  0.8125  0.0625  0.0000  0.0  0.0  0.5000  ...   \n",
       "4     0.0  0.0  0.0000  0.0625  0.6875  0.0000  0.0000  0.0  0.0  0.0000  ...   \n",
       "...   ...  ...     ...     ...     ...     ...     ...  ...  ...     ...  ...   \n",
       "1792  0.0  0.0  0.2500  0.6250  0.8125  0.3750  0.0000  0.0  0.0  0.0625  ...   \n",
       "1793  0.0  0.0  0.3750  1.0000  0.8125  0.6875  0.0625  0.0  0.0  0.0000  ...   \n",
       "1794  0.0  0.0  0.0625  0.6875  0.9375  0.0625  0.0000  0.0  0.0  0.0000  ...   \n",
       "1795  0.0  0.0  0.1250  0.6250  0.4375  0.0000  0.0000  0.0  0.0  0.0000  ...   \n",
       "1796  0.0  0.0  0.6250  0.8750  0.5000  0.0625  0.0000  0.0  0.0  0.1250  ...   \n",
       "\n",
       "          54   55   56        57      58      59      60      61      62   63  \n",
       "0     0.0000  0.0  0.0  0.000000  0.3750  0.8125  0.6250  0.0000  0.0000  0.0  \n",
       "1     0.0000  0.0  0.0  0.000000  0.0000  0.6875  1.0000  0.6250  0.0000  0.0  \n",
       "2     0.3125  0.0  0.0  0.000000  0.0000  0.1875  0.6875  1.0000  0.5625  0.0  \n",
       "3     0.5625  0.0  0.0  0.000000  0.4375  0.8125  0.8125  0.5625  0.0000  0.0  \n",
       "4     0.0000  0.0  0.0  0.000000  0.0000  0.1250  1.0000  0.2500  0.0000  0.0  \n",
       "...      ...  ...  ...       ...     ...     ...     ...     ...     ...  ...  \n",
       "1792  0.2500  0.0  0.0  0.000000  0.1250  0.8750  0.9375  0.5625  0.0000  0.0  \n",
       "1793  0.0625  0.0  0.0  0.000000  0.3750  1.0000  0.8750  0.3750  0.0000  0.0  \n",
       "1794  0.0000  0.0  0.0  0.000000  0.1250  0.5625  0.8125  0.3750  0.0000  0.0  \n",
       "1795  0.1250  0.0  0.0  0.000000  0.3125  0.7500  1.0000  0.7500  0.0000  0.0  \n",
       "1796  0.5000  0.0  0.0  0.111111  0.5000  0.7500  0.8750  0.7500  0.0625  0.0  \n",
       "\n",
       "[1797 rows x 64 columns]"
      ]
     },
     "execution_count": 31,
     "metadata": {},
     "output_type": "execute_result"
    }
   ],
   "source": [
    "predictoras=dataframe.iloc[:,0:dataframe.shape[1]-1]\n",
    "predictoras"
   ]
  },
  {
   "cell_type": "code",
   "execution_count": 30,
   "metadata": {},
   "outputs": [
    {
     "name": "stdout",
     "output_type": "stream",
     "text": [
      "0       0\n",
      "1       1\n",
      "2       2\n",
      "3       3\n",
      "4       4\n",
      "       ..\n",
      "1792    9\n",
      "1793    0\n",
      "1794    8\n",
      "1795    9\n",
      "1796    8\n",
      "Name: resultado, Length: 1797, dtype: int32\n"
     ]
    }
   ],
   "source": [
    "clase=dataframe[\"resultado\"]\n",
    "print(clase)"
   ]
  },
  {
   "cell_type": "code",
   "execution_count": 35,
   "metadata": {},
   "outputs": [],
   "source": [
    "resultados=pd.DataFrame(columns=[\"neight\",\"aciertos test\"])"
   ]
  },
  {
   "cell_type": "code",
   "execution_count": 36,
   "metadata": {},
   "outputs": [],
   "source": [
    "import numpy as np"
   ]
  },
  {
   "cell_type": "code",
   "execution_count": 37,
   "metadata": {},
   "outputs": [],
   "source": [
    "resultados_auxiliar=np.zeros((10,6))"
   ]
  },
  {
   "cell_type": "code",
   "execution_count": 40,
   "metadata": {},
   "outputs": [],
   "source": [
    "for i in range(10):\n",
    "    X_train,X_test,y_train,y_test=train_test_split(predictoras,clase,test_size=1/3,stratify=clase)\n",
    "    for k in range(2,8):\n",
    "        knei=KNeighborsClassifier(n_neighbors=k)\n",
    "        knei.fit(X_train,y_train)\n",
    "        resultados_auxiliar[i,k-2]=knei.score(X_test,y_test)\n"
   ]
  },
  {
   "cell_type": "code",
   "execution_count": 41,
   "metadata": {},
   "outputs": [
    {
     "name": "stdout",
     "output_type": "stream",
     "text": [
      "[[0.97996661 0.98497496 0.97829716 0.98497496 0.98330551 0.98497496]\n",
      " [0.98330551 0.98664441 0.97662771 0.97328881 0.97495826 0.97328881]\n",
      " [0.97662771 0.98998331 0.97996661 0.97996661 0.97996661 0.97829716]\n",
      " [0.98163606 0.98497496 0.97662771 0.98163606 0.97495826 0.97996661]\n",
      " [0.98664441 0.98330551 0.97829716 0.97996661 0.97829716 0.97662771]\n",
      " [0.98664441 0.98831386 0.98998331 0.99165275 0.98497496 0.98664441]\n",
      " [0.97829716 0.98497496 0.97829716 0.98330551 0.97829716 0.97829716]\n",
      " [0.98497496 0.98831386 0.98330551 0.98664441 0.98497496 0.97996661]\n",
      " [0.97662771 0.98664441 0.98163606 0.98163606 0.97829716 0.97996661]\n",
      " [0.98664441 0.98998331 0.98664441 0.98163606 0.98330551 0.98163606]]\n"
     ]
    }
   ],
   "source": [
    "print(resultados_auxiliar)"
   ]
  },
  {
   "cell_type": "code",
   "execution_count": 45,
   "metadata": {},
   "outputs": [],
   "source": [
    "for i in range(2,8):\n",
    "    resultados.loc[i-2]=[i,np.mean(resultados_auxiliar,axis=1)[i-2]]\n",
    "\n",
    "\n"
   ]
  },
  {
   "cell_type": "code",
   "execution_count": 46,
   "metadata": {},
   "outputs": [
    {
     "data": {
      "text/html": [
       "<div>\n",
       "<style scoped>\n",
       "    .dataframe tbody tr th:only-of-type {\n",
       "        vertical-align: middle;\n",
       "    }\n",
       "\n",
       "    .dataframe tbody tr th {\n",
       "        vertical-align: top;\n",
       "    }\n",
       "\n",
       "    .dataframe thead th {\n",
       "        text-align: right;\n",
       "    }\n",
       "</style>\n",
       "<table border=\"1\" class=\"dataframe\">\n",
       "  <thead>\n",
       "    <tr style=\"text-align: right;\">\n",
       "      <th></th>\n",
       "      <th>neight</th>\n",
       "      <th>aciertos test</th>\n",
       "    </tr>\n",
       "  </thead>\n",
       "  <tbody>\n",
       "    <tr>\n",
       "      <th>0</th>\n",
       "      <td>2</td>\n",
       "      <td>0.982749</td>\n",
       "    </tr>\n",
       "    <tr>\n",
       "      <th>1</th>\n",
       "      <td>3</td>\n",
       "      <td>0.978019</td>\n",
       "    </tr>\n",
       "    <tr>\n",
       "      <th>2</th>\n",
       "      <td>4</td>\n",
       "      <td>0.980801</td>\n",
       "    </tr>\n",
       "    <tr>\n",
       "      <th>3</th>\n",
       "      <td>5</td>\n",
       "      <td>0.979967</td>\n",
       "    </tr>\n",
       "    <tr>\n",
       "      <th>4</th>\n",
       "      <td>6</td>\n",
       "      <td>0.980523</td>\n",
       "    </tr>\n",
       "    <tr>\n",
       "      <th>5</th>\n",
       "      <td>7</td>\n",
       "      <td>0.988036</td>\n",
       "    </tr>\n",
       "  </tbody>\n",
       "</table>\n",
       "</div>"
      ],
      "text/plain": [
       "   neight aciertos test\n",
       "0       2      0.982749\n",
       "1       3      0.978019\n",
       "2       4      0.980801\n",
       "3       5      0.979967\n",
       "4       6      0.980523\n",
       "5       7      0.988036"
      ]
     },
     "execution_count": 46,
     "metadata": {},
     "output_type": "execute_result"
    }
   ],
   "source": [
    "resultados"
   ]
  },
  {
   "cell_type": "code",
   "execution_count": 47,
   "metadata": {},
   "outputs": [],
   "source": [
    "import matplotlib.pyplot as plt"
   ]
  },
  {
   "cell_type": "code",
   "execution_count": 48,
   "metadata": {},
   "outputs": [
    {
     "data": {
      "image/png": "[encoded data removed]",
      "text/plain": [
       "<Figure size 800x900 with 1 Axes>"
      ]
     },
     "metadata": {},
     "output_type": "display_data"
    }
   ],
   "source": [
    "plt.figure(figsize=(8,9))\n",
    "plt.bar(resultados[\"neight\"],resultados[\"aciertos test\"])\n",
    "plt.show()"
   ]
  }
 ],
 "metadata": {
  "kernelspec": {
   "display_name": "Python 3",
   "language": "python",
   "name": "python3"
  },
  "language_info": {
   "codemirror_mode": {
    "name": "ipython",
    "version": 3
   },
   "file_extension": ".py",
   "mimetype": "text/x-python",
   "name": "python",
   "nbconvert_exporter": "python",
   "pygments_lexer": "ipython3",
   "version": "3.11.2"
  },
  "orig_nbformat": 4
 },
 "nbformat": 4,
 "nbformat_minor": 2
}
