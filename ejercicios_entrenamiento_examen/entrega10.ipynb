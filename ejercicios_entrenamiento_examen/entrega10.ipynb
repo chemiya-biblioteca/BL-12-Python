{
 "cells": [
  {
   "cell_type": "code",
   "execution_count": 8,
   "metadata": {},
   "outputs": [],
   "source": [
    "from sklearn.datasets import fetch_openml\n",
    "import pandas as pd"
   ]
  },
  {
   "cell_type": "code",
   "execution_count": 3,
   "metadata": {},
   "outputs": [
    {
     "name": "stderr",
     "output_type": "stream",
     "text": [
      "c:\\Users\\jmlozanoo\\AppData\\Local\\Programs\\Python\\Python311\\Lib\\site-packages\\sklearn\\datasets\\_openml.py:968: FutureWarning: The default value of `parser` will change from `'liac-arff'` to `'auto'` in 1.4. You can set `parser='auto'` to silence this warning. Therefore, an `ImportError` will be raised from 1.4 if the dataset is dense and pandas is not installed. Note that the pandas parser may return different data types. See the Notes Section in fetch_openml's API doc for details.\n",
      "  warn(\n"
     ]
    }
   ],
   "source": [
    "X,y=fetch_openml(data_id=1560,return_X_y=True)\n"
   ]
  },
  {
   "cell_type": "code",
   "execution_count": 4,
   "metadata": {},
   "outputs": [
    {
     "name": "stdout",
     "output_type": "stream",
     "text": [
      "        V1      V2      V3     V4     V5   V6   V7   V8    V9  V10  ...  V26   \n",
      "0     23.0   240.0   357.0  120.0  120.0  0.0  0.0  0.0  73.0  0.5  ...  0.0  \\\n",
      "1     45.0     5.0   632.0  132.0  132.0  4.0  0.0  4.0  17.0  2.1  ...  0.0   \n",
      "2     45.0   177.0   779.0  133.0  133.0  2.0  0.0  5.0  16.0  2.1  ...  0.0   \n",
      "3     45.0   411.0  1192.0  134.0  134.0  2.0  0.0  6.0  16.0  2.4  ...  0.0   \n",
      "4     45.0   533.0  1147.0  132.0  132.0  4.0  0.0  5.0  16.0  2.4  ...  0.0   \n",
      "...    ...     ...     ...    ...    ...  ...  ...  ...   ...  ...  ...  ...   \n",
      "2121   3.0  2059.0  2867.0  140.0  140.0  0.0  0.0  6.0  79.0  0.2  ...  0.0   \n",
      "2122   3.0  1576.0  2867.0  140.0  140.0  1.0  0.0  9.0  78.0  0.4  ...  0.0   \n",
      "2123   3.0  1576.0  2596.0  140.0  140.0  1.0  0.0  7.0  79.0  0.4  ...  0.0   \n",
      "2124   3.0  1576.0  3049.0  140.0  140.0  1.0  0.0  9.0  78.0  0.4  ...  0.0   \n",
      "2125   3.0  2796.0  3415.0  142.0  142.0  1.0  1.0  5.0  74.0  0.4  ...  1.0   \n",
      "\n",
      "      V27  V28  V29  V30  V31  V32  V33  V34  V35  \n",
      "0     0.0  0.0  0.0  0.0  0.0  0.0  0.0  1.0  0.0  \n",
      "1     0.0  0.0  0.0  0.0  1.0  0.0  0.0  0.0  0.0  \n",
      "2     0.0  0.0  0.0  0.0  1.0  0.0  0.0  0.0  0.0  \n",
      "3     0.0  0.0  0.0  0.0  1.0  0.0  0.0  0.0  0.0  \n",
      "4     1.0  0.0  0.0  0.0  0.0  0.0  0.0  0.0  0.0  \n",
      "...   ...  ...  ...  ...  ...  ...  ...  ...  ...  \n",
      "2121  0.0  0.0  0.0  1.0  0.0  0.0  0.0  0.0  0.0  \n",
      "2122  0.0  0.0  0.0  1.0  0.0  0.0  0.0  0.0  0.0  \n",
      "2123  0.0  0.0  0.0  1.0  0.0  0.0  0.0  0.0  0.0  \n",
      "2124  0.0  0.0  0.0  1.0  0.0  0.0  0.0  0.0  0.0  \n",
      "2125  0.0  0.0  0.0  0.0  0.0  0.0  0.0  0.0  0.0  \n",
      "\n",
      "[2126 rows x 35 columns]\n"
     ]
    }
   ],
   "source": [
    "print(X)"
   ]
  },
  {
   "cell_type": "code",
   "execution_count": 5,
   "metadata": {},
   "outputs": [
    {
     "name": "stdout",
     "output_type": "stream",
     "text": [
      "0       2\n",
      "1       1\n",
      "2       1\n",
      "3       1\n",
      "4       1\n",
      "       ..\n",
      "2121    2\n",
      "2122    2\n",
      "2123    2\n",
      "2124    2\n",
      "2125    1\n",
      "Name: Class, Length: 2126, dtype: category\n",
      "Categories (3, object): ['1', '2', '3']\n"
     ]
    }
   ],
   "source": [
    "print(y)"
   ]
  },
  {
   "cell_type": "code",
   "execution_count": 6,
   "metadata": {},
   "outputs": [],
   "source": [
    "from sklearn.preprocessing import MinMaxScaler"
   ]
  },
  {
   "cell_type": "code",
   "execution_count": 7,
   "metadata": {},
   "outputs": [
    {
     "data": {
      "text/plain": [
       "array([[0.46808511, 0.07281553, 0.02113527, ..., 0.        , 1.        ,\n",
       "        0.        ],\n",
       "       [0.93617021, 0.00151699, 0.10416667, ..., 0.        , 0.        ,\n",
       "        0.        ],\n",
       "       [0.93617021, 0.05370146, 0.14855072, ..., 0.        , 0.        ,\n",
       "        0.        ],\n",
       "       ...,\n",
       "       [0.04255319, 0.47815534, 0.69716184, ..., 0.        , 0.        ,\n",
       "        0.        ],\n",
       "       [0.04255319, 0.47815534, 0.8339372 , ..., 0.        , 0.        ,\n",
       "        0.        ],\n",
       "       [0.04255319, 0.84830097, 0.94444444, ..., 0.        , 0.        ,\n",
       "        0.        ]])"
      ]
     },
     "execution_count": 7,
     "metadata": {},
     "output_type": "execute_result"
    }
   ],
   "source": [
    "minmax=MinMaxScaler()\n",
    "X=minmax.fit_transform(X)\n",
    "X"
   ]
  },
  {
   "cell_type": "code",
   "execution_count": 23,
   "metadata": {},
   "outputs": [
    {
     "data": {
      "text/html": [
       "<div>\n",
       "<style scoped>\n",
       "    .dataframe tbody tr th:only-of-type {\n",
       "        vertical-align: middle;\n",
       "    }\n",
       "\n",
       "    .dataframe tbody tr th {\n",
       "        vertical-align: top;\n",
       "    }\n",
       "\n",
       "    .dataframe thead th {\n",
       "        text-align: right;\n",
       "    }\n",
       "</style>\n",
       "<table border=\"1\" class=\"dataframe\">\n",
       "  <thead>\n",
       "    <tr style=\"text-align: right;\">\n",
       "      <th></th>\n",
       "      <th>entrena</th>\n",
       "      <th>test</th>\n",
       "      <th>tiempo</th>\n",
       "    </tr>\n",
       "    <tr>\n",
       "      <th>neuronas</th>\n",
       "      <th></th>\n",
       "      <th></th>\n",
       "      <th></th>\n",
       "    </tr>\n",
       "  </thead>\n",
       "  <tbody>\n",
       "    <tr>\n",
       "      <th>2</th>\n",
       "      <td>NaN</td>\n",
       "      <td>NaN</td>\n",
       "      <td>NaN</td>\n",
       "    </tr>\n",
       "    <tr>\n",
       "      <th>4</th>\n",
       "      <td>NaN</td>\n",
       "      <td>NaN</td>\n",
       "      <td>NaN</td>\n",
       "    </tr>\n",
       "    <tr>\n",
       "      <th>6</th>\n",
       "      <td>NaN</td>\n",
       "      <td>NaN</td>\n",
       "      <td>NaN</td>\n",
       "    </tr>\n",
       "  </tbody>\n",
       "</table>\n",
       "</div>"
      ],
      "text/plain": [
       "         entrena test tiempo\n",
       "neuronas                    \n",
       "2            NaN  NaN    NaN\n",
       "4            NaN  NaN    NaN\n",
       "6            NaN  NaN    NaN"
      ]
     },
     "execution_count": 23,
     "metadata": {},
     "output_type": "execute_result"
    }
   ],
   "source": [
    "resultados=pd.DataFrame(index=range(2,7,2), columns=[\"entrena\",\"test\",\"tiempo\"])\n",
    "resultados.index.name=\"neuronas\"\n",
    "resultados"
   ]
  },
  {
   "cell_type": "code",
   "execution_count": 13,
   "metadata": {},
   "outputs": [],
   "source": [
    "from sklearn.model_selection import StratifiedKFold\n",
    "from sklearn.neural_network import MLPClassifier\n",
    "import time\n",
    "K=10\n",
    "skf=StratifiedKFold(n_splits=K)"
   ]
  },
  {
   "cell_type": "code",
   "execution_count": 24,
   "metadata": {},
   "outputs": [
    {
     "name": "stderr",
     "output_type": "stream",
     "text": [
      "c:\\Users\\jmlozanoo\\AppData\\Local\\Programs\\Python\\Python311\\Lib\\site-packages\\sklearn\\neural_network\\_multilayer_perceptron.py:686: ConvergenceWarning: Stochastic Optimizer: Maximum iterations (1000) reached and the optimization hasn't converged yet.\n",
      "  warnings.warn(\n"
     ]
    }
   ],
   "source": [
    "#FM FRR\n",
    "for  h in resultados.index:\n",
    "    r_fold=pd.DataFrame(columns=[\"fold\",\"entrena\",\"test\",\"tiempo\"])\n",
    "    mlp=MLPClassifier(hidden_layer_sizes=h,max_iter=1000)\n",
    "    k=0\n",
    "    for train_index, test_index in skf.split(X,y):\n",
    "        comienzo=time.time()\n",
    "        mlp.fit(X[train_index],y[train_index])\n",
    "        r_fold.loc[k]=[k,mlp.score(X[train_index],y[train_index]),mlp.score(X[test_index],y[test_index]),time.time()-comienzo]\n",
    "        k+=1\n",
    "    resultados.loc[h]=[r_fold.mean()[1],r_fold.mean()[2],r_fold.sum()[3]]"
   ]
  },
  {
   "cell_type": "code",
   "execution_count": 25,
   "metadata": {},
   "outputs": [
    {
     "data": {
      "text/html": [
       "<div>\n",
       "<style scoped>\n",
       "    .dataframe tbody tr th:only-of-type {\n",
       "        vertical-align: middle;\n",
       "    }\n",
       "\n",
       "    .dataframe tbody tr th {\n",
       "        vertical-align: top;\n",
       "    }\n",
       "\n",
       "    .dataframe thead th {\n",
       "        text-align: right;\n",
       "    }\n",
       "</style>\n",
       "<table border=\"1\" class=\"dataframe\">\n",
       "  <thead>\n",
       "    <tr style=\"text-align: right;\">\n",
       "      <th></th>\n",
       "      <th>entrena</th>\n",
       "      <th>test</th>\n",
       "      <th>tiempo</th>\n",
       "    </tr>\n",
       "    <tr>\n",
       "      <th>neuronas</th>\n",
       "      <th></th>\n",
       "      <th></th>\n",
       "      <th></th>\n",
       "    </tr>\n",
       "  </thead>\n",
       "  <tbody>\n",
       "    <tr>\n",
       "      <th>2</th>\n",
       "      <td>0.983279</td>\n",
       "      <td>0.979287</td>\n",
       "      <td>8.816252</td>\n",
       "    </tr>\n",
       "    <tr>\n",
       "      <th>4</th>\n",
       "      <td>0.992004</td>\n",
       "      <td>0.987776</td>\n",
       "      <td>4.204152</td>\n",
       "    </tr>\n",
       "    <tr>\n",
       "      <th>6</th>\n",
       "      <td>0.992579</td>\n",
       "      <td>0.98448</td>\n",
       "      <td>4.358194</td>\n",
       "    </tr>\n",
       "  </tbody>\n",
       "</table>\n",
       "</div>"
      ],
      "text/plain": [
       "           entrena      test    tiempo\n",
       "neuronas                              \n",
       "2         0.983279  0.979287  8.816252\n",
       "4         0.992004  0.987776  4.204152\n",
       "6         0.992579   0.98448  4.358194"
      ]
     },
     "execution_count": 25,
     "metadata": {},
     "output_type": "execute_result"
    }
   ],
   "source": [
    "resultados"
   ]
  }
 ],
 "metadata": {
  "kernelspec": {
   "display_name": "Python 3",
   "language": "python",
   "name": "python3"
  },
  "language_info": {
   "codemirror_mode": {
    "name": "ipython",
    "version": 3
   },
   "file_extension": ".py",
   "mimetype": "text/x-python",
   "name": "python",
   "nbconvert_exporter": "python",
   "pygments_lexer": "ipython3",
   "version": "3.11.2"
  },
  "orig_nbformat": 4
 },
 "nbformat": 4,
 "nbformat_minor": 2
}
