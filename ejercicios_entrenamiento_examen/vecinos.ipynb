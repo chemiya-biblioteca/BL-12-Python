{
 "cells": [
  {
   "cell_type": "code",
   "execution_count": 1,
   "metadata": {},
   "outputs": [],
   "source": [
    "#FXFKA\n",
    "from sklearn.datasets import load_digits\n",
    "import pandas as pd\n",
    "from sklearn.model_selection import train_test_split"
   ]
  },
  {
   "cell_type": "code",
   "execution_count": 2,
   "metadata": {},
   "outputs": [],
   "source": [
    "digits=load_digits()"
   ]
  },
  {
   "cell_type": "code",
   "execution_count": 3,
   "metadata": {},
   "outputs": [],
   "source": [
    "X=digits.data"
   ]
  },
  {
   "cell_type": "code",
   "execution_count": 4,
   "metadata": {},
   "outputs": [],
   "source": [
    "y=digits.target"
   ]
  },
  {
   "cell_type": "code",
   "execution_count": 5,
   "metadata": {},
   "outputs": [],
   "source": [
    "from sklearn.preprocessing import MinMaxScaler\n",
    "minmax=MinMaxScaler()\n",
    "X=minmax.fit_transform(X)"
   ]
  },
  {
   "cell_type": "code",
   "execution_count": 8,
   "metadata": {},
   "outputs": [],
   "source": [
    "from sklearn.neighbors import KNeighborsClassifier\n",
    "import numpy as np\n",
    "resultados=np.zeros((10,6))"
   ]
  },
  {
   "cell_type": "code",
   "execution_count": 18,
   "metadata": {},
   "outputs": [
    {
     "data": {
      "text/plain": [
       "array([[0.98664441, 0.98998331, 0.97328881, 0.97829716, 0.97662771,\n",
       "        0.98163606],\n",
       "       [0.98664441, 0.98497496, 0.98163606, 0.98664441, 0.98497496,\n",
       "        0.98831386],\n",
       "       [0.99165275, 0.98998331, 0.98163606, 0.98330551, 0.97996661,\n",
       "        0.98330551],\n",
       "       [0.98163606, 0.98330551, 0.98330551, 0.98330551, 0.97996661,\n",
       "        0.98163606],\n",
       "       [0.98330551, 0.98497496, 0.98330551, 0.98664441, 0.98163606,\n",
       "        0.98497496],\n",
       "       [0.99165275, 0.9933222 , 0.98998331, 0.98998331, 0.98831386,\n",
       "        0.98664441],\n",
       "       [0.97662771, 0.98163606, 0.97996661, 0.97829716, 0.97662771,\n",
       "        0.97662771],\n",
       "       [0.97996661, 0.98831386, 0.97328881, 0.97662771, 0.97328881,\n",
       "        0.97996661],\n",
       "       [0.98664441, 0.98497496, 0.98998331, 0.99165275, 0.98831386,\n",
       "        0.98998331],\n",
       "       [0.98831386, 0.98831386, 0.98998331, 0.98998331, 0.98998331,\n",
       "        0.98998331]])"
      ]
     },
     "execution_count": 18,
     "metadata": {},
     "output_type": "execute_result"
    }
   ],
   "source": [
    "for i in range(10):\n",
    "    X_train,X_test,y_train,y_test=train_test_split(X,y,test_size=1/3,stratify=y)\n",
    "    for k in range(2,6):\n",
    "        knei=KNeighborsClassifier(n_neighbors=int(k))\n",
    "        knei.fit(X_train,y_train)\n",
    "        puntuacion=knei.score(X_test,y_test)\n",
    "        resultados[i,k]=puntuacion\n",
    "\n",
    "resultados\n",
    "        "
   ]
  },
  {
   "cell_type": "code",
   "execution_count": 19,
   "metadata": {},
   "outputs": [
    {
     "data": {
      "text/plain": [
       "(6,)"
      ]
     },
     "execution_count": 19,
     "metadata": {},
     "output_type": "execute_result"
    }
   ],
   "source": [
    "medias=np.mean(resultados,axis=0)\n",
    "medias.shape"
   ]
  },
  {
   "cell_type": "code",
   "execution_count": 20,
   "metadata": {},
   "outputs": [
    {
     "data": {
      "image/png": "[encoded data removed]",
      "text/plain": [
       "<Figure size 640x480 with 1 Axes>"
      ]
     },
     "metadata": {},
     "output_type": "display_data"
    }
   ],
   "source": [
    "import matplotlib.pyplot as plt\n",
    "plt.bar(np.arange(2,8),medias)\n",
    "plt.show()"
   ]
  }
 ],
 "metadata": {
  "kernelspec": {
   "display_name": "Python 3",
   "language": "python",
   "name": "python3"
  },
  "language_info": {
   "codemirror_mode": {
    "name": "ipython",
    "version": 3
   },
   "file_extension": ".py",
   "mimetype": "text/x-python",
   "name": "python",
   "nbconvert_exporter": "python",
   "pygments_lexer": "ipython3",
   "version": "3.11.2"
  },
  "orig_nbformat": 4
 },
 "nbformat": 4,
 "nbformat_minor": 2
}
