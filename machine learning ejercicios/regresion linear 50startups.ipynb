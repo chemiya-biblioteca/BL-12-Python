{
  "cells": [
    {
      "cell_type": "code",
      "execution_count": 2,
      "metadata": {
        "colab": {
          "base_uri": "https://localhost:8080/",
          "height": 452
        },
        "colab_type": "code",
        "id": "cxeJEWVYRel_",
        "outputId": "f549b157-9613-45e8-bfe7-82970897af5e"
      },
      "outputs": [],
      "source": [
        "#importing the libraries\n",
        "\n",
        "\n",
        "import numpy as np\n",
        "import matplotlib.pyplot as plt\n",
        "import pandas as pd\n",
        "\n",
        "#import data set\n",
        "\n",
        "\n"
      ]
    },
    {
      "cell_type": "code",
      "execution_count": 3,
      "metadata": {},
      "outputs": [],
      "source": [
        "dataset = pd.read_csv('50_Startups.csv')\n",
        "X = dataset.iloc[:,:-1].values\n",
        "y =dataset.iloc[:,4].values"
      ]
    },
    {
      "cell_type": "code",
      "execution_count": 5,
      "metadata": {},
      "outputs": [],
      "source": [
        "# encoding category data and independant variable\n",
        "#USE label encoder /one heart encoder to encode the string variables to numeric\n",
        "#state column replaced by 3 dummy  variable colimns\n",
        "from sklearn.preprocessing import LabelEncoder, OneHotEncoder\n",
        "labelencoder_X = LabelEncoder()\n",
        "X[:, 3] = labelencoder_X.fit_transform(X[:, 3]) # LABEL ENCODER CHANGE TEXT TO NUMBER\n",
        "onehotencoder = OneHotEncoder()\n",
        "X = onehotencoder.fit_transform(X).toarray()  \n",
        "#Avoid dummy variable to remove one dummy variable manually - remove redundant dependancy\n",
        "X = X[:, 1:] # elimating 0 th column"
      ]
    },
    {
      "cell_type": "code",
      "execution_count": 6,
      "metadata": {},
      "outputs": [],
      "source": [
        "# Splitting data set into training set and testing set\n",
        "\n",
        "from sklearn.model_selection import train_test_split\n",
        "X_train, X_test, y_train, y_test = train_test_split(X,y, test_size =0.2, random_state = 0)"
      ]
    },
    {
      "cell_type": "code",
      "execution_count": 7,
      "metadata": {},
      "outputs": [],
      "source": [
        "#no feature scaling as library will take care of it\n",
        "\n",
        "# fitting multiple linear regression to training set\n",
        "from sklearn.linear_model import LinearRegression\n",
        "regressor = LinearRegression()\n",
        "regressor.fit(X_train, y_train)\n",
        "\n",
        "#Predict testset results\n",
        "\n",
        "y_pred = regressor.predict(X_test)"
      ]
    },
    {
      "cell_type": "code",
      "execution_count": 8,
      "metadata": {},
      "outputs": [
        {
          "name": "stdout",
          "output_type": "stream",
          "text": [
            "Mean absolute error 33231.84048762478\n",
            "Mean squared error 1620102725.9251294\n",
            "root Mean squared error 1620102725.9251294\n"
          ]
        },
        {
          "data": {
            "image/png": "[encoded data removed]",
            "text/plain": [
              "<Figure size 432x288 with 1 Axes>"
            ]
          },
          "metadata": {
            "needs_background": "light"
          },
          "output_type": "display_data"
        }
      ],
      "source": [
        "#Plotting train set results\n",
        "#plt.scatter(X_test,y_test,color='red')\n",
        "plt.scatter(y_test, regressor.predict(X_test), color='black')\n",
        "\n",
        "from sklearn import metrics\n",
        "print(\"Mean absolute error\",metrics.mean_absolute_error(y_test,y_pred))\n",
        "print(\"Mean squared error\",metrics.mean_squared_error(y_test,y_pred))\n",
        "print(\"root Mean squared error\",metrics.mean_squared_error(y_test,y_pred))"
      ]
    }
  ],
  "metadata": {
    "colab": {
      "include_colab_link": true,
      "name": "MultipleLinearRegression.ipynb",
      "provenance": [],
      "version": "0.3.2"
    },
    "kernelspec": {
      "display_name": "Python 3",
      "language": "python",
      "name": "python3"
    },
    "language_info": {
      "codemirror_mode": {
        "name": "ipython",
        "version": 3
      },
      "file_extension": ".py",
      "mimetype": "text/x-python",
      "name": "python",
      "nbconvert_exporter": "python",
      "pygments_lexer": "ipython3",
      "version": "3.10.5 (tags/v3.10.5:f377153, Jun  6 2022, 16:14:13) [MSC v.1929 64 bit (AMD64)]"
    },
    "vscode": {
      "interpreter": {
        "hash": "6a99fcdf587a9b7f60090dd3b730569266bf09a8a4c6a3d9d62687823b8d432a"
      }
    }
  },
  "nbformat": 4,
  "nbformat_minor": 0
}
