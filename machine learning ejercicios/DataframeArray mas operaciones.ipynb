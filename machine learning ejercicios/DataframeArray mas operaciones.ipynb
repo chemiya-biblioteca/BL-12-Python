{
 "cells": [
  {
   "cell_type": "code",
   "execution_count": 1,
   "id": "081e5cc5",
   "metadata": {},
   "outputs": [],
   "source": [
    "import pandas as pd\n",
    "import numpy as np"
   ]
  },
  {
   "cell_type": "code",
   "execution_count": 2,
   "id": "b75ab776",
   "metadata": {},
   "outputs": [],
   "source": [
    "datos={\n",
    "    \"calorias\":[345,234,22,334],\n",
    "    \"comida\":[34,22,34,22]\n",
    "    \n",
    "    \n",
    "}"
   ]
  },
  {
   "cell_type": "code",
   "execution_count": 3,
   "id": "893b8f47",
   "metadata": {},
   "outputs": [],
   "source": [
    "df=pd.DataFrame(datos)"
   ]
  },
  {
   "cell_type": "code",
   "execution_count": 4,
   "id": "68cd59aa",
   "metadata": {},
   "outputs": [
    {
     "name": "stdout",
     "output_type": "stream",
     "text": [
      "<class 'pandas.core.frame.DataFrame'>\n"
     ]
    }
   ],
   "source": [
    "print(type(df))"
   ]
  },
  {
   "cell_type": "code",
   "execution_count": 5,
   "id": "e0659f35",
   "metadata": {},
   "outputs": [
    {
     "name": "stdout",
     "output_type": "stream",
     "text": [
      "0    345\n",
      "1    234\n",
      "2     22\n",
      "3    334\n",
      "Name: calorias, dtype: int64\n"
     ]
    }
   ],
   "source": [
    "primera=df.iloc[:,0]\n",
    "print(primera)"
   ]
  },
  {
   "cell_type": "code",
   "execution_count": 6,
   "id": "30a4a3ec",
   "metadata": {},
   "outputs": [
    {
     "name": "stdout",
     "output_type": "stream",
     "text": [
      "   calorias  comida\n",
      "0       345      34\n",
      "1       234      22\n",
      "2        22      34\n",
      "3       334      22\n"
     ]
    }
   ],
   "source": [
    "primera=df.iloc[:,0:2]\n",
    "print(primera)"
   ]
  },
  {
   "cell_type": "code",
   "execution_count": 7,
   "id": "5651aa72",
   "metadata": {},
   "outputs": [
    {
     "name": "stdout",
     "output_type": "stream",
     "text": [
      "calorias    345\n",
      "comida       34\n",
      "Name: 0, dtype: int64\n"
     ]
    }
   ],
   "source": [
    "primera=df.iloc[0]\n",
    "print(primera)"
   ]
  },
  {
   "cell_type": "code",
   "execution_count": 8,
   "id": "1663a949",
   "metadata": {},
   "outputs": [
    {
     "name": "stdout",
     "output_type": "stream",
     "text": [
      "   calorias  comida\n",
      "0       345      34\n",
      "1       234      22\n"
     ]
    }
   ],
   "source": [
    "primera=df.iloc[0:2]\n",
    "print(primera)"
   ]
  },
  {
   "cell_type": "code",
   "execution_count": 10,
   "id": "0431cfec",
   "metadata": {},
   "outputs": [],
   "source": [
    "array=np.array([[1,2,3],[4,5,6]])"
   ]
  },
  {
   "cell_type": "code",
   "execution_count": 13,
   "id": "3fb90e4e",
   "metadata": {},
   "outputs": [],
   "source": [
    "array1=array.reshape(3,2)"
   ]
  },
  {
   "cell_type": "code",
   "execution_count": 14,
   "id": "1c0d6369",
   "metadata": {},
   "outputs": [
    {
     "name": "stdout",
     "output_type": "stream",
     "text": [
      "[[1 2]\n",
      " [3 4]\n",
      " [5 6]]\n"
     ]
    }
   ],
   "source": [
    "print(array1)"
   ]
  },
  {
   "cell_type": "code",
   "execution_count": 16,
   "id": "0115bdc7",
   "metadata": {},
   "outputs": [
    {
     "name": "stdout",
     "output_type": "stream",
     "text": [
      "   0  1\n",
      "0  1  2\n",
      "1  3  4\n",
      "2  5  6\n"
     ]
    }
   ],
   "source": [
    "df1=pd.DataFrame(array1)\n",
    "print(df1)"
   ]
  },
  {
   "cell_type": "code",
   "execution_count": 18,
   "id": "846cf7a1",
   "metadata": {},
   "outputs": [],
   "source": [
    "arr1=df1.to_numpy()"
   ]
  },
  {
   "cell_type": "code",
   "execution_count": 19,
   "id": "37f0cb9b",
   "metadata": {},
   "outputs": [
    {
     "name": "stdout",
     "output_type": "stream",
     "text": [
      "[[1 2]\n",
      " [3 4]\n",
      " [5 6]]\n"
     ]
    }
   ],
   "source": [
    "print(arr1)"
   ]
  },
  {
   "cell_type": "code",
   "execution_count": null,
   "id": "ff7b5bbc",
   "metadata": {},
   "outputs": [],
   "source": []
  }
 ],
 "metadata": {
  "kernelspec": {
   "display_name": "Python 3",
   "language": "python",
   "name": "python3"
  },
  "language_info": {
   "codemirror_mode": {
    "name": "ipython",
    "version": 3
   },
   "file_extension": ".py",
   "mimetype": "text/x-python",
   "name": "python",
   "nbconvert_exporter": "python",
   "pygments_lexer": "ipython3",
   "version": "3.10.5 (tags/v3.10.5:f377153, Jun  6 2022, 16:14:13) [MSC v.1929 64 bit (AMD64)]"
  },
  "vscode": {
   "interpreter": {
    "hash": "6a99fcdf587a9b7f60090dd3b730569266bf09a8a4c6a3d9d62687823b8d432a"
   }
  }
 },
 "nbformat": 4,
 "nbformat_minor": 5
}
