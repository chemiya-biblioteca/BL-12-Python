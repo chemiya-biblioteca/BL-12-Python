{
 "cells": [
  {
   "cell_type": "code",
   "execution_count": 23,
   "id": "be1ba318",
   "metadata": {},
   "outputs": [],
   "source": [
    "from sklearn.datasets import load_iris\n",
    "from sklearn.model_selection import train_test_split\n",
    "from sklearn.tree import DecisionTreeClassifier\n",
    "from sklearn.metrics import accuracy_score,confusion_matrix,precision_score"
   ]
  },
  {
   "cell_type": "code",
   "execution_count": 24,
   "id": "0a371280",
   "metadata": {},
   "outputs": [],
   "source": [
    "iris=load_iris()#cargo los datos"
   ]
  },
  {
   "cell_type": "code",
   "execution_count": 25,
   "id": "e511310f",
   "metadata": {},
   "outputs": [],
   "source": [
    "X_train,X_test,y_train,y_test=train_test_split(iris.data,iris.target,train_size=2/3,stratify=iris.target)#separo los datos"
   ]
  },
  {
   "cell_type": "code",
   "execution_count": 26,
   "id": "22bcd702",
   "metadata": {},
   "outputs": [],
   "source": [
    "clf=DecisionTreeClassifier()#defino el algoritmo"
   ]
  },
  {
   "cell_type": "code",
   "execution_count": 27,
   "id": "3dabd6c9",
   "metadata": {},
   "outputs": [
    {
     "data": {
      "text/html": [
       "<style>#sk-container-id-2 {color: black;background-color: white;}#sk-container-id-2 pre{padding: 0;}#sk-container-id-2 div.sk-toggleable {background-color: white;}#sk-container-id-2 label.sk-toggleable__label {cursor: pointer;display: block;width: 100%;margin-bottom: 0;padding: 0.3em;box-sizing: border-box;text-align: center;}#sk-container-id-2 label.sk-toggleable__label-arrow:before {content: \"▸\";float: left;margin-right: 0.25em;color: #696969;}#sk-container-id-2 label.sk-toggleable__label-arrow:hover:before {color: black;}#sk-container-id-2 div.sk-estimator:hover label.sk-toggleable__label-arrow:before {color: black;}#sk-container-id-2 div.sk-toggleable__content {max-height: 0;max-width: 0;overflow: hidden;text-align: left;background-color: #f0f8ff;}#sk-container-id-2 div.sk-toggleable__content pre {margin: 0.2em;color: black;border-radius: 0.25em;background-color: #f0f8ff;}#sk-container-id-2 input.sk-toggleable__control:checked~div.sk-toggleable__content {max-height: 200px;max-width: 100%;overflow: auto;}#sk-container-id-2 input.sk-toggleable__control:checked~label.sk-toggleable__label-arrow:before {content: \"▾\";}#sk-container-id-2 div.sk-estimator input.sk-toggleable__control:checked~label.sk-toggleable__label {background-color: #d4ebff;}#sk-container-id-2 div.sk-label input.sk-toggleable__control:checked~label.sk-toggleable__label {background-color: #d4ebff;}#sk-container-id-2 input.sk-hidden--visually {border: 0;clip: rect(1px 1px 1px 1px);clip: rect(1px, 1px, 1px, 1px);height: 1px;margin: -1px;overflow: hidden;padding: 0;position: absolute;width: 1px;}#sk-container-id-2 div.sk-estimator {font-family: monospace;background-color: #f0f8ff;border: 1px dotted black;border-radius: 0.25em;box-sizing: border-box;margin-bottom: 0.5em;}#sk-container-id-2 div.sk-estimator:hover {background-color: #d4ebff;}#sk-container-id-2 div.sk-parallel-item::after {content: \"\";width: 100%;border-bottom: 1px solid gray;flex-grow: 1;}#sk-container-id-2 div.sk-label:hover label.sk-toggleable__label {background-color: #d4ebff;}#sk-container-id-2 div.sk-serial::before {content: \"\";position: absolute;border-left: 1px solid gray;box-sizing: border-box;top: 0;bottom: 0;left: 50%;z-index: 0;}#sk-container-id-2 div.sk-serial {display: flex;flex-direction: column;align-items: center;background-color: white;padding-right: 0.2em;padding-left: 0.2em;position: relative;}#sk-container-id-2 div.sk-item {position: relative;z-index: 1;}#sk-container-id-2 div.sk-parallel {display: flex;align-items: stretch;justify-content: center;background-color: white;position: relative;}#sk-container-id-2 div.sk-item::before, #sk-container-id-2 div.sk-parallel-item::before {content: \"\";position: absolute;border-left: 1px solid gray;box-sizing: border-box;top: 0;bottom: 0;left: 50%;z-index: -1;}#sk-container-id-2 div.sk-parallel-item {display: flex;flex-direction: column;z-index: 1;position: relative;background-color: white;}#sk-container-id-2 div.sk-parallel-item:first-child::after {align-self: flex-end;width: 50%;}#sk-container-id-2 div.sk-parallel-item:last-child::after {align-self: flex-start;width: 50%;}#sk-container-id-2 div.sk-parallel-item:only-child::after {width: 0;}#sk-container-id-2 div.sk-dashed-wrapped {border: 1px dashed gray;margin: 0 0.4em 0.5em 0.4em;box-sizing: border-box;padding-bottom: 0.4em;background-color: white;}#sk-container-id-2 div.sk-label label {font-family: monospace;font-weight: bold;display: inline-block;line-height: 1.2em;}#sk-container-id-2 div.sk-label-container {text-align: center;}#sk-container-id-2 div.sk-container {/* jupyter's `normalize.less` sets `[hidden] { display: none; }` but bootstrap.min.css set `[hidden] { display: none !important; }` so we also need the `!important` here to be able to override the default hidden behavior on the sphinx rendered scikit-learn.org. See: https://github.com/scikit-learn/scikit-learn/issues/21755 */display: inline-block !important;position: relative;}#sk-container-id-2 div.sk-text-repr-fallback {display: none;}</style><div id=\"sk-container-id-2\" class=\"sk-top-container\"><div class=\"sk-text-repr-fallback\"><pre>DecisionTreeClassifier()</pre><b>In a Jupyter environment, please rerun this cell to show the HTML representation or trust the notebook. <br />On GitHub, the HTML representation is unable to render, please try loading this page with nbviewer.org.</b></div><div class=\"sk-container\" hidden><div class=\"sk-item\"><div class=\"sk-estimator sk-toggleable\"><input class=\"sk-toggleable__control sk-hidden--visually\" id=\"sk-estimator-id-2\" type=\"checkbox\" checked><label for=\"sk-estimator-id-2\" class=\"sk-toggleable__label sk-toggleable__label-arrow\">DecisionTreeClassifier</label><div class=\"sk-toggleable__content\"><pre>DecisionTreeClassifier()</pre></div></div></div></div></div>"
      ],
      "text/plain": [
       "DecisionTreeClassifier()"
      ]
     },
     "execution_count": 27,
     "metadata": {},
     "output_type": "execute_result"
    }
   ],
   "source": [
    "clf.fit(X_train,y_train)# entreno el modelo"
   ]
  },
  {
   "cell_type": "code",
   "execution_count": 28,
   "id": "8d92208b",
   "metadata": {},
   "outputs": [],
   "source": [
    "y_test_pred=clf.predict(X_test)#hago la predicion"
   ]
  },
  {
   "cell_type": "code",
   "execution_count": 29,
   "id": "ac0c759d",
   "metadata": {},
   "outputs": [
    {
     "name": "stdout",
     "output_type": "stream",
     "text": [
      "0.92\n"
     ]
    }
   ],
   "source": [
    "sc=accuracy_score(y_test_pred,y_test)\n",
    "print(sc)"
   ]
  },
  {
   "cell_type": "code",
   "execution_count": 30,
   "id": "2d4bbdfe",
   "metadata": {},
   "outputs": [],
   "source": [
    "import pandas as pd"
   ]
  },
  {
   "cell_type": "code",
   "execution_count": 31,
   "id": "58668db7",
   "metadata": {},
   "outputs": [
    {
     "name": "stdout",
     "output_type": "stream",
     "text": [
      "    Prediccion  Original\n",
      "0            2         2\n",
      "1            0         0\n",
      "2            0         0\n",
      "3            1         1\n",
      "4            0         0\n",
      "5            2         2\n",
      "6            2         1\n",
      "7            1         1\n",
      "8            1         1\n",
      "9            1         1\n",
      "10           1         1\n",
      "11           1         1\n",
      "12           2         1\n",
      "13           0         0\n",
      "14           1         1\n",
      "15           0         0\n",
      "16           1         1\n",
      "17           2         2\n",
      "18           2         2\n",
      "19           2         2\n",
      "20           1         2\n",
      "21           0         0\n",
      "22           2         2\n",
      "23           0         0\n",
      "24           0         0\n",
      "25           0         0\n",
      "26           0         0\n",
      "27           1         1\n",
      "28           2         1\n",
      "29           2         2\n",
      "30           1         1\n",
      "31           1         1\n",
      "32           2         2\n",
      "33           1         1\n",
      "34           2         2\n",
      "35           0         0\n",
      "36           2         2\n",
      "37           2         2\n",
      "38           0         0\n",
      "39           2         2\n",
      "40           2         2\n",
      "41           0         0\n",
      "42           2         2\n",
      "43           0         0\n",
      "44           2         2\n",
      "45           1         1\n",
      "46           0         0\n",
      "47           0         0\n",
      "48           1         1\n",
      "49           0         0\n"
     ]
    }
   ],
   "source": [
    "juntos = pd.DataFrame(list(zip(y_test_pred, y_test)),columns =['Prediccion', 'Original'])\n",
    "print(juntos)#zip junta en un iterador y empareja las muestras"
   ]
  },
  {
   "cell_type": "code",
   "execution_count": 32,
   "id": "6d92f024",
   "metadata": {},
   "outputs": [],
   "source": [
    "juntos[\"Diferente\"]=0#inserta fila con ceros"
   ]
  },
  {
   "cell_type": "code",
   "execution_count": 33,
   "id": "fa0ad315",
   "metadata": {},
   "outputs": [],
   "source": [
    "for i in range(len(juntos)):\n",
    "    if(juntos.iloc[i][\"Prediccion\"]!=juntos.iloc[i][\"Original\"]):#recorro elementos y los comparo\n",
    "        juntos.at[i,\"Diferente\"]=1#pongo en la celda 1\n",
    "\n",
    "    \n",
    "        "
   ]
  },
  {
   "cell_type": "code",
   "execution_count": 34,
   "id": "b6722167",
   "metadata": {},
   "outputs": [],
   "source": [
    "cantidad=len(juntos)\n",
    "\n",
    "#agrupa por diferente y los cuenta\n",
    "df2 = juntos.groupby([\"Diferente\"])[\"Diferente\"].count()\n"
   ]
  },
  {
   "cell_type": "code",
   "execution_count": 35,
   "id": "c3dc08da",
   "metadata": {},
   "outputs": [
    {
     "name": "stdout",
     "output_type": "stream",
     "text": [
      "La proporcion es de:  0.92\n"
     ]
    }
   ],
   "source": [
    "\n",
    "prop=df2.iloc[0]/cantidad#divido los correctos entre todos\n",
    "print(\"La proporcion es de: \",prop)\n"
   ]
  },
  {
   "cell_type": "code",
   "execution_count": 36,
   "id": "509d1e48",
   "metadata": {},
   "outputs": [
    {
     "name": "stdout",
     "output_type": "stream",
     "text": [
      "[[17  0  0]\n",
      " [ 0 14  1]\n",
      " [ 0  3 15]]\n"
     ]
    }
   ],
   "source": [
    "confusion_matrix=confusion_matrix(y_test_pred,y_test)#matriz de confusion con los orginales y los de test\n",
    "print(confusion_matrix)\n"
   ]
  },
  {
   "cell_type": "code",
   "execution_count": 37,
   "id": "3297ed6e",
   "metadata": {},
   "outputs": [
    {
     "data": {
      "image/png": "[encoded data removed]",
      "text/plain": [
       "<Figure size 432x288 with 2 Axes>"
      ]
     },
     "metadata": {
      "needs_background": "light"
     },
     "output_type": "display_data"
    }
   ],
   "source": [
    "from sklearn import metrics\n",
    "import matplotlib.pyplot as plt\n",
    "cm_display = metrics.ConfusionMatrixDisplay(confusion_matrix = confusion_matrix, display_labels = [0,1,2])\n",
    "cm_display.plot()\n",
    "plt.show()"
   ]
  },
  {
   "cell_type": "code",
   "execution_count": null,
   "id": "ddb09bd2",
   "metadata": {},
   "outputs": [],
   "source": [
    "#fila de arriba: true positives, false positive\n",
    "#fila de abajo: false negatives, true negative\n",
    "#false positive: predijo true y era false\n",
    "#false negative: predijo false y era true"
   ]
  },
  {
   "cell_type": "code",
   "execution_count": null,
   "id": "6e60db5c",
   "metadata": {},
   "outputs": [],
   "source": []
  }
 ],
 "metadata": {
  "kernelspec": {
   "display_name": "Python 3 (ipykernel)",
   "language": "python",
   "name": "python3"
  },
  "language_info": {
   "codemirror_mode": {
    "name": "ipython",
    "version": 3
   },
   "file_extension": ".py",
   "mimetype": "text/x-python",
   "name": "python",
   "nbconvert_exporter": "python",
   "pygments_lexer": "ipython3",
   "version": "3.10.5"
  }
 },
 "nbformat": 4,
 "nbformat_minor": 5
}
