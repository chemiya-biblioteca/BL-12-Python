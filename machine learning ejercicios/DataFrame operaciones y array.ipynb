{
 "cells": [
  {
   "cell_type": "code",
   "execution_count": 3,
   "id": "d815a4fe",
   "metadata": {},
   "outputs": [],
   "source": [
    "import pandas as pd"
   ]
  },
  {
   "cell_type": "code",
   "execution_count": 4,
   "id": "6b492753",
   "metadata": {},
   "outputs": [],
   "source": [
    "#crear dataframe\n",
    "#data={\"\":[,,,]}\n",
    "\n",
    "data = {\n",
    "  \"calories\": [420, 380, 390],\n",
    "  \"duration\": [50, 40, 45]\n",
    "}"
   ]
  },
  {
   "cell_type": "code",
   "execution_count": 5,
   "id": "39f1e805",
   "metadata": {},
   "outputs": [
    {
     "name": "stdout",
     "output_type": "stream",
     "text": [
      "   calories  duration\n",
      "0       420        50\n",
      "1       380        40\n",
      "2       390        45\n"
     ]
    }
   ],
   "source": [
    "#pd.DataFrame(datos)\n",
    "df = pd.DataFrame(data)\n",
    "\n",
    "print(df) "
   ]
  },
  {
   "cell_type": "code",
   "execution_count": 6,
   "id": "83141dc7",
   "metadata": {},
   "outputs": [
    {
     "name": "stdout",
     "output_type": "stream",
     "text": [
      "<class 'pandas.core.frame.DataFrame'>\n",
      "(3, 2)\n"
     ]
    }
   ],
   "source": [
    "#type(algo)\n",
    "print(type(df))\n",
    "#df.shape\n",
    "print(df.shape)"
   ]
  },
  {
   "cell_type": "code",
   "execution_count": 11,
   "id": "6ff0c558",
   "metadata": {},
   "outputs": [
    {
     "name": "stdout",
     "output_type": "stream",
     "text": [
      "0    420\n",
      "1    380\n",
      "2    390\n",
      "Name: calories, dtype: int64\n",
      "   calories  duration\n",
      "0       420        50\n",
      "1       380        40\n",
      "2       390        45\n",
      "calories    380\n",
      "duration     40\n",
      "Name: 1, dtype: int64\n",
      "   calories  duration\n",
      "1       380        40\n",
      "2       390        45\n"
     ]
    }
   ],
   "source": [
    "#primera columna\n",
    "primera=df.iloc[:,0]\n",
    "print(primera)\n",
    "primera1=df.iloc[:,0:2]\n",
    "print(primera1)\n",
    "primera2=df.iloc[1]\n",
    "print(primera2)\n",
    "primera3=df.iloc[1:3]\n",
    "print(primera3)"
   ]
  },
  {
   "cell_type": "code",
   "execution_count": 12,
   "id": "433e5099",
   "metadata": {},
   "outputs": [
    {
     "name": "stdout",
     "output_type": "stream",
     "text": [
      "   duration\n",
      "0        50\n",
      "1        40\n",
      "2        45\n"
     ]
    }
   ],
   "source": [
    "#eliminar columna\n",
    "df1=df.drop(columns=[\"calories\"])\n",
    "print(df1)"
   ]
  },
  {
   "cell_type": "code",
   "execution_count": 13,
   "id": "b0875bd0",
   "metadata": {},
   "outputs": [],
   "source": [
    "import numpy as np"
   ]
  },
  {
   "cell_type": "code",
   "execution_count": 14,
   "id": "15486fc7",
   "metadata": {},
   "outputs": [],
   "source": [
    "#crear array\n",
    "#np.array([[,,,],[]])\n",
    "arr = np.array([[0, 1, 2], [3, 4, 5]]) "
   ]
  },
  {
   "cell_type": "code",
   "execution_count": 15,
   "id": "3acad8a3",
   "metadata": {},
   "outputs": [
    {
     "name": "stdout",
     "output_type": "stream",
     "text": [
      "[[0 1 2]\n",
      " [3 4 5]]\n",
      "<class 'numpy.ndarray'>\n"
     ]
    }
   ],
   "source": [
    "print(arr)\n",
    "\n",
    "print(type(arr))"
   ]
  },
  {
   "cell_type": "code",
   "execution_count": 16,
   "id": "a654ef74",
   "metadata": {},
   "outputs": [
    {
     "name": "stdout",
     "output_type": "stream",
     "text": [
      "(2, 3)\n"
     ]
    }
   ],
   "source": [
    "print(arr.shape)"
   ]
  },
  {
   "cell_type": "code",
   "execution_count": 17,
   "id": "b343a24c",
   "metadata": {},
   "outputs": [
    {
     "name": "stdout",
     "output_type": "stream",
     "text": [
      "[[0 1]\n",
      " [2 3]\n",
      " [4 5]]\n"
     ]
    }
   ],
   "source": [
    "#reshape\n",
    "array_nuevo=arr.reshape(3,2)\n",
    "print(array_nuevo)"
   ]
  },
  {
   "cell_type": "code",
   "execution_count": 18,
   "id": "e5501cb0",
   "metadata": {},
   "outputs": [],
   "source": [
    "#convertir\n",
    "df1=pd.DataFrame(array_nuevo,columns=[\"primer\",\"segun\"])"
   ]
  },
  {
   "cell_type": "code",
   "execution_count": 19,
   "id": "d9f305b1",
   "metadata": {},
   "outputs": [
    {
     "name": "stdout",
     "output_type": "stream",
     "text": [
      "   primer  segun\n",
      "0       0      1\n",
      "1       2      3\n",
      "2       4      5\n"
     ]
    }
   ],
   "source": [
    "print(df1)"
   ]
  },
  {
   "cell_type": "code",
   "execution_count": 21,
   "id": "88a064c0",
   "metadata": {},
   "outputs": [
    {
     "name": "stdout",
     "output_type": "stream",
     "text": [
      "<class 'numpy.ndarray'>\n",
      "[[0 1]\n",
      " [2 3]\n",
      " [4 5]]\n"
     ]
    }
   ],
   "source": [
    "nmp=df1.to_numpy()\n",
    "print(type(nmp))\n",
    "print(nmp)"
   ]
  },
  {
   "cell_type": "code",
   "execution_count": null,
   "id": "381069e1",
   "metadata": {},
   "outputs": [],
   "source": []
  }
 ],
 "metadata": {
  "kernelspec": {
   "display_name": "Python 3 (ipykernel)",
   "language": "python",
   "name": "python3"
  },
  "language_info": {
   "codemirror_mode": {
    "name": "ipython",
    "version": 3
   },
   "file_extension": ".py",
   "mimetype": "text/x-python",
   "name": "python",
   "nbconvert_exporter": "python",
   "pygments_lexer": "ipython3",
   "version": "3.10.5"
  }
 },
 "nbformat": 4,
 "nbformat_minor": 5
}
