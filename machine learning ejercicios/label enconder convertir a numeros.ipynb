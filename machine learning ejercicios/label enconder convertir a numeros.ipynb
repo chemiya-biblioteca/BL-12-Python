{
 "cells": [
  {
   "cell_type": "code",
   "execution_count": 16,
   "id": "652e8676",
   "metadata": {},
   "outputs": [],
   "source": [
    "#variables categoricas a numeros\n",
    "import pandas as pd\n",
    "from sklearn import preprocessing"
   ]
  },
  {
   "cell_type": "code",
   "execution_count": 17,
   "id": "7fb9c8f1",
   "metadata": {},
   "outputs": [],
   "source": [
    "df = pd.read_csv(\"weather.csv\")"
   ]
  },
  {
   "cell_type": "code",
   "execution_count": 18,
   "id": "a8555794",
   "metadata": {},
   "outputs": [
    {
     "name": "stdout",
     "output_type": "stream",
     "text": [
      "     outlook temperature humidity  windy play\n",
      "0      sunny         hot     high  False   no\n",
      "1      sunny         hot     high   True   no\n",
      "2   overcast         hot     high  False  yes\n",
      "3      rainy        mild     high  False  yes\n",
      "4      rainy        cool   normal  False  yes\n",
      "5      rainy        cool   normal   True   no\n",
      "6   overcast        cool   normal   True  yes\n",
      "7      sunny        mild     high  False   no\n",
      "8      sunny        cool   normal  False  yes\n",
      "9      rainy        mild   normal  False  yes\n",
      "10     sunny        mild   normal   True  yes\n",
      "11  overcast        mild     high   True  yes\n",
      "12  overcast         hot   normal  False  yes\n",
      "13     rainy        mild     high   True   no\n"
     ]
    }
   ],
   "source": [
    "print(df)"
   ]
  },
  {
   "cell_type": "code",
   "execution_count": 9,
   "id": "b8c09531",
   "metadata": {},
   "outputs": [],
   "source": [
    "outlook=preprocessing.LabelEncoder()"
   ]
  },
  {
   "cell_type": "code",
   "execution_count": 10,
   "id": "9f46a2e0",
   "metadata": {},
   "outputs": [
    {
     "data": {
      "text/plain": [
       "LabelEncoder()"
      ]
     },
     "execution_count": 10,
     "metadata": {},
     "output_type": "execute_result"
    }
   ],
   "source": [
    "outlook.fit([\"sunny\",\"rainy\",\"overcast\"])# guardo las etiqueitas"
   ]
  },
  {
   "cell_type": "code",
   "execution_count": 13,
   "id": "ac0c0eba",
   "metadata": {},
   "outputs": [
    {
     "name": "stdout",
     "output_type": "stream",
     "text": [
      "[['sunny' 'hot' 'high' False 'no']\n",
      " ['sunny' 'hot' 'high' True 'no']\n",
      " ['overcast' 'hot' 'high' False 'yes']\n",
      " ['rainy' 'mild' 'high' False 'yes']\n",
      " ['rainy' 'cool' 'normal' False 'yes']\n",
      " ['rainy' 'cool' 'normal' True 'no']\n",
      " ['overcast' 'cool' 'normal' True 'yes']\n",
      " ['sunny' 'mild' 'high' False 'no']\n",
      " ['sunny' 'cool' 'normal' False 'yes']\n",
      " ['rainy' 'mild' 'normal' False 'yes']\n",
      " ['sunny' 'mild' 'normal' True 'yes']\n",
      " ['overcast' 'mild' 'high' True 'yes']\n",
      " ['overcast' 'hot' 'normal' False 'yes']\n",
      " ['rainy' 'mild' 'high' True 'no']]\n"
     ]
    }
   ],
   "source": [
    "numeros=df[[\"outlook\",\"temperature\",\"humidity\",\"windy\",\"play\"]].values\n",
    "print(numeros)"
   ]
  },
  {
   "cell_type": "code",
   "execution_count": 14,
   "id": "ea57705f",
   "metadata": {},
   "outputs": [],
   "source": [
    "numeros[:,0]=outlook.transform(numeros[:,0])#transformo"
   ]
  },
  {
   "cell_type": "code",
   "execution_count": 15,
   "id": "60f484a6",
   "metadata": {},
   "outputs": [
    {
     "name": "stdout",
     "output_type": "stream",
     "text": [
      "[[2 'hot' 'high' False 'no']\n",
      " [2 'hot' 'high' True 'no']\n",
      " [0 'hot' 'high' False 'yes']\n",
      " [1 'mild' 'high' False 'yes']\n",
      " [1 'cool' 'normal' False 'yes']\n",
      " [1 'cool' 'normal' True 'no']\n",
      " [0 'cool' 'normal' True 'yes']\n",
      " [2 'mild' 'high' False 'no']\n",
      " [2 'cool' 'normal' False 'yes']\n",
      " [1 'mild' 'normal' False 'yes']\n",
      " [2 'mild' 'normal' True 'yes']\n",
      " [0 'mild' 'high' True 'yes']\n",
      " [0 'hot' 'normal' False 'yes']\n",
      " [1 'mild' 'high' True 'no']]\n"
     ]
    }
   ],
   "source": [
    "print(numeros)"
   ]
  },
  {
   "cell_type": "code",
   "execution_count": null,
   "id": "8c69aa47",
   "metadata": {},
   "outputs": [],
   "source": []
  }
 ],
 "metadata": {
  "kernelspec": {
   "display_name": "Python 3",
   "language": "python",
   "name": "python3"
  },
  "language_info": {
   "codemirror_mode": {
    "name": "ipython",
    "version": 3
   },
   "file_extension": ".py",
   "mimetype": "text/x-python",
   "name": "python",
   "nbconvert_exporter": "python",
   "pygments_lexer": "ipython3",
   "version": "3.10.5 (tags/v3.10.5:f377153, Jun  6 2022, 16:14:13) [MSC v.1929 64 bit (AMD64)]"
  },
  "vscode": {
   "interpreter": {
    "hash": "6a99fcdf587a9b7f60090dd3b730569266bf09a8a4c6a3d9d62687823b8d432a"
   }
  }
 },
 "nbformat": 4,
 "nbformat_minor": 5
}
