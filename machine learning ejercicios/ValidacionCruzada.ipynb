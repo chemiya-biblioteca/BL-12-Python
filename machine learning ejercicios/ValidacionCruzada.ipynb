{
 "cells": [
  {
   "cell_type": "code",
   "execution_count": 41,
   "id": "bf499394",
   "metadata": {},
   "outputs": [],
   "source": [
    "\n",
    "from sklearn import datasets, metrics\n",
    "from sklearn.model_selection import train_test_split\n",
    "from sklearn.model_selection import cross_val_score\n",
    "from sklearn.model_selection import KFold\n",
    "from sklearn.model_selection import StratifiedKFold\n",
    "from sklearn.linear_model import LogisticRegression\n",
    "from sklearn.tree import DecisionTreeClassifier, export_graphviz"
   ]
  },
  {
   "cell_type": "code",
   "execution_count": 42,
   "id": "e7b7f46a",
   "metadata": {},
   "outputs": [],
   "source": [
    "iris = datasets.load_iris()"
   ]
  },
  {
   "cell_type": "code",
   "execution_count": 43,
   "id": "a6a47024",
   "metadata": {},
   "outputs": [],
   "source": [
    "#separo conjuntos\n",
    "X_train, X_test, y_train, y_test = train_test_split(iris.data, iris.target, test_size=0.2, random_state=0)"
   ]
  },
  {
   "cell_type": "code",
   "execution_count": 44,
   "id": "5183081b",
   "metadata": {},
   "outputs": [],
   "source": [
    "#validacion cruzada estratificada o no\n",
    "#kf = KFold(n_splits=5)\n",
    "kf = StratifiedKFold(n_splits=5)"
   ]
  },
  {
   "cell_type": "code",
   "execution_count": 45,
   "id": "bb4af19c",
   "metadata": {},
   "outputs": [],
   "source": [
    "#clf = LogisticRegression()\n",
    "clf=DecisionTreeClassifier()\n",
    "#se pueden otros, decissiontreeclasiffier"
   ]
  },
  {
   "cell_type": "code",
   "execution_count": 46,
   "id": "74462ea2",
   "metadata": {},
   "outputs": [
    {
     "data": {
      "text/plain": [
       "DecisionTreeClassifier()"
      ]
     },
     "execution_count": 46,
     "metadata": {},
     "output_type": "execute_result"
    }
   ],
   "source": [
    "#entreno\n",
    "clf.fit(X_train, y_train)"
   ]
  },
  {
   "cell_type": "code",
   "execution_count": 47,
   "id": "57a6ea2f",
   "metadata": {},
   "outputs": [],
   "source": [
    "score = clf.score(X_train,y_train)#score con los trai"
   ]
  },
  {
   "cell_type": "code",
   "execution_count": 48,
   "id": "86eee37d",
   "metadata": {},
   "outputs": [
    {
     "name": "stdout",
     "output_type": "stream",
     "text": [
      "Metrica del modelo 1.0\n"
     ]
    }
   ],
   "source": [
    "print(\"Metrica del modelo\", score)"
   ]
  },
  {
   "cell_type": "code",
   "execution_count": 49,
   "id": "497ed866",
   "metadata": {},
   "outputs": [],
   "source": [
    "#cross val score con los train\n",
    "scores = cross_val_score(clf, X_train, y_train, cv=kf, scoring=\"accuracy\")"
   ]
  },
  {
   "cell_type": "code",
   "execution_count": 50,
   "id": "65f5ae64",
   "metadata": {},
   "outputs": [
    {
     "name": "stdout",
     "output_type": "stream",
     "text": [
      "Metricas cross_validation [0.95833333 0.91666667 1.         0.875      0.91666667]\n"
     ]
    }
   ],
   "source": [
    "print(\"Metricas cross_validation\", scores)"
   ]
  },
  {
   "cell_type": "code",
   "execution_count": 51,
   "id": "683c46bb",
   "metadata": {},
   "outputs": [
    {
     "name": "stdout",
     "output_type": "stream",
     "text": [
      "Media de cross_validation 0.9333333333333333\n"
     ]
    }
   ],
   "source": [
    "print(\"Media de cross_validation\", scores.mean())"
   ]
  },
  {
   "cell_type": "code",
   "execution_count": 52,
   "id": "64fda5ae",
   "metadata": {},
   "outputs": [],
   "source": [
    "#hago prediccion\n",
    "preds = clf.predict(X_test)"
   ]
  },
  {
   "cell_type": "code",
   "execution_count": 53,
   "id": "c657793a",
   "metadata": {},
   "outputs": [],
   "source": [
    "#mido como han ido los test, que aciertos ha hecho\n",
    "score_pred = metrics.accuracy_score(y_test, preds)"
   ]
  },
  {
   "cell_type": "code",
   "execution_count": 54,
   "id": "dac2ad02",
   "metadata": {},
   "outputs": [
    {
     "name": "stdout",
     "output_type": "stream",
     "text": [
      "Metrica en Test 1.0\n"
     ]
    }
   ],
   "source": [
    "print(\"Metrica en Test\", score_pred)"
   ]
  },
  {
   "cell_type": "code",
   "execution_count": null,
   "id": "9fc347bc",
   "metadata": {},
   "outputs": [],
   "source": []
  }
 ],
 "metadata": {
  "kernelspec": {
   "display_name": "Python 3",
   "language": "python",
   "name": "python3"
  },
  "language_info": {
   "codemirror_mode": {
    "name": "ipython",
    "version": 3
   },
   "file_extension": ".py",
   "mimetype": "text/x-python",
   "name": "python",
   "nbconvert_exporter": "python",
   "pygments_lexer": "ipython3",
   "version": "3.10.5 (tags/v3.10.5:f377153, Jun  6 2022, 16:14:13) [MSC v.1929 64 bit (AMD64)]"
  },
  "vscode": {
   "interpreter": {
    "hash": "6a99fcdf587a9b7f60090dd3b730569266bf09a8a4c6a3d9d62687823b8d432a"
   }
  }
 },
 "nbformat": 4,
 "nbformat_minor": 5
}
