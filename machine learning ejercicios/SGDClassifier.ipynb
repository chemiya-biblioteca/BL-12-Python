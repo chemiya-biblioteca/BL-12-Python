{
 "cells": [
  {
   "cell_type": "code",
   "execution_count": 1,
   "id": "b2ac22fa",
   "metadata": {},
   "outputs": [],
   "source": [
    "from sklearn.linear_model import SGDClassifier\n",
    "from sklearn.datasets import load_iris\n",
    "from sklearn.datasets import make_classification\n",
    "from sklearn.model_selection import train_test_split\n",
    "from sklearn.metrics import confusion_matrix\n",
    "from sklearn.metrics import classification_report\n",
    "from sklearn.preprocessing import scale"
   ]
  },
  {
   "cell_type": "code",
   "execution_count": 12,
   "id": "0e620f12",
   "metadata": {},
   "outputs": [],
   "source": [
    "iris = load_iris()\n",
    "x, y = iris.data, iris.target\n",
    "x = scale(x)\n"
   ]
  },
  {
   "cell_type": "code",
   "execution_count": 13,
   "id": "aa996881",
   "metadata": {},
   "outputs": [],
   "source": [
    "xtrain, xtest, ytrain, ytest = train_test_split(x, y, test_size = 0.15)"
   ]
  },
  {
   "cell_type": "code",
   "execution_count": 14,
   "id": "aab29f9b",
   "metadata": {},
   "outputs": [
    {
     "name": "stdout",
     "output_type": "stream",
     "text": [
      "SGDClassifier(tol=0.01)\n"
     ]
    }
   ],
   "source": [
    "sgdc = SGDClassifier(max_iter=1000, tol=0.01)#max iter y tolerancia\n",
    "print(sgdc)"
   ]
  },
  {
   "cell_type": "code",
   "execution_count": 15,
   "id": "a4f50fe4",
   "metadata": {},
   "outputs": [
    {
     "data": {
      "text/plain": [
       "SGDClassifier(tol=0.01)"
      ]
     },
     "execution_count": 15,
     "metadata": {},
     "output_type": "execute_result"
    }
   ],
   "source": [
    "sgdc.fit(xtrain, ytrain)"
   ]
  },
  {
   "cell_type": "code",
   "execution_count": 16,
   "id": "ea39447d",
   "metadata": {},
   "outputs": [
    {
     "name": "stdout",
     "output_type": "stream",
     "text": [
      "Training score:  0.9763779527559056\n"
     ]
    }
   ],
   "source": [
    "score = sgdc.score(xtrain, ytrain)#score con los train\n",
    "print(\"Training score: \", score) "
   ]
  },
  {
   "cell_type": "code",
   "execution_count": 17,
   "id": "97f30b00",
   "metadata": {},
   "outputs": [
    {
     "name": "stdout",
     "output_type": "stream",
     "text": [
      "[[7 0 0]\n",
      " [1 6 2]\n",
      " [0 0 7]]\n"
     ]
    }
   ],
   "source": [
    "ypred = sgdc.predict(xtest)\n",
    "\n",
    "cm = confusion_matrix(ytest, ypred)\n",
    "print(cm) "
   ]
  },
  {
   "cell_type": "code",
   "execution_count": 18,
   "id": "7ff628c1",
   "metadata": {},
   "outputs": [
    {
     "name": "stdout",
     "output_type": "stream",
     "text": [
      "              precision    recall  f1-score   support\n",
      "\n",
      "           0       0.88      1.00      0.93         7\n",
      "           1       1.00      0.67      0.80         9\n",
      "           2       0.78      1.00      0.88         7\n",
      "\n",
      "    accuracy                           0.87        23\n",
      "   macro avg       0.88      0.89      0.87        23\n",
      "weighted avg       0.89      0.87      0.86        23\n",
      "\n"
     ]
    }
   ],
   "source": [
    "cr = classification_report(ytest, ypred)#report con los y\n",
    "print(cr)"
   ]
  },
  {
   "cell_type": "code",
   "execution_count": null,
   "id": "0b941552",
   "metadata": {},
   "outputs": [],
   "source": []
  }
 ],
 "metadata": {
  "kernelspec": {
   "display_name": "Python 3",
   "language": "python",
   "name": "python3"
  },
  "language_info": {
   "codemirror_mode": {
    "name": "ipython",
    "version": 3
   },
   "file_extension": ".py",
   "mimetype": "text/x-python",
   "name": "python",
   "nbconvert_exporter": "python",
   "pygments_lexer": "ipython3",
   "version": "3.10.5 (tags/v3.10.5:f377153, Jun  6 2022, 16:14:13) [MSC v.1929 64 bit (AMD64)]"
  },
  "vscode": {
   "interpreter": {
    "hash": "6a99fcdf587a9b7f60090dd3b730569266bf09a8a4c6a3d9d62687823b8d432a"
   }
  }
 },
 "nbformat": 4,
 "nbformat_minor": 5
}
