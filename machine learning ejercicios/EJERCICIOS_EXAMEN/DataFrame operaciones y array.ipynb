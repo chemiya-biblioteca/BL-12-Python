{
 "cells": [
  {
   "cell_type": "code",
   "execution_count": 1,
   "id": "d815a4fe",
   "metadata": {},
   "outputs": [],
   "source": [
    "import pandas as pd"
   ]
  },
  {
   "cell_type": "code",
   "execution_count": 2,
   "id": "6b492753",
   "metadata": {},
   "outputs": [],
   "source": [
    "#crear dataframe\n",
    "#data={\"\":[,,,]}\n",
    "\n",
    "data = {\n",
    "  \"calories\": [420, 380, 390,456],\n",
    "  \"duration\": [50, 40, 45,44],\n",
    "  \"age\": [34,23,31,23]\n",
    "}"
   ]
  },
  {
   "cell_type": "code",
   "execution_count": 3,
   "id": "39f1e805",
   "metadata": {},
   "outputs": [
    {
     "name": "stdout",
     "output_type": "stream",
     "text": [
      "   calories  duration  age\n",
      "0       420        50   34\n",
      "1       380        40   23\n",
      "2       390        45   31\n",
      "3       456        44   23\n"
     ]
    }
   ],
   "source": [
    "#crear dataframe desde datos\n",
    "df = pd.DataFrame(data)\n",
    "\n",
    "print(df) "
   ]
  },
  {
   "cell_type": "code",
   "execution_count": 4,
   "id": "83141dc7",
   "metadata": {},
   "outputs": [
    {
     "name": "stdout",
     "output_type": "stream",
     "text": [
      "<class 'pandas.core.frame.DataFrame'>\n",
      "(4, 3)\n"
     ]
    }
   ],
   "source": [
    "#type()\n",
    "print(type(df))\n",
    "#df.shape\n",
    "print(df.shape)"
   ]
  },
  {
   "cell_type": "code",
   "execution_count": 5,
   "id": "6ff0c558",
   "metadata": {},
   "outputs": [
    {
     "name": "stdout",
     "output_type": "stream",
     "text": [
      "0    420\n",
      "1    380\n",
      "2    390\n",
      "3    456\n",
      "Name: calories, dtype: int64\n"
     ]
    }
   ],
   "source": [
    "#primera columna\n",
    "primera=df.iloc[:,0]\n",
    "print(primera)\n"
   ]
  },
  {
   "cell_type": "code",
   "execution_count": 6,
   "id": "6d0d6758",
   "metadata": {},
   "outputs": [
    {
     "name": "stdout",
     "output_type": "stream",
     "text": [
      "   calories  duration\n",
      "0       420        50\n",
      "1       380        40\n",
      "2       390        45\n",
      "3       456        44\n"
     ]
    }
   ],
   "source": [
    "primera1=df.iloc[:,0:2]#todas las filas de las columnas 0 a 2\n",
    "print(primera1)\n"
   ]
  },
  {
   "cell_type": "code",
   "execution_count": 7,
   "id": "54b4413b",
   "metadata": {},
   "outputs": [
    {
     "name": "stdout",
     "output_type": "stream",
     "text": [
      "calories    380\n",
      "duration     40\n",
      "age          23\n",
      "Name: 1, dtype: int64\n"
     ]
    }
   ],
   "source": [
    "primera2=df.iloc[1]#la primera fila\n",
    "print(primera2)\n"
   ]
  },
  {
   "cell_type": "code",
   "execution_count": 8,
   "id": "59dc4d13",
   "metadata": {},
   "outputs": [
    {
     "name": "stdout",
     "output_type": "stream",
     "text": [
      "   calories  duration  age\n",
      "1       380        40   23\n",
      "2       390        45   31\n"
     ]
    }
   ],
   "source": [
    "primera3=df.iloc[1:3]#filas 1 a 3 y todas las columnas\n",
    "print(primera3)"
   ]
  },
  {
   "cell_type": "code",
   "execution_count": 9,
   "id": "433e5099",
   "metadata": {},
   "outputs": [
    {
     "name": "stdout",
     "output_type": "stream",
     "text": [
      "   duration  age\n",
      "0        50   34\n",
      "1        40   23\n",
      "2        45   31\n",
      "3        44   23\n"
     ]
    }
   ],
   "source": [
    "#eliminar columna\n",
    "df1=df.drop(columns=[\"calories\"])\n",
    "print(df1)"
   ]
  },
  {
   "cell_type": "code",
   "execution_count": 2,
   "id": "b0875bd0",
   "metadata": {},
   "outputs": [],
   "source": [
    "import numpy as np"
   ]
  },
  {
   "cell_type": "code",
   "execution_count": 11,
   "id": "15486fc7",
   "metadata": {},
   "outputs": [],
   "source": [
    "#crear array\n",
    "#np.array([[,,,],[]])\n",
    "arr = np.array([[0, 1, 2], [3, 4, 5]]) "
   ]
  },
  {
   "cell_type": "code",
   "execution_count": 12,
   "id": "3acad8a3",
   "metadata": {},
   "outputs": [
    {
     "name": "stdout",
     "output_type": "stream",
     "text": [
      "[[0 1 2]\n",
      " [3 4 5]]\n",
      "<class 'numpy.ndarray'>\n"
     ]
    }
   ],
   "source": [
    "print(arr)\n",
    "\n",
    "print(type(arr))"
   ]
  },
  {
   "cell_type": "code",
   "execution_count": 13,
   "id": "a654ef74",
   "metadata": {},
   "outputs": [
    {
     "name": "stdout",
     "output_type": "stream",
     "text": [
      "(2, 3)\n"
     ]
    }
   ],
   "source": [
    "print(arr.shape)"
   ]
  },
  {
   "cell_type": "code",
   "execution_count": 14,
   "id": "b343a24c",
   "metadata": {},
   "outputs": [
    {
     "name": "stdout",
     "output_type": "stream",
     "text": [
      "[[0 1]\n",
      " [2 3]\n",
      " [4 5]]\n"
     ]
    }
   ],
   "source": [
    "#reshape\n",
    "array_nuevo=arr.reshape(3,2)\n",
    "print(array_nuevo)"
   ]
  },
  {
   "cell_type": "code",
   "execution_count": 15,
   "id": "e5501cb0",
   "metadata": {},
   "outputs": [],
   "source": [
    "#convertir\n",
    "df1=pd.DataFrame(array_nuevo,columns=[\"primer\",\"segun\"])"
   ]
  },
  {
   "cell_type": "code",
   "execution_count": 16,
   "id": "d9f305b1",
   "metadata": {},
   "outputs": [
    {
     "name": "stdout",
     "output_type": "stream",
     "text": [
      "   primer  segun\n",
      "0       0      1\n",
      "1       2      3\n",
      "2       4      5\n"
     ]
    }
   ],
   "source": [
    "print(df1)"
   ]
  },
  {
   "cell_type": "code",
   "execution_count": 17,
   "id": "88a064c0",
   "metadata": {},
   "outputs": [
    {
     "name": "stdout",
     "output_type": "stream",
     "text": [
      "<class 'numpy.ndarray'>\n",
      "[[0 1]\n",
      " [2 3]\n",
      " [4 5]]\n"
     ]
    }
   ],
   "source": [
    "#convertir\n",
    "nmp=df1.to_numpy()\n",
    "print(type(nmp))\n",
    "print(nmp)"
   ]
  },
  {
   "cell_type": "code",
   "execution_count": 3,
   "id": "381069e1",
   "metadata": {},
   "outputs": [
    {
     "data": {
      "text/plain": [
       "(3, 4)"
      ]
     },
     "execution_count": 3,
     "metadata": {},
     "output_type": "execute_result"
    }
   ],
   "source": [
    "z = np.array([[1, 2, 3, 4],\n",
    "         [5, 6, 7, 8],\n",
    "         [9, 10, 11, 12]])\n",
    "z.shape\n"
   ]
  },
  {
   "cell_type": "code",
   "execution_count": 4,
   "id": "707a60ec",
   "metadata": {},
   "outputs": [
    {
     "name": "stdout",
     "output_type": "stream",
     "text": [
      "<class 'numpy.ndarray'>\n",
      "[ 1  2  3  4  5  6  7  8  9 10 11 12]\n"
     ]
    },
    {
     "data": {
      "text/plain": [
       "(12,)"
      ]
     },
     "execution_count": 4,
     "metadata": {},
     "output_type": "execute_result"
    }
   ],
   "source": [
    "print(type(z))\n",
    "z=z.reshape(-1)\n",
    "print(z)\n",
    "z.shape"
   ]
  },
  {
   "cell_type": "code",
   "execution_count": 28,
   "id": "459af1fe",
   "metadata": {},
   "outputs": [
    {
     "name": "stdout",
     "output_type": "stream",
     "text": [
      "[[ 1]\n",
      " [ 2]\n",
      " [ 3]\n",
      " [ 4]\n",
      " [ 5]\n",
      " [ 6]\n",
      " [ 7]\n",
      " [ 8]\n",
      " [ 9]\n",
      " [10]\n",
      " [11]\n",
      " [12]]\n"
     ]
    },
    {
     "data": {
      "text/plain": [
       "(12, 1)"
      ]
     },
     "execution_count": 28,
     "metadata": {},
     "output_type": "execute_result"
    }
   ],
   "source": [
    "z=z.reshape(-1,1)#una sola caracteristica\n",
    "print(z)\n",
    "z.shape"
   ]
  },
  {
   "cell_type": "code",
   "execution_count": 29,
   "id": "8c5afd47",
   "metadata": {},
   "outputs": [
    {
     "name": "stdout",
     "output_type": "stream",
     "text": [
      "[[ 1  2  3  4  5  6  7  8  9 10 11 12]]\n"
     ]
    },
    {
     "data": {
      "text/plain": [
       "(1, 12)"
      ]
     },
     "execution_count": 29,
     "metadata": {},
     "output_type": "execute_result"
    }
   ],
   "source": [
    "z=z.reshape(1,-1)#una sola muestra\n",
    "print(z)\n",
    "z.shape"
   ]
  },
  {
   "cell_type": "code",
   "execution_count": 9,
   "id": "552c0b64",
   "metadata": {},
   "outputs": [
    {
     "name": "stdout",
     "output_type": "stream",
     "text": [
      "[ 2  3 12 23 32 45 81]\n",
      "5\n"
     ]
    }
   ],
   "source": [
    "#unique y argmax\n",
    "x = np.array([23,45,32,45,3,81,3,45,3,2,12,23])\n",
    "print(np.unique(x))\n",
    "print(np.argmax(x))"
   ]
  }
 ],
 "metadata": {
  "kernelspec": {
   "display_name": "Python 3 (ipykernel)",
   "language": "python",
   "name": "python3"
  },
  "language_info": {
   "codemirror_mode": {
    "name": "ipython",
    "version": 3
   },
   "file_extension": ".py",
   "mimetype": "text/x-python",
   "name": "python",
   "nbconvert_exporter": "python",
   "pygments_lexer": "ipython3",
   "version": "3.10.5"
  }
 },
 "nbformat": 4,
 "nbformat_minor": 5
}
