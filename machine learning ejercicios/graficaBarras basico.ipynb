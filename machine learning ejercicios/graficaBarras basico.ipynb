{
 "cells": [
  {
   "cell_type": "code",
   "execution_count": 1,
   "id": "522c4c5f",
   "metadata": {},
   "outputs": [],
   "source": [
    "import numpy as np\n",
    "import matplotlib.pyplot as plt"
   ]
  },
  {
   "cell_type": "code",
   "execution_count": 2,
   "id": "a0451185",
   "metadata": {},
   "outputs": [],
   "source": [
    "#etiquetas de abajo y los valores que tienen\n",
    "etiquetas=[\"a\",\"b\",\"c\",\"d\"]\n",
    "valores=[3,4,5,6]\n"
   ]
  },
  {
   "cell_type": "code",
   "execution_count": 3,
   "id": "0a3c7752",
   "metadata": {},
   "outputs": [],
   "source": [
    "#arange con len\n",
    "co=np.arange(len(valores))\n",
    "#an\n",
    "an=0.3"
   ]
  },
  {
   "cell_type": "code",
   "execution_count": 4,
   "id": "8865a3a8",
   "metadata": {},
   "outputs": [
    {
     "data": {
      "text/plain": [
       "[Text(0, 0, 'a'), Text(1, 0, 'b'), Text(2, 0, 'c'), Text(3, 0, 'd')]"
      ]
     },
     "execution_count": 4,
     "metadata": {},
     "output_type": "execute_result"
    },
    {
     "data": {
      "image/png": "[encoded data removed]",
      "text/plain": [
       "<Figure size 432x288 with 1 Axes>"
      ]
     },
     "metadata": {
      "needs_background": "light"
     },
     "output_type": "display_data"
    }
   ],
   "source": [
    "#fig,axu los subplots\n",
    "fig,ax=plt.subplots()\n",
    "#ax con bar pongo\n",
    "ax.bar(co,valores,an)\n",
    "ax.set_title(\"grafico\")\n",
    "ax.set_ylabel(\"numeros\")\n",
    "#pongo set_xticks\n",
    "ax.set_xticks(co)\n",
    "ax.set_xticklabels(etiquetas)"
   ]
  },
  {
   "cell_type": "code",
   "execution_count": null,
   "id": "9efe3d8c",
   "metadata": {},
   "outputs": [],
   "source": []
  },
  {
   "cell_type": "code",
   "execution_count": null,
   "id": "d07bde4f",
   "metadata": {},
   "outputs": [],
   "source": []
  }
 ],
 "metadata": {
  "kernelspec": {
   "display_name": "Python 3.10.5 64-bit",
   "language": "python",
   "name": "python3"
  },
  "language_info": {
   "codemirror_mode": {
    "name": "ipython",
    "version": 3
   },
   "file_extension": ".py",
   "mimetype": "text/x-python",
   "name": "python",
   "nbconvert_exporter": "python",
   "pygments_lexer": "ipython3",
   "version": "3.10.5"
  },
  "vscode": {
   "interpreter": {
    "hash": "6a99fcdf587a9b7f60090dd3b730569266bf09a8a4c6a3d9d62687823b8d432a"
   }
  }
 },
 "nbformat": 4,
 "nbformat_minor": 5
}
