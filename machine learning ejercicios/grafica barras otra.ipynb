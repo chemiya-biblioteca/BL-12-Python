{
 "cells": [
  {
   "cell_type": "code",
   "execution_count": 3,
   "id": "b2c10c35",
   "metadata": {},
   "outputs": [],
   "source": [
    "import matplotlib.pyplot as plt\n",
    "import numpy as np"
   ]
  },
  {
   "cell_type": "code",
   "execution_count": 11,
   "id": "bba8c6d3",
   "metadata": {},
   "outputs": [],
   "source": [
    "valores=[2,3,4]\n",
    "etiquetas=[\"chema\",\"juan\",\"federico\"]"
   ]
  },
  {
   "cell_type": "code",
   "execution_count": 12,
   "id": "5d2fbafb",
   "metadata": {},
   "outputs": [],
   "source": [
    "co=np.arange(len(valores))"
   ]
  },
  {
   "cell_type": "code",
   "execution_count": 14,
   "id": "759417da",
   "metadata": {},
   "outputs": [
    {
     "data": {
      "text/plain": [
       "[Text(0, 0, 'chema'), Text(1, 0, 'juan'), Text(2, 0, 'federico')]"
      ]
     },
     "execution_count": 14,
     "metadata": {},
     "output_type": "execute_result"
    },
    {
     "data": {
      "image/png": "[encoded data removed]",
      "text/plain": [
       "<Figure size 432x288 with 1 Axes>"
      ]
     },
     "metadata": {
      "needs_background": "light"
     },
     "output_type": "display_data"
    }
   ],
   "source": [
    "fix,ax=plt.subplots()\n",
    "ax.bar(co,valores,0.3)\n",
    "ax.set_xticks(co)\n",
    "ax.set_xticklabels(etiquetas)"
   ]
  },
  {
   "cell_type": "code",
   "execution_count": null,
   "id": "805bfa3b",
   "metadata": {},
   "outputs": [],
   "source": []
  }
 ],
 "metadata": {
  "kernelspec": {
   "display_name": "Python 3 (ipykernel)",
   "language": "python",
   "name": "python3"
  },
  "language_info": {
   "codemirror_mode": {
    "name": "ipython",
    "version": 3
   },
   "file_extension": ".py",
   "mimetype": "text/x-python",
   "name": "python",
   "nbconvert_exporter": "python",
   "pygments_lexer": "ipython3",
   "version": "3.9.7"
  }
 },
 "nbformat": 4,
 "nbformat_minor": 5
}
