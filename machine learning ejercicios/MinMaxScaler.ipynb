{
 "cells": [
  {
   "cell_type": "code",
   "execution_count": 11,
   "id": "12665bfe",
   "metadata": {},
   "outputs": [],
   "source": [
    "from numpy import asarray\n",
    "from sklearn.preprocessing import MinMaxScaler\n",
    "from sklearn.datasets import load_iris\n",
    "from sklearn.model_selection import train_test_split"
   ]
  },
  {
   "cell_type": "code",
   "execution_count": 12,
   "id": "57832ccc",
   "metadata": {},
   "outputs": [],
   "source": [
    "# define data\n",
    "df = load_iris()\n",
    "X=df.data\n",
    "y=df.target"
   ]
  },
  {
   "cell_type": "code",
   "execution_count": 13,
   "id": "ac5da12d",
   "metadata": {},
   "outputs": [],
   "source": [
    "X_train, X_test, y_train, y_test = train_test_split(X,y, random_state = 50, test_size = 0.25)"
   ]
  },
  {
   "cell_type": "code",
   "execution_count": 14,
   "id": "042429bb",
   "metadata": {},
   "outputs": [],
   "source": [
    "# define min max scaler\n",
    "#X_scaled = X_std * (max - min) + min\n",
    "scaler = MinMaxScaler()"
   ]
  },
  {
   "cell_type": "code",
   "execution_count": 15,
   "id": "d2e79044",
   "metadata": {},
   "outputs": [],
   "source": [
    "X_train=scaler.fit_transform(X_train)"
   ]
  },
  {
   "cell_type": "code",
   "execution_count": 16,
   "id": "15530d98",
   "metadata": {},
   "outputs": [],
   "source": [
    "X_test=scaler.transform(X_test)"
   ]
  },
  {
   "cell_type": "code",
   "execution_count": 17,
   "id": "3cf4372b",
   "metadata": {},
   "outputs": [
    {
     "name": "stdout",
     "output_type": "stream",
     "text": [
      "[[8.29719002e-04 0.00000000e+00 2.01612903e-01 ... 7.02127660e-01\n",
      "  1.00000000e+00 1.99716312e-01]\n",
      " [1.73654275e-04 8.25000000e-01 5.75513196e-02 ... 2.23404255e-01\n",
      "  9.96145849e-01 3.91489362e-02]\n",
      " [5.49837765e-02 0.00000000e+00 6.46627566e-01 ... 8.08510638e-01\n",
      "  9.45788326e-01 4.34042553e-02]\n",
      " ...\n",
      " [9.79031331e-02 0.00000000e+00 6.46627566e-01 ... 8.08510638e-01\n",
      "  9.87524722e-01 4.36595745e-01]\n",
      " [6.53894329e-02 0.00000000e+00 6.46627566e-01 ... 8.08510638e-01\n",
      "  1.00000000e+00 2.55602837e-01]\n",
      " [7.18220593e-04 0.00000000e+00 1.31598240e-01 ... 4.25531915e-01\n",
      "  9.90694254e-01 2.37730496e-01]]\n"
     ]
    }
   ],
   "source": [
    "\n",
    "\n",
    "print(X_train)"
   ]
  },
  {
   "cell_type": "code",
   "execution_count": 18,
   "id": "02520738",
   "metadata": {},
   "outputs": [
    {
     "name": "stdout",
     "output_type": "stream",
     "text": [
      "[[5.11358451e-02 0.00000000e+00 6.46627566e-01 ... 8.08510638e-01\n",
      "  8.92996602e-01 1.52907801e-01]\n",
      " [2.95673097e-03 0.00000000e+00 3.46041056e-01 ... 6.17021277e-01\n",
      "  9.91099954e-01 1.75035461e-01]\n",
      " [4.14386307e-02 0.00000000e+00 6.46627566e-01 ... 8.08510638e-01\n",
      "  9.86130128e-01 3.66524823e-01]\n",
      " ...\n",
      " [2.25230157e-02 0.00000000e+00 7.00879765e-01 ... 2.23404255e-01\n",
      "  9.30016735e-01 5.58865248e-02]\n",
      " [1.39987825e-02 0.00000000e+00 2.81524927e-01 ... 8.93617021e-01\n",
      "  9.48450733e-01 5.47234043e-01]\n",
      " [7.00012184e-04 0.00000000e+00 8.90762463e-02 ... 5.74468085e-01\n",
      "  1.00000000e+00 1.26524823e-01]]\n"
     ]
    }
   ],
   "source": [
    "print(X_test)"
   ]
  },
  {
   "cell_type": "code",
   "execution_count": null,
   "id": "ead8b9e2",
   "metadata": {},
   "outputs": [],
   "source": []
  }
 ],
 "metadata": {
  "kernelspec": {
   "display_name": "Python 3 (ipykernel)",
   "language": "python",
   "name": "python3"
  },
  "language_info": {
   "codemirror_mode": {
    "name": "ipython",
    "version": 3
   },
   "file_extension": ".py",
   "mimetype": "text/x-python",
   "name": "python",
   "nbconvert_exporter": "python",
   "pygments_lexer": "ipython3",
   "version": "3.9.7"
  }
 },
 "nbformat": 4,
 "nbformat_minor": 5
}
