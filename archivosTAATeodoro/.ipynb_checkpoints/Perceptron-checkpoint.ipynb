{
 "cells": [
  {
   "cell_type": "markdown",
   "metadata": {},
   "source": [
    "# Ejemplo casero de Perceptrón Simple"
   ]
  },
  {
   "cell_type": "markdown",
   "metadata": {},
   "source": [
    "## Inportamos los paquetes que necesitamos"
   ]
  },
  {
   "cell_type": "code",
   "execution_count": 14,
   "metadata": {},
   "outputs": [],
   "source": [
    "import numpy as np\n",
    "import pandas as pd\n",
    "from sklearn.preprocessing import MinMaxScaler"
   ]
  },
  {
   "cell_type": "markdown",
   "metadata": {},
   "source": [
    "## Creación de los datos\n",
    "Aunque inicialmente definimos los datos con un array, luego creamos un DataFrame pues nos ofrece más posibilidades de manipulación de datos."
   ]
  },
  {
   "cell_type": "code",
   "execution_count": 15,
   "metadata": {},
   "outputs": [],
   "source": [
    "datos0= [[1, 1, 1],\n",
    "        [2, 1, 1],\n",
    "        [2, 2, 1],\n",
    "        [1, 3, 1],\n",
    "        [-1, 1, -1],\n",
    "        [0, 2, -1],\n",
    "        [-1, 3, -1]]\n",
    "\n",
    "datos=pd.DataFrame (datos0)\n",
    "datos.columns = ['x1', 'x2', 'd(x)']"
   ]
  },
  {
   "cell_type": "code",
   "execution_count": 16,
   "metadata": {},
   "outputs": [
    {
     "data": {
      "text/html": [
       "<div>\n",
       "<style scoped>\n",
       "    .dataframe tbody tr th:only-of-type {\n",
       "        vertical-align: middle;\n",
       "    }\n",
       "\n",
       "    .dataframe tbody tr th {\n",
       "        vertical-align: top;\n",
       "    }\n",
       "\n",
       "    .dataframe thead th {\n",
       "        text-align: right;\n",
       "    }\n",
       "</style>\n",
       "<table border=\"1\" class=\"dataframe\">\n",
       "  <thead>\n",
       "    <tr style=\"text-align: right;\">\n",
       "      <th></th>\n",
       "      <th>x1</th>\n",
       "      <th>x2</th>\n",
       "      <th>d(x)</th>\n",
       "    </tr>\n",
       "  </thead>\n",
       "  <tbody>\n",
       "    <tr>\n",
       "      <th>0</th>\n",
       "      <td>1</td>\n",
       "      <td>1</td>\n",
       "      <td>1</td>\n",
       "    </tr>\n",
       "    <tr>\n",
       "      <th>1</th>\n",
       "      <td>2</td>\n",
       "      <td>1</td>\n",
       "      <td>1</td>\n",
       "    </tr>\n",
       "    <tr>\n",
       "      <th>2</th>\n",
       "      <td>2</td>\n",
       "      <td>2</td>\n",
       "      <td>1</td>\n",
       "    </tr>\n",
       "    <tr>\n",
       "      <th>3</th>\n",
       "      <td>1</td>\n",
       "      <td>3</td>\n",
       "      <td>1</td>\n",
       "    </tr>\n",
       "    <tr>\n",
       "      <th>4</th>\n",
       "      <td>-1</td>\n",
       "      <td>1</td>\n",
       "      <td>-1</td>\n",
       "    </tr>\n",
       "    <tr>\n",
       "      <th>5</th>\n",
       "      <td>0</td>\n",
       "      <td>2</td>\n",
       "      <td>-1</td>\n",
       "    </tr>\n",
       "    <tr>\n",
       "      <th>6</th>\n",
       "      <td>-1</td>\n",
       "      <td>3</td>\n",
       "      <td>-1</td>\n",
       "    </tr>\n",
       "  </tbody>\n",
       "</table>\n",
       "</div>"
      ],
      "text/plain": [
       "   x1  x2  d(x)\n",
       "0   1   1     1\n",
       "1   2   1     1\n",
       "2   2   2     1\n",
       "3   1   3     1\n",
       "4  -1   1    -1\n",
       "5   0   2    -1\n",
       "6  -1   3    -1"
      ]
     },
     "execution_count": 16,
     "metadata": {},
     "output_type": "execute_result"
    }
   ],
   "source": [
    "datos"
   ]
  },
  {
   "cell_type": "markdown",
   "metadata": {},
   "source": [
    "## Escalado de los datos\n",
    "Es buena costumbre escalar los atributos de entrada a las RNA, habitualmente a valores de [0,1], ó [-1,1]... o algo parecido\n",
    "\n",
    "De esta manera damos a todas las entradas la misma importancia, independientemente de las unidades de medida.\n",
    "\n",
    "* A veces se normaliza a media 0 y varianza 1. Esto lo debemos hacer cuando tenemos la certeza de que los valores del atributo no van a estar acotados dentro de un rango conocido con anterioridad."
   ]
  },
  {
   "cell_type": "code",
   "execution_count": 17,
   "metadata": {},
   "outputs": [
    {
     "name": "stdout",
     "output_type": "stream",
     "text": [
      "[[0.66666667 0.        ]\n",
      " [1.         0.        ]\n",
      " [1.         0.5       ]\n",
      " [0.66666667 1.        ]\n",
      " [0.         0.        ]\n",
      " [0.33333333 0.5       ]\n",
      " [0.         1.        ]]\n"
     ]
    }
   ],
   "source": [
    "X = MinMaxScaler().fit_transform (datos[['x1','x2']])\n",
    "d = datos['d(x)'].values\n",
    "print(X)"
   ]
  },
  {
   "cell_type": "markdown",
   "metadata": {},
   "source": [
    "### ¿Y qué pasa con la salida? ¿No necesitamos adaptarla?\n",
    "En este caso, ya tenemos la salida en el formato (rango) correcto para la herramienta que vamos a usar (Perceptrón simple), cuya función de activación es signo(U): -1 si U<0, +1 en caso contrario.\n",
    "\n",
    "### ATENCIÓN:\n",
    "Otros paquetes de Aprendizaje Automático, como puede ser WEKA, realizan estos ajustes (como, el reescalado, o la codificación -ya se verá) de forma automática, como parte integrante del método regresión/clasificación que se vaya a usar."
   ]
  },
  {
   "cell_type": "markdown",
   "metadata": {},
   "source": [
    "### Visualización de los datos (opcional, pero muy aconsejable)\n"
   ]
  },
  {
   "cell_type": "code",
   "execution_count": 18,
   "metadata": {
    "scrolled": true
   },
   "outputs": [
    {
     "data": {
      "image/png": "[encoded data removed]",
      "text/plain": [
       "<Figure size 432x288 with 1 Axes>"
      ]
     },
     "metadata": {
      "needs_background": "light"
     },
     "output_type": "display_data"
    }
   ],
   "source": [
    "import matplotlib.pyplot as plt\n",
    "plt.scatter (X[np.argwhere(d==1), 0], X[np.argwhere (d==1), 1], c='blue')\n",
    "plt.scatter (X[np.argwhere(d==-1), 0], X[np.argwhere (d==-1), 1], c='green')\n",
    "plt.xlabel('x1')\n",
    "plt.ylabel('x2')\n",
    "plt.grid()\n",
    "#hacer la recta\n",
    "plt.plot([0.5,0.5], [0,1], c='red')\n",
    "plt.show ()"
   ]
  },
  {
   "cell_type": "markdown",
   "metadata": {},
   "source": [
    "## Definición de la clase perceptron_simple\n",
    "Este es un ejemplo meramente didáctivo, y queremso enseñar \"qué hay dentro\" de un perceptrón simple, por lo que lo creamos desde cero. Obviamente, ya hay bibliotecas/paquetes Python que lo implementan, y no tenemos que hacer esto nosotros mismos."
   ]
  },
  {
   "cell_type": "code",
   "execution_count": 19,
   "metadata": {},
   "outputs": [],
   "source": [
    "class perceptron_simple ():\n",
    "    def __init__ (self, n_inputs=2, n_outputs=1, W=None, b=None):\n",
    "        #autoasigno\n",
    "        self.n_inputs = n_inputs\n",
    "        self.n_output = n_outputs\n",
    "        self.W = W\n",
    "        self.b = b\n",
    "        \n",
    "        \n",
    "        if self.W is None:\n",
    "            self.W = np.random.rand (self.n_outputs, self.n_inputs) - 0.5# si es nulo aleatorio entre e/s\n",
    "        if self.b is None:\n",
    "            self.b = np.random.rand (self.n_outputs, 1) - 0.5#si es nulo aleatorio entre salidas,1\n",
    "    def predict (self, x):\n",
    "        return np.sign (self.W @ x.T + self.b).T.astype(int)# w y b con la x\n",
    "    def train (self, X, D):\n",
    "        if np.sum (self.predict (X) == D) != D.shape [0]:# si sumo las predicciones y d no es 0. sum(pred correctas)=d\n",
    "            continuar = True\n",
    "            p = 0\n",
    "            while continuar:\n",
    "                v = p % X.shape [0]#modulo\n",
    "                x = X[v].reshape (1, -1)# del sitio x posicion v con reshape\n",
    "                y = self.predict (x)#prediccion\n",
    "                d = D[v].reshape (1, -1)\n",
    "                if y != d:# si y noes igual a d\n",
    "                    self.W += d*x\n",
    "                    self.b += d\n",
    "                    # Después de ajustar los pesos, vemos si el \n",
    "                    # modelo ya es el corrrecto\n",
    "                    SalModelo=self.predict (X)#otra precidicon\n",
    "                    print (\"Iteración #{:02d}\".format(p), \"\\tTodas las Salidas producidas:\", SalModelo.T)\n",
    "                    print (\"\\t\\tTodas las Salidas deseadas:  \", D.T)\n",
    "                    if np.sum (self.predict (X) == D) == D.shape [0]:# si las predicciones es igual tamano paro\n",
    "                        continuar = False\n",
    "                p += 1\n",
    "        return\n",
    "    def get_params (self):\n",
    "        return self.W, self.b"
   ]
  },
  {
   "cell_type": "markdown",
   "metadata": {},
   "source": [
    "## Creación del modelo que ajuste a nuestros datos\n",
    "Como se puede ver, la clase perceptron_simple tiene un método de inicialización aleatoria de los pesos (w) y del umbral/bias (b).\n",
    "\n",
    "Sin embargo, nosotros asignamos estos valores de forma explícita en la siguiente caja:"
   ]
  },
  {
   "cell_type": "code",
   "execution_count": 21,
   "metadata": {},
   "outputs": [
    {
     "name": "stdout",
     "output_type": "stream",
     "text": [
      "[[0.75 1.  ]]\n"
     ]
    }
   ],
   "source": [
    "w = np.array ([0.75, 1.]).reshape (1,2)#aaray de 2 \n",
    "print(w)\n",
    "B = np.array ([-3]).reshape (1,1)\n",
    "ps = perceptron_simple (n_inputs=2, n_outputs = 1, W=w, b=B)"
   ]
  },
  {
   "cell_type": "markdown",
   "metadata": {},
   "source": [
    "### Entrenamiento / ajuste del modelo"
   ]
  },
  {
   "cell_type": "code",
   "execution_count": 10,
   "metadata": {},
   "outputs": [
    {
     "name": "stdout",
     "output_type": "stream",
     "text": [
      "Iteración #00 \tTodas las Salidas producidas: [[-1 -1 -1 -1 -1 -1 -1]]\n",
      "\t\tTodas las Salidas deseadas:   [[ 1  1  1  1 -1 -1 -1]]\n",
      "Iteración #01 \tTodas las Salidas producidas: [[ 1  1  1  1 -1  1  0]]\n",
      "\t\tTodas las Salidas deseadas:   [[ 1  1  1  1 -1 -1 -1]]\n",
      "Iteración #05 \tTodas las Salidas producidas: [[-1  1  1 -1 -1 -1 -1]]\n",
      "\t\tTodas las Salidas deseadas:   [[ 1  1  1  1 -1 -1 -1]]\n",
      "Iteración #07 \tTodas las Salidas producidas: [[ 1  1  1  1 -1  1 -1]]\n",
      "\t\tTodas las Salidas deseadas:   [[ 1  1  1  1 -1 -1 -1]]\n",
      "Iteración #12 \tTodas las Salidas producidas: [[-1  1  1 -1 -1 -1 -1]]\n",
      "\t\tTodas las Salidas deseadas:   [[ 1  1  1  1 -1 -1 -1]]\n",
      "Iteración #14 \tTodas las Salidas producidas: [[ 1  1  1  1 -1  1 -1]]\n",
      "\t\tTodas las Salidas deseadas:   [[ 1  1  1  1 -1 -1 -1]]\n",
      "Iteración #19 \tTodas las Salidas producidas: [[-1  1  1 -1 -1 -1 -1]]\n",
      "\t\tTodas las Salidas deseadas:   [[ 1  1  1  1 -1 -1 -1]]\n",
      "Iteración #21 \tTodas las Salidas producidas: [[ 1  1  1  1 -1 -1 -1]]\n",
      "\t\tTodas las Salidas deseadas:   [[ 1  1  1  1 -1 -1 -1]]\n"
     ]
    }
   ],
   "source": [
    "ps.train(X, d.reshape (-1,1))"
   ]
  },
  {
   "cell_type": "markdown",
   "metadata": {},
   "source": [
    "## Visualización de los resultados"
   ]
  },
  {
   "cell_type": "code",
   "execution_count": 11,
   "metadata": {},
   "outputs": [],
   "source": [
    "pesos, bias = ps.get_params()"
   ]
  },
  {
   "cell_type": "code",
   "execution_count": 12,
   "metadata": {},
   "outputs": [
    {
     "data": {
      "image/png": "[encoded data removed]",
      "text/plain": [
       "<Figure size 432x288 with 1 Axes>"
      ]
     },
     "metadata": {
      "needs_background": "light"
     },
     "output_type": "display_data"
    }
   ],
   "source": [
    "plt.scatter (X[np.argwhere(d==1), 0], X[np.argwhere(d==1), 1], c='blue')\n",
    "plt.scatter (X[np.argwhere(d==-1), 0], X[np.argwhere(d==-1), 1], c='green')\n",
    "plt.xlabel ('x1')\n",
    "plt.ylabel ('x2')\n",
    "plt.xlim=((0,1))\n",
    "plt.ylim=((0,1))\n",
    "plt.grid ()\n",
    "x1= np.array([0.0, 1.0])\n",
    "x2= np.array([-bias[0,0]/pesos[0,1], (-bias [0,0]-pesos [0,0])/pesos[0,1] ])\n",
    "plt.plot (x1, x2, c='red')\n",
    "plt.show()"
   ]
  },
  {
   "cell_type": "code",
   "execution_count": null,
   "metadata": {},
   "outputs": [],
   "source": []
  },
  {
   "cell_type": "code",
   "execution_count": null,
   "metadata": {},
   "outputs": [],
   "source": []
  }
 ],
 "metadata": {
  "kernelspec": {
   "display_name": "Python 3 (ipykernel)",
   "language": "python",
   "name": "python3"
  },
  "language_info": {
   "codemirror_mode": {
    "name": "ipython",
    "version": 3
   },
   "file_extension": ".py",
   "mimetype": "text/x-python",
   "name": "python",
   "nbconvert_exporter": "python",
   "pygments_lexer": "ipython3",
   "version": "3.9.7"
  }
 },
 "nbformat": 4,
 "nbformat_minor": 4
}
