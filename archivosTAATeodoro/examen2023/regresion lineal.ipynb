{
 "cells": [
  {
   "cell_type": "markdown",
   "metadata": {},
   "source": [
    "# REGRESIÓN LINEAL SIMPLE"
   ]
  },
  {
   "cell_type": "code",
   "execution_count": 1,
   "metadata": {},
   "outputs": [],
   "source": [
    "import numpy as np\n",
    "from sklearn.datasets import make_regression\n",
    "import  matplotlib.pyplot as plt"
   ]
  },
  {
   "cell_type": "markdown",
   "metadata": {},
   "source": [
    "## Datos artificiales para regresión lineal"
   ]
  },
  {
   "cell_type": "code",
   "execution_count": 13,
   "metadata": {},
   "outputs": [
    {
     "data": {
      "image/png": "[encoded data removed]",
      "text/plain": [
       "<Figure size 600x400 with 1 Axes>"
      ]
     },
     "metadata": {
      "needs_background": "light"
     },
     "output_type": "display_data"
    }
   ],
   "source": [
    "X, y = make_regression(n_samples=100, n_features=1, noise=5)\n",
    "\n",
    "figura, ejes = plt.subplots(dpi=100)\n",
    "ejes.scatter(X, y, marker=\"+\")\n",
    "ejes.grid(True)"
   ]
  },
  {
   "cell_type": "markdown",
   "metadata": {},
   "source": [
    "# LinearRegression (SKLEARN) - Mínimos Cuadrados"
   ]
  },
  {
   "cell_type": "code",
   "execution_count": 14,
   "metadata": {},
   "outputs": [],
   "source": [
    "from sklearn.linear_model import LinearRegression"
   ]
  },
  {
   "cell_type": "code",
   "execution_count": 15,
   "metadata": {},
   "outputs": [],
   "source": [
    "regresion_sklearn = LinearRegression()"
   ]
  },
  {
   "cell_type": "code",
   "execution_count": 16,
   "metadata": {},
   "outputs": [
    {
     "data": {
      "text/plain": [
       "LinearRegression()"
      ]
     },
     "execution_count": 16,
     "metadata": {},
     "output_type": "execute_result"
    }
   ],
   "source": [
    "regresion_sklearn.fit(X,y)"
   ]
  },
  {
   "cell_type": "code",
   "execution_count": 17,
   "metadata": {},
   "outputs": [
    {
     "data": {
      "text/plain": [
       "(array([51.29451117]), -0.0769200142187465, 0.9879610758270553)"
      ]
     },
     "execution_count": 17,
     "metadata": {},
     "output_type": "execute_result"
    }
   ],
   "source": [
    "regresion_sklearn.coef_, regresion_sklearn.intercept_, regresion_sklearn.score(X,y)"
   ]
  },
  {
   "cell_type": "markdown",
   "metadata": {},
   "source": [
    "# linregress (SCIPY) - Mínimos Cuadrados"
   ]
  },
  {
   "cell_type": "code",
   "execution_count": 18,
   "metadata": {},
   "outputs": [],
   "source": [
    "from scipy.stats import linregress"
   ]
  },
  {
   "cell_type": "code",
   "execution_count": 19,
   "metadata": {},
   "outputs": [
    {
     "data": {
      "text/plain": [
       "((100, 1), (100,))"
      ]
     },
     "execution_count": 19,
     "metadata": {},
     "output_type": "execute_result"
    }
   ],
   "source": [
    "X.shape, y.shape"
   ]
  },
  {
   "cell_type": "code",
   "execution_count": 20,
   "metadata": {},
   "outputs": [],
   "source": [
    "a, b, r, p, stderr = linregress(X.reshape(-1,), y)"
   ]
  },
  {
   "cell_type": "code",
   "execution_count": 21,
   "metadata": {},
   "outputs": [
    {
     "name": "stdout",
     "output_type": "stream",
     "text": [
      "LinregressResult(slope=51.29451117495661, intercept=-0.07692001421874473, rvalue=0.9939623110697182, pvalue=7.187743984572575e-96, stderr=0.5719812334467689, intercept_stderr=0.554299751655327)\n"
     ]
    }
   ],
   "source": [
    "print(linregress(X.reshape(-1,), y))"
   ]
  },
  {
   "cell_type": "code",
   "execution_count": 22,
   "metadata": {},
   "outputs": [
    {
     "data": {
      "text/plain": [
       "0.9879610758270553"
      ]
     },
     "execution_count": 22,
     "metadata": {},
     "output_type": "execute_result"
    }
   ],
   "source": [
    "r **2"
   ]
  },
  {
   "cell_type": "markdown",
   "metadata": {},
   "source": [
    "# DESCENSO DEL GRADIENTE ESTOCÁSTICO"
   ]
  },
  {
   "cell_type": "code",
   "execution_count": 69,
   "metadata": {},
   "outputs": [],
   "source": [
    "from sklearn.linear_model import SGDRegressor"
   ]
  },
  {
   "cell_type": "code",
   "execution_count": 70,
   "metadata": {},
   "outputs": [],
   "source": [
    "regr = SGDRegressor(max_iter=5000, tol=1e-5, random_state=20)"
   ]
  },
  {
   "cell_type": "code",
   "execution_count": 71,
   "metadata": {},
   "outputs": [
    {
     "data": {
      "text/plain": [
       "SGDRegressor(max_iter=5000, random_state=20, tol=1e-05)"
      ]
     },
     "execution_count": 71,
     "metadata": {},
     "output_type": "execute_result"
    }
   ],
   "source": [
    "regr.fit(X, y)"
   ]
  },
  {
   "cell_type": "code",
   "execution_count": 73,
   "metadata": {},
   "outputs": [
    {
     "data": {
      "text/plain": [
       "(array([68.78611356]), array([0.28389602]), 0.9952195873919644)"
      ]
     },
     "execution_count": 73,
     "metadata": {},
     "output_type": "execute_result"
    }
   ],
   "source": [
    "regr.coef_, regr.intercept_, regr.score(X,y)"
   ]
  },
  {
   "cell_type": "code",
   "execution_count": 75,
   "metadata": {},
   "outputs": [
    {
     "data": {
      "image/png": "[encoded data removed]",
      "text/plain": [
       "<Figure size 600x400 with 1 Axes>"
      ]
     },
     "metadata": {
      "needs_background": "light"
     },
     "output_type": "display_data"
    }
   ],
   "source": [
    "figure, axes = plt.subplots(dpi=100)\n",
    "axes.scatter(X,y, marker='+')\n",
    "axes.plot(X, regresion_sklearn.coef_*X+regresion_sklearn.intercept_, color='green', lw=0.1)\n",
    "axes.plot(X, regr.coef_*X + regr.intercept_, color = 'red', lw=0.1)\n",
    "axes.grid(True)"
   ]
  },
  {
   "cell_type": "markdown",
   "metadata": {},
   "source": [
    "# SIGNIFICADO ESTOCÁSTICO:\n",
    "\n",
    "    - Se define una época como una pasada por todas las muestras de un experimento\n",
    "\n",
    "    - Se van sirviendo las muestras previa permutación de su orden antes de cada época\n",
    "\n",
    "    - Se corrobora experimentalmente que es más eficiente"
   ]
  },
  {
   "cell_type": "code",
   "execution_count": 76,
   "metadata": {},
   "outputs": [],
   "source": [
    "from random import shuffle\n",
    "epoca = ['a', 'b', 'c', 'd', 'e']"
   ]
  },
  {
   "cell_type": "code",
   "execution_count": 78,
   "metadata": {
    "scrolled": true
   },
   "outputs": [
    {
     "name": "stdout",
     "output_type": "stream",
     "text": [
      "['c', 'e', 'a', 'd', 'b']\n",
      "['a', 'e', 'b', 'd', 'c']\n",
      "['a', 'c', 'e', 'd', 'b']\n",
      "['d', 'c', 'e', 'b', 'a']\n",
      "['b', 'c', 'd', 'e', 'a']\n"
     ]
    }
   ],
   "source": [
    "for i in range(5):\n",
    "    shuffle(epoca)\n",
    "    print(epoca)"
   ]
  },
  {
   "cell_type": "code",
   "execution_count": 62,
   "metadata": {},
   "outputs": [
    {
     "data": {
      "text/plain": [
       "\u001b[0;31mInit signature:\u001b[0m\n",
       "\u001b[0mSGDRegressor\u001b[0m\u001b[0;34m(\u001b[0m\u001b[0;34m\u001b[0m\n",
       "\u001b[0;34m\u001b[0m    \u001b[0mloss\u001b[0m\u001b[0;34m=\u001b[0m\u001b[0;34m'squared_loss'\u001b[0m\u001b[0;34m,\u001b[0m\u001b[0;34m\u001b[0m\n",
       "\u001b[0;34m\u001b[0m    \u001b[0;34m*\u001b[0m\u001b[0;34m,\u001b[0m\u001b[0;34m\u001b[0m\n",
       "\u001b[0;34m\u001b[0m    \u001b[0mpenalty\u001b[0m\u001b[0;34m=\u001b[0m\u001b[0;34m'l2'\u001b[0m\u001b[0;34m,\u001b[0m\u001b[0;34m\u001b[0m\n",
       "\u001b[0;34m\u001b[0m    \u001b[0malpha\u001b[0m\u001b[0;34m=\u001b[0m\u001b[0;36m0.0001\u001b[0m\u001b[0;34m,\u001b[0m\u001b[0;34m\u001b[0m\n",
       "\u001b[0;34m\u001b[0m    \u001b[0ml1_ratio\u001b[0m\u001b[0;34m=\u001b[0m\u001b[0;36m0.15\u001b[0m\u001b[0;34m,\u001b[0m\u001b[0;34m\u001b[0m\n",
       "\u001b[0;34m\u001b[0m    \u001b[0mfit_intercept\u001b[0m\u001b[0;34m=\u001b[0m\u001b[0;32mTrue\u001b[0m\u001b[0;34m,\u001b[0m\u001b[0;34m\u001b[0m\n",
       "\u001b[0;34m\u001b[0m    \u001b[0mmax_iter\u001b[0m\u001b[0;34m=\u001b[0m\u001b[0;36m1000\u001b[0m\u001b[0;34m,\u001b[0m\u001b[0;34m\u001b[0m\n",
       "\u001b[0;34m\u001b[0m    \u001b[0mtol\u001b[0m\u001b[0;34m=\u001b[0m\u001b[0;36m0.001\u001b[0m\u001b[0;34m,\u001b[0m\u001b[0;34m\u001b[0m\n",
       "\u001b[0;34m\u001b[0m    \u001b[0mshuffle\u001b[0m\u001b[0;34m=\u001b[0m\u001b[0;32mTrue\u001b[0m\u001b[0;34m,\u001b[0m\u001b[0;34m\u001b[0m\n",
       "\u001b[0;34m\u001b[0m    \u001b[0mverbose\u001b[0m\u001b[0;34m=\u001b[0m\u001b[0;36m0\u001b[0m\u001b[0;34m,\u001b[0m\u001b[0;34m\u001b[0m\n",
       "\u001b[0;34m\u001b[0m    \u001b[0mepsilon\u001b[0m\u001b[0;34m=\u001b[0m\u001b[0;36m0.1\u001b[0m\u001b[0;34m,\u001b[0m\u001b[0;34m\u001b[0m\n",
       "\u001b[0;34m\u001b[0m    \u001b[0mrandom_state\u001b[0m\u001b[0;34m=\u001b[0m\u001b[0;32mNone\u001b[0m\u001b[0;34m,\u001b[0m\u001b[0;34m\u001b[0m\n",
       "\u001b[0;34m\u001b[0m    \u001b[0mlearning_rate\u001b[0m\u001b[0;34m=\u001b[0m\u001b[0;34m'invscaling'\u001b[0m\u001b[0;34m,\u001b[0m\u001b[0;34m\u001b[0m\n",
       "\u001b[0;34m\u001b[0m    \u001b[0meta0\u001b[0m\u001b[0;34m=\u001b[0m\u001b[0;36m0.01\u001b[0m\u001b[0;34m,\u001b[0m\u001b[0;34m\u001b[0m\n",
       "\u001b[0;34m\u001b[0m    \u001b[0mpower_t\u001b[0m\u001b[0;34m=\u001b[0m\u001b[0;36m0.25\u001b[0m\u001b[0;34m,\u001b[0m\u001b[0;34m\u001b[0m\n",
       "\u001b[0;34m\u001b[0m    \u001b[0mearly_stopping\u001b[0m\u001b[0;34m=\u001b[0m\u001b[0;32mFalse\u001b[0m\u001b[0;34m,\u001b[0m\u001b[0;34m\u001b[0m\n",
       "\u001b[0;34m\u001b[0m    \u001b[0mvalidation_fraction\u001b[0m\u001b[0;34m=\u001b[0m\u001b[0;36m0.1\u001b[0m\u001b[0;34m,\u001b[0m\u001b[0;34m\u001b[0m\n",
       "\u001b[0;34m\u001b[0m    \u001b[0mn_iter_no_change\u001b[0m\u001b[0;34m=\u001b[0m\u001b[0;36m5\u001b[0m\u001b[0;34m,\u001b[0m\u001b[0;34m\u001b[0m\n",
       "\u001b[0;34m\u001b[0m    \u001b[0mwarm_start\u001b[0m\u001b[0;34m=\u001b[0m\u001b[0;32mFalse\u001b[0m\u001b[0;34m,\u001b[0m\u001b[0;34m\u001b[0m\n",
       "\u001b[0;34m\u001b[0m    \u001b[0maverage\u001b[0m\u001b[0;34m=\u001b[0m\u001b[0;32mFalse\u001b[0m\u001b[0;34m,\u001b[0m\u001b[0;34m\u001b[0m\n",
       "\u001b[0;34m\u001b[0m\u001b[0;34m)\u001b[0m\u001b[0;34m\u001b[0m\u001b[0;34m\u001b[0m\u001b[0m\n",
       "\u001b[0;31mDocstring:\u001b[0m     \n",
       "Linear model fitted by minimizing a regularized empirical loss with SGD\n",
       "\n",
       "SGD stands for Stochastic Gradient Descent: the gradient of the loss is\n",
       "estimated each sample at a time and the model is updated along the way with\n",
       "a decreasing strength schedule (aka learning rate).\n",
       "\n",
       "The regularizer is a penalty added to the loss function that shrinks model\n",
       "parameters towards the zero vector using either the squared euclidean norm\n",
       "L2 or the absolute norm L1 or a combination of both (Elastic Net). If the\n",
       "parameter update crosses the 0.0 value because of the regularizer, the\n",
       "update is truncated to 0.0 to allow for learning sparse models and achieve\n",
       "online feature selection.\n",
       "\n",
       "This implementation works with data represented as dense numpy arrays of\n",
       "floating point values for the features.\n",
       "\n",
       "Read more in the :ref:`User Guide <sgd>`.\n",
       "\n",
       "Parameters\n",
       "----------\n",
       "loss : str, default='squared_loss'\n",
       "    The loss function to be used. The possible values are 'squared_loss',\n",
       "    'huber', 'epsilon_insensitive', or 'squared_epsilon_insensitive'\n",
       "\n",
       "    The 'squared_loss' refers to the ordinary least squares fit.\n",
       "    'huber' modifies 'squared_loss' to focus less on getting outliers\n",
       "    correct by switching from squared to linear loss past a distance of\n",
       "    epsilon. 'epsilon_insensitive' ignores errors less than epsilon and is\n",
       "    linear past that; this is the loss function used in SVR.\n",
       "    'squared_epsilon_insensitive' is the same but becomes squared loss past\n",
       "    a tolerance of epsilon.\n",
       "\n",
       "    More details about the losses formulas can be found in the\n",
       "    :ref:`User Guide <sgd_mathematical_formulation>`.\n",
       "\n",
       "penalty : {'l2', 'l1', 'elasticnet'}, default='l2'\n",
       "    The penalty (aka regularization term) to be used. Defaults to 'l2'\n",
       "    which is the standard regularizer for linear SVM models. 'l1' and\n",
       "    'elasticnet' might bring sparsity to the model (feature selection)\n",
       "    not achievable with 'l2'.\n",
       "\n",
       "alpha : float, default=0.0001\n",
       "    Constant that multiplies the regularization term. The higher the\n",
       "    value, the stronger the regularization.\n",
       "    Also used to compute the learning rate when set to `learning_rate` is\n",
       "    set to 'optimal'.\n",
       "\n",
       "l1_ratio : float, default=0.15\n",
       "    The Elastic Net mixing parameter, with 0 <= l1_ratio <= 1.\n",
       "    l1_ratio=0 corresponds to L2 penalty, l1_ratio=1 to L1.\n",
       "    Only used if `penalty` is 'elasticnet'.\n",
       "\n",
       "fit_intercept : bool, default=True\n",
       "    Whether the intercept should be estimated or not. If False, the\n",
       "    data is assumed to be already centered.\n",
       "\n",
       "max_iter : int, default=1000\n",
       "    The maximum number of passes over the training data (aka epochs).\n",
       "    It only impacts the behavior in the ``fit`` method, and not the\n",
       "    :meth:`partial_fit` method.\n",
       "\n",
       "    .. versionadded:: 0.19\n",
       "\n",
       "tol : float, default=1e-3\n",
       "    The stopping criterion. If it is not None, training will stop\n",
       "    when (loss > best_loss - tol) for ``n_iter_no_change`` consecutive\n",
       "    epochs.\n",
       "\n",
       "    .. versionadded:: 0.19\n",
       "\n",
       "shuffle : bool, default=True\n",
       "    Whether or not the training data should be shuffled after each epoch.\n",
       "\n",
       "verbose : int, default=0\n",
       "    The verbosity level.\n",
       "\n",
       "epsilon : float, default=0.1\n",
       "    Epsilon in the epsilon-insensitive loss functions; only if `loss` is\n",
       "    'huber', 'epsilon_insensitive', or 'squared_epsilon_insensitive'.\n",
       "    For 'huber', determines the threshold at which it becomes less\n",
       "    important to get the prediction exactly right.\n",
       "    For epsilon-insensitive, any differences between the current prediction\n",
       "    and the correct label are ignored if they are less than this threshold.\n",
       "\n",
       "random_state : int, RandomState instance, default=None\n",
       "    Used for shuffling the data, when ``shuffle`` is set to ``True``.\n",
       "    Pass an int for reproducible output across multiple function calls.\n",
       "    See :term:`Glossary <random_state>`.\n",
       "\n",
       "learning_rate : string, default='invscaling'\n",
       "    The learning rate schedule:\n",
       "\n",
       "    - 'constant': `eta = eta0`\n",
       "    - 'optimal': `eta = 1.0 / (alpha * (t + t0))`\n",
       "      where t0 is chosen by a heuristic proposed by Leon Bottou.\n",
       "    - 'invscaling': `eta = eta0 / pow(t, power_t)`\n",
       "    - 'adaptive': eta = eta0, as long as the training keeps decreasing.\n",
       "      Each time n_iter_no_change consecutive epochs fail to decrease the\n",
       "      training loss by tol or fail to increase validation score by tol if\n",
       "      early_stopping is True, the current learning rate is divided by 5.\n",
       "\n",
       "        .. versionadded:: 0.20\n",
       "            Added 'adaptive' option\n",
       "\n",
       "eta0 : double, default=0.01\n",
       "    The initial learning rate for the 'constant', 'invscaling' or\n",
       "    'adaptive' schedules. The default value is 0.01.\n",
       "\n",
       "power_t : double, default=0.25\n",
       "    The exponent for inverse scaling learning rate.\n",
       "\n",
       "early_stopping : bool, default=False\n",
       "    Whether to use early stopping to terminate training when validation\n",
       "    score is not improving. If set to True, it will automatically set aside\n",
       "    a fraction of training data as validation and terminate\n",
       "    training when validation score returned by the `score` method is not\n",
       "    improving by at least `tol` for `n_iter_no_change` consecutive\n",
       "    epochs.\n",
       "\n",
       "    .. versionadded:: 0.20\n",
       "        Added 'early_stopping' option\n",
       "\n",
       "validation_fraction : float, default=0.1\n",
       "    The proportion of training data to set aside as validation set for\n",
       "    early stopping. Must be between 0 and 1.\n",
       "    Only used if `early_stopping` is True.\n",
       "\n",
       "    .. versionadded:: 0.20\n",
       "        Added 'validation_fraction' option\n",
       "\n",
       "n_iter_no_change : int, default=5\n",
       "    Number of iterations with no improvement to wait before early stopping.\n",
       "\n",
       "    .. versionadded:: 0.20\n",
       "        Added 'n_iter_no_change' option\n",
       "\n",
       "warm_start : bool, default=False\n",
       "    When set to True, reuse the solution of the previous call to fit as\n",
       "    initialization, otherwise, just erase the previous solution.\n",
       "    See :term:`the Glossary <warm_start>`.\n",
       "\n",
       "    Repeatedly calling fit or partial_fit when warm_start is True can\n",
       "    result in a different solution than when calling fit a single time\n",
       "    because of the way the data is shuffled.\n",
       "    If a dynamic learning rate is used, the learning rate is adapted\n",
       "    depending on the number of samples already seen. Calling ``fit`` resets\n",
       "    this counter, while ``partial_fit``  will result in increasing the\n",
       "    existing counter.\n",
       "\n",
       "average : bool or int, default=False\n",
       "    When set to True, computes the averaged SGD weights accross all\n",
       "    updates and stores the result in the ``coef_`` attribute. If set to\n",
       "    an int greater than 1, averaging will begin once the total number of\n",
       "    samples seen reaches `average`. So ``average=10`` will begin\n",
       "    averaging after seeing 10 samples.\n",
       "\n",
       "Attributes\n",
       "----------\n",
       "coef_ : ndarray of shape (n_features,)\n",
       "    Weights assigned to the features.\n",
       "\n",
       "intercept_ : ndarray of shape (1,)\n",
       "    The intercept term.\n",
       "\n",
       "average_coef_ : ndarray of shape (n_features,)\n",
       "    Averaged weights assigned to the features. Only available\n",
       "    if ``average=True``.\n",
       "\n",
       "    .. deprecated:: 0.23\n",
       "        Attribute ``average_coef_`` was deprecated\n",
       "        in version 0.23 and will be removed in 0.25.\n",
       "\n",
       "average_intercept_ : ndarray of shape (1,)\n",
       "    The averaged intercept term. Only available if ``average=True``.\n",
       "\n",
       "    .. deprecated:: 0.23\n",
       "        Attribute ``average_intercept_`` was deprecated\n",
       "        in version 0.23 and will be removed in 0.25.\n",
       "\n",
       "n_iter_ : int\n",
       "    The actual number of iterations before reaching the stopping criterion.\n",
       "\n",
       "t_ : int\n",
       "    Number of weight updates performed during training.\n",
       "    Same as ``(n_iter_ * n_samples)``.\n",
       "\n",
       "Examples\n",
       "--------\n",
       ">>> import numpy as np\n",
       ">>> from sklearn.linear_model import SGDRegressor\n",
       ">>> from sklearn.pipeline import make_pipeline\n",
       ">>> from sklearn.preprocessing import StandardScaler\n",
       ">>> n_samples, n_features = 10, 5\n",
       ">>> rng = np.random.RandomState(0)\n",
       ">>> y = rng.randn(n_samples)\n",
       ">>> X = rng.randn(n_samples, n_features)\n",
       ">>> # Always scale the input. The most convenient way is to use a pipeline.\n",
       ">>> reg = make_pipeline(StandardScaler(),\n",
       "...                     SGDRegressor(max_iter=1000, tol=1e-3))\n",
       ">>> reg.fit(X, y)\n",
       "Pipeline(steps=[('standardscaler', StandardScaler()),\n",
       "                ('sgdregressor', SGDRegressor())])\n",
       "\n",
       "See also\n",
       "--------\n",
       "Ridge, ElasticNet, Lasso, sklearn.svm.SVR\n",
       "\u001b[0;31mFile:\u001b[0m           ~/anaconda3/lib/python3.8/site-packages/sklearn/linear_model/_stochastic_gradient.py\n",
       "\u001b[0;31mType:\u001b[0m           ABCMeta\n",
       "\u001b[0;31mSubclasses:\u001b[0m     \n"
      ]
     },
     "metadata": {},
     "output_type": "display_data"
    }
   ],
   "source": []
  },
  {
   "cell_type": "code",
   "execution_count": null,
   "metadata": {},
   "outputs": [],
   "source": []
  }
 ],
 "metadata": {
  "kernelspec": {
   "display_name": "Python 3",
   "language": "python",
   "name": "python3"
  },
  "language_info": {
   "codemirror_mode": {
    "name": "ipython",
    "version": 3
   },
   "file_extension": ".py",
   "mimetype": "text/x-python",
   "name": "python",
   "nbconvert_exporter": "python",
   "pygments_lexer": "ipython3",
   "version": "3.10.5 (tags/v3.10.5:f377153, Jun  6 2022, 16:14:13) [MSC v.1929 64 bit (AMD64)]"
  },
  "vscode": {
   "interpreter": {
    "hash": "6a99fcdf587a9b7f60090dd3b730569266bf09a8a4c6a3d9d62687823b8d432a"
   }
  }
 },
 "nbformat": 4,
 "nbformat_minor": 4
}
