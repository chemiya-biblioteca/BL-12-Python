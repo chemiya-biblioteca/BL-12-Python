{
 "cells": [
  {
   "cell_type": "code",
   "execution_count": 1,
   "metadata": {},
   "outputs": [],
   "source": [
    "import numpy as np\n",
    "from sklearn import datasets\n",
    "from sklearn.preprocessing import MinMaxScaler\n",
    "from sklearn.model_selection import train_test_split\n",
    "from sklearn.cluster import KMeans\n",
    "from scipy.stats import mode\n",
    "from sklearn.metrics import accuracy_score\n",
    "import pandas as pd"
   ]
  },
  {
   "cell_type": "markdown",
   "metadata": {},
   "source": [
    "# Cargar y escalar los datos"
   ]
  },
  {
   "cell_type": "code",
   "execution_count": 2,
   "metadata": {},
   "outputs": [
    {
     "data": {
      "text/plain": [
       "((150, 4), (150,))"
      ]
     },
     "execution_count": 2,
     "metadata": {},
     "output_type": "execute_result"
    }
   ],
   "source": [
    "iris = datasets.load_iris()\n",
    "y = iris.target\n",
    "X = MinMaxScaler().fit_transform(iris.data)#solo el x\n",
    "X.shape, y.shape"
   ]
  },
  {
   "cell_type": "markdown",
   "metadata": {},
   "source": [
    "## Método del Resorte"
   ]
  },
  {
   "cell_type": "code",
   "execution_count": 3,
   "metadata": {},
   "outputs": [],
   "source": [
    "X_train, X_test, y_train, y_test = train_test_split(X, y, test_size=1/3, stratify=y)\n"
   ]
  },
  {
   "cell_type": "markdown",
   "metadata": {},
   "source": [
    "## DataFrame para Resultados"
   ]
  },
  {
   "cell_type": "code",
   "execution_count": 6,
   "metadata": {},
   "outputs": [
    {
     "name": "stdout",
     "output_type": "stream",
     "text": [
      "[0 1 2]\n"
     ]
    }
   ],
   "source": [
    "max_clusters = 15\n",
    "min_clusters = np.unique(y).shape[0]#minimo los que halla\n",
    "#print(np.unique(y))= 012"
   ]
  },
  {
   "cell_type": "code",
   "execution_count": 8,
   "metadata": {},
   "outputs": [],
   "source": [
    "tabla = pd.DataFrame(columns=['n_clusters', 'aciertos_entrenamiento', 'aciertos_test'])"
   ]
  },
  {
   "cell_type": "code",
   "execution_count": 23,
   "metadata": {
    "tags": []
   },
   "outputs": [
    {
     "name": "stdout",
     "output_type": "stream",
     "text": [
      "[2 2 1 0 1 0 2 2 0 0 2 0 2 1 0 2 2 0 2 0 0 1 0 2 0 2 0 0 0 0 2 1 0 2 1 2 1\n",
      " 2 1 2 0 1 1 1 1 2 2 1 1 1]\n",
      "[2 2 1 0 1 0 2 2 0 0 2 0 2 1 0 1 2 0 2 0 0 1 0 1 0 2 0 0 0 0 2 1 0 2 1 2 1\n",
      " 2 1 1 0 1 1 1 2 2 1 1 1 1]\n",
      "[2 2 1 0 1 0 2 2 0 0 2 0 1 1 0 1 1 0 2 0 0 1 0 1 0 2 0 0 0 0 1 1 0 2 1 2 1\n",
      " 2 1 1 0 1 1 1 1 2 1 1 1 1]\n",
      "[2 2 1 0 1 0 2 2 0 0 2 0 1 1 0 1 1 0 2 0 0 1 0 1 0 2 0 0 0 0 1 1 0 2 1 2 1\n",
      " 2 1 1 0 1 1 1 1 2 1 1 1 1]\n",
      "[2 2 1 0 1 0 2 2 0 0 2 0 2 1 0 2 2 0 2 0 0 1 0 2 0 2 0 0 0 0 2 1 0 2 1 2 1\n",
      " 2 1 1 0 1 1 1 1 2 2 1 1 1]\n",
      "[2 2 1 0 1 0 2 2 0 0 2 0 1 1 0 2 2 0 2 0 0 1 0 2 0 2 0 0 0 0 2 1 0 2 1 2 1\n",
      " 2 1 1 0 1 1 1 1 2 2 1 1 1]\n",
      "[2 2 1 0 1 0 2 2 0 0 2 0 2 1 0 2 2 0 2 0 0 1 0 2 0 2 0 0 0 0 2 1 0 2 1 2 1\n",
      " 2 1 1 0 1 1 1 1 2 2 1 1 1]\n",
      "[2 2 1 0 1 0 2 2 0 0 2 0 1 1 0 2 2 0 2 0 0 1 0 2 0 2 0 0 0 0 1 1 0 2 1 2 1\n",
      " 2 1 1 0 1 1 1 1 2 1 1 1 1]\n",
      "[2 2 1 0 1 0 2 2 0 0 2 0 1 1 0 2 2 0 2 0 0 1 0 2 0 2 0 0 0 0 1 1 0 2 1 2 1\n",
      " 2 1 2 0 1 1 1 1 2 2 1 1 1]\n",
      "[2 2 1 0 1 0 2 2 0 0 2 0 1 1 0 2 2 0 2 0 0 1 0 2 0 2 0 0 0 0 2 1 0 2 1 2 1\n",
      " 2 1 2 0 1 1 1 1 2 2 1 1 1]\n",
      "[2 2 1 0 1 0 2 2 0 0 2 0 2 1 0 2 2 0 2 0 0 1 0 2 0 2 0 0 0 0 2 1 0 2 1 2 1\n",
      " 2 1 2 0 1 1 1 1 2 2 1 1 1]\n",
      "[2 2 1 0 1 0 2 2 0 0 2 0 2 1 0 2 2 0 2 0 0 1 0 2 0 2 0 0 0 0 2 1 0 2 1 2 1\n",
      " 2 1 2 0 1 1 1 1 2 2 1 1 1]\n",
      "[2 2 1 0 1 0 2 2 0 0 2 0 2 1 0 2 2 0 2 0 0 1 0 2 0 2 0 0 0 0 2 1 0 2 1 2 1\n",
      " 2 1 2 0 1 1 1 1 2 2 1 1 1]\n"
     ]
    }
   ],
   "source": [
    "for i, c in enumerate(range(min_clusters, max_clusters+1)):#enumerate hace array de 2\n",
    "    #03,14,25,36\n",
    "    kmedias = KMeans(n_clusters=int(c), random_state=0)#hago kmedias\n",
    "    kmedias.fit(X_train)#con solo el train\n",
    "    moda = -1 * np.ones(int(c), dtype='int')#array de -1\n",
    "    #print(moda)  de 3,4,5,.... con -1\n",
    "    for i in range(int(c)):#mode claucla la moda\n",
    "        #print(i) 012, 0123,01234\n",
    "        #print(kmedias.labels_) 20201\n",
    "        \n",
    "        moda[i] = mode(y_train[np.argwhere(kmedias.labels_ == i)])[0].astype(int)#de entreno solo los que tengan label\n",
    "    \n",
    "    y_test_predict = moda[kmedias.predict(X_test)]#predict sobre el test\n",
    "    y_train_predict = moda[kmedias.predict(X_train)]#predict sobre el train\n",
    "    tabla.loc[i] = [int(c), accuracy_score(y_train, y_train_predict), accuracy_score(y_test, y_test_predict)]\n",
    "    #ambos acurrancy con train y test\n",
    "    #aciertos entrenamiento y aciertos test\n",
    "   "
   ]
  },
  {
   "cell_type": "markdown",
   "metadata": {},
   "source": [
    "## Tabla de Resultados"
   ]
  },
  {
   "cell_type": "code",
   "execution_count": 41,
   "metadata": {},
   "outputs": [
    {
     "data": {
      "text/html": [
       "<div>\n",
       "<style scoped>\n",
       "    .dataframe tbody tr th:only-of-type {\n",
       "        vertical-align: middle;\n",
       "    }\n",
       "\n",
       "    .dataframe tbody tr th {\n",
       "        vertical-align: top;\n",
       "    }\n",
       "\n",
       "    .dataframe thead th {\n",
       "        text-align: right;\n",
       "    }\n",
       "</style>\n",
       "<table border=\"1\" class=\"dataframe\">\n",
       "  <thead>\n",
       "    <tr style=\"text-align: right;\">\n",
       "      <th></th>\n",
       "      <th>n_clusters</th>\n",
       "      <th>aciertos_entrenamiento</th>\n",
       "      <th>aciertos_test</th>\n",
       "    </tr>\n",
       "  </thead>\n",
       "  <tbody>\n",
       "    <tr>\n",
       "      <th>2</th>\n",
       "      <td>3.0</td>\n",
       "      <td>0.91</td>\n",
       "      <td>0.86</td>\n",
       "    </tr>\n",
       "    <tr>\n",
       "      <th>3</th>\n",
       "      <td>4.0</td>\n",
       "      <td>0.89</td>\n",
       "      <td>0.80</td>\n",
       "    </tr>\n",
       "    <tr>\n",
       "      <th>4</th>\n",
       "      <td>5.0</td>\n",
       "      <td>0.89</td>\n",
       "      <td>0.80</td>\n",
       "    </tr>\n",
       "    <tr>\n",
       "      <th>5</th>\n",
       "      <td>6.0</td>\n",
       "      <td>0.90</td>\n",
       "      <td>0.82</td>\n",
       "    </tr>\n",
       "    <tr>\n",
       "      <th>6</th>\n",
       "      <td>7.0</td>\n",
       "      <td>0.90</td>\n",
       "      <td>0.82</td>\n",
       "    </tr>\n",
       "    <tr>\n",
       "      <th>7</th>\n",
       "      <td>8.0</td>\n",
       "      <td>0.98</td>\n",
       "      <td>0.94</td>\n",
       "    </tr>\n",
       "    <tr>\n",
       "      <th>8</th>\n",
       "      <td>9.0</td>\n",
       "      <td>0.98</td>\n",
       "      <td>0.94</td>\n",
       "    </tr>\n",
       "    <tr>\n",
       "      <th>9</th>\n",
       "      <td>10.0</td>\n",
       "      <td>0.98</td>\n",
       "      <td>0.96</td>\n",
       "    </tr>\n",
       "    <tr>\n",
       "      <th>10</th>\n",
       "      <td>11.0</td>\n",
       "      <td>0.99</td>\n",
       "      <td>0.92</td>\n",
       "    </tr>\n",
       "    <tr>\n",
       "      <th>11</th>\n",
       "      <td>12.0</td>\n",
       "      <td>0.97</td>\n",
       "      <td>0.94</td>\n",
       "    </tr>\n",
       "    <tr>\n",
       "      <th>12</th>\n",
       "      <td>13.0</td>\n",
       "      <td>0.96</td>\n",
       "      <td>0.94</td>\n",
       "    </tr>\n",
       "    <tr>\n",
       "      <th>13</th>\n",
       "      <td>14.0</td>\n",
       "      <td>0.97</td>\n",
       "      <td>0.94</td>\n",
       "    </tr>\n",
       "    <tr>\n",
       "      <th>14</th>\n",
       "      <td>15.0</td>\n",
       "      <td>0.96</td>\n",
       "      <td>0.94</td>\n",
       "    </tr>\n",
       "  </tbody>\n",
       "</table>\n",
       "</div>"
      ],
      "text/plain": [
       "    n_clusters  aciertos_entrenamiento  aciertos_test\n",
       "2          3.0                    0.91           0.86\n",
       "3          4.0                    0.89           0.80\n",
       "4          5.0                    0.89           0.80\n",
       "5          6.0                    0.90           0.82\n",
       "6          7.0                    0.90           0.82\n",
       "7          8.0                    0.98           0.94\n",
       "8          9.0                    0.98           0.94\n",
       "9         10.0                    0.98           0.96\n",
       "10        11.0                    0.99           0.92\n",
       "11        12.0                    0.97           0.94\n",
       "12        13.0                    0.96           0.94\n",
       "13        14.0                    0.97           0.94\n",
       "14        15.0                    0.96           0.94"
      ]
     },
     "execution_count": 41,
     "metadata": {},
     "output_type": "execute_result"
    }
   ],
   "source": [
    "tabla"
   ]
  },
  {
   "cell_type": "markdown",
   "metadata": {},
   "source": [
    "## Diagrama de barras"
   ]
  },
  {
   "cell_type": "code",
   "execution_count": 42,
   "metadata": {},
   "outputs": [
    {
     "data": {
      "image/png": "[encoded data removed]",
      "text/plain": [
       "<Figure size 432x288 with 1 Axes>"
      ]
     },
     "metadata": {
      "needs_background": "light"
     },
     "output_type": "display_data"
    }
   ],
   "source": [
    "import matplotlib\n",
    "import matplotlib.pyplot as plt\n",
    "plt.bar(np.arange(min_clusters,max_clusters+1, dtype='int'), tabla.aciertos_test)\n",
    "plt.title(\"IRIS : K-medias\")\n",
    "plt.xlabel(\"Nº clusters\")\n",
    "plt.ylabel(\"Tasa aciertos (test)\")\n",
    "plt.show()"
   ]
  },
  {
   "cell_type": "code",
   "execution_count": 34,
   "metadata": {},
   "outputs": [
    {
     "name": "stdout",
     "output_type": "stream",
     "text": [
      "El k óptimo es:  10   con una tasa de aciertos de:  1.0\n"
     ]
    }
   ],
   "source": [
    "n_optimo=tabla.aciertos_test.argmax()\n",
    "print(\"El k óptimo es: \", n_optimo, \"  con una tasa de aciertos de: \", tabla.aciertos_test.iloc[n_optimo])"
   ]
  },
  {
   "cell_type": "code",
   "execution_count": null,
   "metadata": {},
   "outputs": [],
   "source": []
  }
 ],
 "metadata": {
  "kernelspec": {
   "display_name": "Python 3 (ipykernel)",
   "language": "python",
   "name": "python3"
  },
  "language_info": {
   "codemirror_mode": {
    "name": "ipython",
    "version": 3
   },
   "file_extension": ".py",
   "mimetype": "text/x-python",
   "name": "python",
   "nbconvert_exporter": "python",
   "pygments_lexer": "ipython3",
   "version": "3.9.7"
  }
 },
 "nbformat": 4,
 "nbformat_minor": 4
}
