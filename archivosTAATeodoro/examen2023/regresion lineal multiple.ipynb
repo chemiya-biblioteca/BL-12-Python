{
 "cells": [
  {
   "cell_type": "markdown",
   "metadata": {},
   "source": [
    "## REGRESIÓN LINEAL MÚLTIPLE - IRIS"
   ]
  },
  {
   "cell_type": "code",
   "execution_count": 1,
   "metadata": {},
   "outputs": [],
   "source": [
    "import numpy as np\n",
    "from sys import float_info\n",
    "from sklearn.datasets import load_iris\n",
    "from sklearn.preprocessing import MinMaxScaler, LabelBinarizer\n",
    "from sklearn.model_selection import train_test_split \n",
    "from sklearn.linear_model import LinearRegression, LogisticRegression\n",
    "from sklearn.metrics import confusion_matrix\n",
    "from sklearn.metrics import accuracy_score"
   ]
  },
  {
   "cell_type": "markdown",
   "metadata": {},
   "source": [
    "### Carga de Datos, Escalado y muestra de etiquetas diferentes"
   ]
  },
  {
   "cell_type": "code",
   "execution_count": 2,
   "metadata": {},
   "outputs": [
    {
     "data": {
      "text/plain": [
       "array([0, 1, 2])"
      ]
     },
     "execution_count": 2,
     "metadata": {},
     "output_type": "execute_result"
    }
   ],
   "source": [
    "iris = load_iris()\n",
    "scaler = MinMaxScaler()\n",
    "\n",
    "x = scaler.fit_transform(iris.data)#solo min max sobre x\n",
    "\n",
    "np.unique(iris.target)"
   ]
  },
  {
   "cell_type": "code",
   "execution_count": 3,
   "metadata": {
    "scrolled": true
   },
   "outputs": [
    {
     "data": {
      "text/plain": [
       "(array([0., 0., 0., 0.]), array([1., 1., 1., 1.]))"
      ]
     },
     "execution_count": 3,
     "metadata": {},
     "output_type": "execute_result"
    }
   ],
   "source": [
    "np.min(x, axis=0), np.max(x, axis=0)"
   ]
  },
  {
   "cell_type": "markdown",
   "metadata": {},
   "source": [
    "### Binarización de las Etiquetas"
   ]
  },
  {
   "cell_type": "code",
   "execution_count": 4,
   "metadata": {},
   "outputs": [
    {
     "data": {
      "text/plain": [
       "array([[1., 0., 0.],\n",
       "       [1., 0., 0.],\n",
       "       [1., 0., 0.],\n",
       "       [1., 0., 0.],\n",
       "       [1., 0., 0.],\n",
       "       [1., 0., 0.],\n",
       "       [1., 0., 0.],\n",
       "       [1., 0., 0.],\n",
       "       [1., 0., 0.],\n",
       "       [1., 0., 0.],\n",
       "       [1., 0., 0.],\n",
       "       [1., 0., 0.],\n",
       "       [1., 0., 0.],\n",
       "       [1., 0., 0.],\n",
       "       [1., 0., 0.],\n",
       "       [1., 0., 0.],\n",
       "       [1., 0., 0.],\n",
       "       [1., 0., 0.],\n",
       "       [1., 0., 0.],\n",
       "       [1., 0., 0.],\n",
       "       [1., 0., 0.],\n",
       "       [1., 0., 0.],\n",
       "       [1., 0., 0.],\n",
       "       [1., 0., 0.],\n",
       "       [1., 0., 0.],\n",
       "       [1., 0., 0.],\n",
       "       [1., 0., 0.],\n",
       "       [1., 0., 0.],\n",
       "       [1., 0., 0.],\n",
       "       [1., 0., 0.],\n",
       "       [1., 0., 0.],\n",
       "       [1., 0., 0.],\n",
       "       [1., 0., 0.],\n",
       "       [1., 0., 0.],\n",
       "       [1., 0., 0.],\n",
       "       [1., 0., 0.],\n",
       "       [1., 0., 0.],\n",
       "       [1., 0., 0.],\n",
       "       [1., 0., 0.],\n",
       "       [1., 0., 0.],\n",
       "       [1., 0., 0.],\n",
       "       [1., 0., 0.],\n",
       "       [1., 0., 0.],\n",
       "       [1., 0., 0.],\n",
       "       [1., 0., 0.],\n",
       "       [1., 0., 0.],\n",
       "       [1., 0., 0.],\n",
       "       [1., 0., 0.],\n",
       "       [1., 0., 0.],\n",
       "       [1., 0., 0.],\n",
       "       [0., 1., 0.],\n",
       "       [0., 1., 0.],\n",
       "       [0., 1., 0.],\n",
       "       [0., 1., 0.],\n",
       "       [0., 1., 0.],\n",
       "       [0., 1., 0.],\n",
       "       [0., 1., 0.],\n",
       "       [0., 1., 0.],\n",
       "       [0., 1., 0.],\n",
       "       [0., 1., 0.],\n",
       "       [0., 1., 0.],\n",
       "       [0., 1., 0.],\n",
       "       [0., 1., 0.],\n",
       "       [0., 1., 0.],\n",
       "       [0., 1., 0.],\n",
       "       [0., 1., 0.],\n",
       "       [0., 1., 0.],\n",
       "       [0., 1., 0.],\n",
       "       [0., 1., 0.],\n",
       "       [0., 1., 0.],\n",
       "       [0., 1., 0.],\n",
       "       [0., 1., 0.],\n",
       "       [0., 1., 0.],\n",
       "       [0., 1., 0.],\n",
       "       [0., 1., 0.],\n",
       "       [0., 1., 0.],\n",
       "       [0., 1., 0.],\n",
       "       [0., 1., 0.],\n",
       "       [0., 1., 0.],\n",
       "       [0., 1., 0.],\n",
       "       [0., 1., 0.],\n",
       "       [0., 1., 0.],\n",
       "       [0., 1., 0.],\n",
       "       [0., 1., 0.],\n",
       "       [0., 1., 0.],\n",
       "       [0., 1., 0.],\n",
       "       [0., 1., 0.],\n",
       "       [0., 1., 0.],\n",
       "       [0., 1., 0.],\n",
       "       [0., 1., 0.],\n",
       "       [0., 1., 0.],\n",
       "       [0., 1., 0.],\n",
       "       [0., 1., 0.],\n",
       "       [0., 1., 0.],\n",
       "       [0., 1., 0.],\n",
       "       [0., 1., 0.],\n",
       "       [0., 1., 0.],\n",
       "       [0., 1., 0.],\n",
       "       [0., 1., 0.],\n",
       "       [0., 1., 0.],\n",
       "       [0., 0., 1.],\n",
       "       [0., 0., 1.],\n",
       "       [0., 0., 1.],\n",
       "       [0., 0., 1.],\n",
       "       [0., 0., 1.],\n",
       "       [0., 0., 1.],\n",
       "       [0., 0., 1.],\n",
       "       [0., 0., 1.],\n",
       "       [0., 0., 1.],\n",
       "       [0., 0., 1.],\n",
       "       [0., 0., 1.],\n",
       "       [0., 0., 1.],\n",
       "       [0., 0., 1.],\n",
       "       [0., 0., 1.],\n",
       "       [0., 0., 1.],\n",
       "       [0., 0., 1.],\n",
       "       [0., 0., 1.],\n",
       "       [0., 0., 1.],\n",
       "       [0., 0., 1.],\n",
       "       [0., 0., 1.],\n",
       "       [0., 0., 1.],\n",
       "       [0., 0., 1.],\n",
       "       [0., 0., 1.],\n",
       "       [0., 0., 1.],\n",
       "       [0., 0., 1.],\n",
       "       [0., 0., 1.],\n",
       "       [0., 0., 1.],\n",
       "       [0., 0., 1.],\n",
       "       [0., 0., 1.],\n",
       "       [0., 0., 1.],\n",
       "       [0., 0., 1.],\n",
       "       [0., 0., 1.],\n",
       "       [0., 0., 1.],\n",
       "       [0., 0., 1.],\n",
       "       [0., 0., 1.],\n",
       "       [0., 0., 1.],\n",
       "       [0., 0., 1.],\n",
       "       [0., 0., 1.],\n",
       "       [0., 0., 1.],\n",
       "       [0., 0., 1.],\n",
       "       [0., 0., 1.],\n",
       "       [0., 0., 1.],\n",
       "       [0., 0., 1.],\n",
       "       [0., 0., 1.],\n",
       "       [0., 0., 1.],\n",
       "       [0., 0., 1.],\n",
       "       [0., 0., 1.],\n",
       "       [0., 0., 1.],\n",
       "       [0., 0., 1.],\n",
       "       [0., 0., 1.]])"
      ]
     },
     "execution_count": 4,
     "metadata": {},
     "output_type": "execute_result"
    }
   ],
   "source": [
    "d = LabelBinarizer().fit(np.unique(iris.target)).transform(iris.target)#label fit unique transform\n",
    "d = d.astype(float)\n",
    "d\n",
    "#[100\n",
    "# 100\n",
    "# 010\n",
    "# 001]\n"
   ]
  },
  {
   "cell_type": "markdown",
   "metadata": {},
   "source": [
    "### Método de HOLD-OUT (2/3 - 1/3)"
   ]
  },
  {
   "cell_type": "code",
   "execution_count": 5,
   "metadata": {},
   "outputs": [],
   "source": [
    "X_train, X_test, d_train, d_test = train_test_split(x, d, test_size=0.33, \n",
    "                                                    random_state=20, stratify=iris.target)"
   ]
  },
  {
   "cell_type": "code",
   "execution_count": 6,
   "metadata": {},
   "outputs": [
    {
     "data": {
      "text/plain": [
       "((100, 4), (50, 4), (100, 3), (50, 3))"
      ]
     },
     "execution_count": 6,
     "metadata": {},
     "output_type": "execute_result"
    }
   ],
   "source": [
    "X_train.shape, X_test.shape, d_train.shape, d_test.shape"
   ]
  },
  {
   "cell_type": "markdown",
   "metadata": {},
   "source": [
    "### REGRESIÓN LINEAL DE RESPUESTA MÚLTIPLE"
   ]
  },
  {
   "cell_type": "code",
   "execution_count": 7,
   "metadata": {},
   "outputs": [
    {
     "name": "stdout",
     "output_type": "stream",
     "text": [
      "[[-0.03155233  0.6000388   0.43151353]\n",
      " [ 1.0198519   0.00285948 -0.02271137]\n",
      " [ 0.05761055  0.01517946  0.92721   ]\n",
      " [ 0.13478549  0.51872403  0.34649048]\n",
      " [-0.02258336  0.61902441  0.40355895]\n",
      " [ 0.17474356  0.53504841  0.29020803]\n",
      " [ 0.25532725  0.28349064  0.46118211]\n",
      " [ 0.21416817  0.29514663  0.49068519]\n",
      " [ 1.05382423  0.04466651 -0.09849073]\n",
      " [-0.23420458  0.43563543  0.79856915]\n",
      " [ 0.10272483  0.47399358  0.42328159]\n",
      " [ 0.92372418  0.19754412 -0.1212683 ]\n",
      " [ 0.88817876  0.23874306 -0.12692182]\n",
      " [ 0.9592696   0.15634517 -0.11561477]\n",
      " [-0.00302358  0.39147816  0.61154542]\n",
      " [-0.07925295  0.43869911  0.64055384]\n",
      " [ 0.08062807  0.32148512  0.5978868 ]\n",
      " [ 0.0736114   0.15412343  0.77226516]\n",
      " [ 0.14665394  0.4183671   0.43497896]\n",
      " [ 0.85153537  0.357314   -0.20884937]\n",
      " [ 0.83084163  0.34262428 -0.17346591]\n",
      " [ 1.10161019 -0.15191498  0.05030479]\n",
      " [ 0.16327361  0.45561605  0.38111034]\n",
      " [ 0.05514959  0.30429769  0.64055272]\n",
      " [ 0.90720755  0.20968679 -0.11689434]\n",
      " [-0.11500038  0.31409895  0.80090143]\n",
      " [-0.03414765 -0.04187605  1.07602369]\n",
      " [ 0.93811192  0.06992909 -0.00804101]\n",
      " [ 0.21987368  0.45144156  0.32868476]\n",
      " [-0.09569541  0.17028095  0.92541446]\n",
      " [-0.0628536   0.3978538   0.6649998 ]\n",
      " [ 0.98946331 -0.00846948  0.01900617]\n",
      " [ 0.31407452  0.30708367  0.37884181]\n",
      " [ 1.11138977 -0.01817929 -0.09321048]\n",
      " [ 0.19731297  0.22720675  0.57548028]\n",
      " [ 0.02802543  0.12894508  0.84302948]\n",
      " [-0.0022977   0.36913178  0.63316592]\n",
      " [ 0.07601183  0.61989468  0.30409349]\n",
      " [ 0.87046113  0.2788661  -0.14932723]\n",
      " [ 0.00363683  0.07144449  0.92491868]\n",
      " [ 0.94155197  0.19646821 -0.13802018]\n",
      " [ 0.15665384  0.63019706  0.2131491 ]\n",
      " [ 0.18744805  0.45139223  0.36115973]\n",
      " [ 0.00383172  0.24758809  0.74858019]\n",
      " [ 0.88892294  0.12869184 -0.01761478]\n",
      " [ 0.11961355  0.4068253   0.47356115]\n",
      " [-0.08738589  0.43641425  0.65097164]\n",
      " [-0.05246578  0.01223718  1.0402286 ]\n",
      " [ 0.84508568  0.31107029 -0.15615597]\n",
      " [-0.03185738  0.38484807  0.64700931]]\n"
     ]
    }
   ],
   "source": [
    "y_predict = float_info.max * np.ones(d_test.shape, dtype=float)#valor maximo float por tamano test\n",
    "for i in range(d_test.shape[1]):#columnas\n",
    "    regresion = LinearRegression().fit(X_train, d_train[:,i])#entreno en su posicion\n",
    "    y_predict[:,i] = regresion.predict(X_test)#guardo preccion\n",
    "y_predict_test = np.argmax(y_predict, axis=1)#vcojo el maximo\n",
    "\n",
    "#predice cada casilla\n",
    "print(y_predict)\n",
    "\n",
    "#array=maxfloat\n",
    "#reg=train\n",
    "#predic=test\n",
    "#cojo maximo"
   ]
  },
  {
   "cell_type": "markdown",
   "metadata": {},
   "source": [
    "### RESULTADOS RLM"
   ]
  },
  {
   "cell_type": "code",
   "execution_count": 8,
   "metadata": {
    "scrolled": true
   },
   "outputs": [
    {
     "name": "stdout",
     "output_type": "stream",
     "text": [
      "Tasa de aciertos = 0.86\n",
      "\n",
      "Matriz de Confusión:\n",
      " [[16  0  0]\n",
      " [ 0 10  7]\n",
      " [ 0  0 17]]\n"
     ]
    }
   ],
   "source": [
    "#maximo de d maximo y predict\n",
    "print(\"Tasa de aciertos =\", accuracy_score(np.argmax(d_test, axis=1), np.argmax(y_predict, axis=1)))\n",
    "\n",
    "print(\"\\nMatriz de Confusión:\\n\", confusion_matrix(np.argmax(d_test, axis=1), np.argmax(y_predict, axis=1)))"
   ]
  },
  {
   "cell_type": "markdown",
   "metadata": {},
   "source": [
    "### K-FOLD"
   ]
  },
  {
   "cell_type": "code",
   "execution_count": 9,
   "metadata": {},
   "outputs": [],
   "source": [
    "from sklearn.model_selection import StratifiedKFold\n",
    "K = 10\n",
    "kfold = StratifiedKFold(n_splits=K)"
   ]
  },
  {
   "cell_type": "code",
   "execution_count": 10,
   "metadata": {},
   "outputs": [
    {
     "name": "stdout",
     "output_type": "stream",
     "text": [
      "ACIERTOS\n",
      "\n",
      "0.7333333333333333\n",
      "0.8\n",
      "0.8666666666666667\n",
      "0.8\n",
      "0.8666666666666667\n",
      "0.7333333333333333\n",
      "0.7333333333333333\n",
      "0.8\n",
      "0.9333333333333333\n",
      "1.0\n",
      "\n",
      "\n",
      "Tasa de aciertos = 0.8266666666666668\n"
     ]
    }
   ],
   "source": [
    "#FYFLPA\n",
    "aciertos = np.zeros(K, dtype=float)\n",
    "k = 0\n",
    "print(\"ACIERTOS\\n\")\n",
    "for train_index, test_index in kfold.split(x, iris.target):#recorro los separados: train,test\n",
    "    \n",
    "    y_test = np.zeros((len(test_index), 3), dtype=float)#matrriz con 0\n",
    "    for i in range(3):\n",
    "        regresion = LinearRegression().fit(x[train_index], d[train_index, i])#entreno con los 3. solo la comulna\n",
    "        y_test[:,i] = regresion.predict(x[test_index])#guardo preccion\n",
    "    aciertos[k] = accuracy_score(iris.target[test_index], np.argmax(y_test, axis=1))# score con el maximo\n",
    "    print(aciertos[k])\n",
    "    k += 1\n",
    "print(\"\\n\\nTasa de aciertos =\", np.mean(aciertos))    \n",
    "\n"
   ]
  },
  {
   "cell_type": "markdown",
   "metadata": {},
   "source": [
    "### REGRESIÓN LOGÍSTICA"
   ]
  },
  {
   "cell_type": "code",
   "execution_count": 28,
   "metadata": {},
   "outputs": [],
   "source": [
    "regresion_logistica = LogisticRegression(solver='lbfgs', multi_class='auto').fit(x, iris.target)"
   ]
  },
  {
   "cell_type": "code",
   "execution_count": 29,
   "metadata": {},
   "outputs": [
    {
     "name": "stdout",
     "output_type": "stream",
     "text": [
      "Tasa de aciertos = 0.96\n"
     ]
    }
   ],
   "source": [
    "y_test = regresion_logistica.predict(X_test)\n",
    "print(\"Tasa de aciertos =\", accuracy_score(np.argmax(d_test, axis=1), y_test))#maximo"
   ]
  },
  {
   "cell_type": "code",
   "execution_count": 30,
   "metadata": {
    "scrolled": true
   },
   "outputs": [
    {
     "name": "stdout",
     "output_type": "stream",
     "text": [
      "Matriz de Confusión:\n",
      " [[16  0  0]\n",
      " [ 0 15  2]\n",
      " [ 0  0 17]]\n"
     ]
    }
   ],
   "source": [
    "print(\"Matriz de Confusión:\\n\", confusion_matrix(np.argmax(d_test, axis=1), y_test))"
   ]
  },
  {
   "cell_type": "markdown",
   "metadata": {},
   "source": [
    "### VALIDACIÓN CRUZADA"
   ]
  },
  {
   "cell_type": "code",
   "execution_count": 35,
   "metadata": {
    "scrolled": true,
    "tags": []
   },
   "outputs": [
    {
     "name": "stdout",
     "output_type": "stream",
     "text": [
      "ACIERTOS\n",
      "\n",
      "0.8\n",
      "0.8666666666666667\n",
      "1.0\n",
      "0.9333333333333333\n",
      "0.9333333333333333\n",
      "0.9333333333333333\n",
      "0.8666666666666667\n",
      "0.8666666666666667\n",
      "1.0\n",
      "1.0\n",
      "\n",
      "\n",
      "Tasa de aciertos = 0.9199999999999999\n"
     ]
    }
   ],
   "source": [
    "#FLPA\n",
    "aciertos = np.zeros(K, dtype=float)#tamano vecinos\n",
    "k = 0\n",
    "print(\"ACIERTOS\\n\")\n",
    "for train_index, test_index in kfold.split(x, iris.target):\n",
    "    regresion_logistica = LogisticRegression(solver='lbfgs', multi_class='auto').fit(x[train_index], iris.target[train_index])\n",
    "    y_test = regresion_logistica.predict(x[test_index])#prediccion\n",
    "    aciertos[k] = accuracy_score(iris.target[test_index], y_test)#score\n",
    "    print(aciertos[k])\n",
    "    k += 1\n",
    "print(\"\\n\\nTasa de aciertos =\", np.mean(aciertos))"
   ]
  },
  {
   "cell_type": "code",
   "execution_count": null,
   "metadata": {},
   "outputs": [],
   "source": []
  }
 ],
 "metadata": {
  "kernelspec": {
   "display_name": "Python 3 (ipykernel)",
   "language": "python",
   "name": "python3"
  },
  "language_info": {
   "codemirror_mode": {
    "name": "ipython",
    "version": 3
   },
   "file_extension": ".py",
   "mimetype": "text/x-python",
   "name": "python",
   "nbconvert_exporter": "python",
   "pygments_lexer": "ipython3",
   "version": "3.11.2"
  }
 },
 "nbformat": 4,
 "nbformat_minor": 4
}
