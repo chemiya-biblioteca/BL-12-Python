{
 "cells": [
  {
   "cell_type": "markdown",
   "metadata": {},
   "source": [
    "## REGRESIÓN LINEAL MÚLTIPLE - IRIS"
   ]
  },
  {
   "cell_type": "code",
   "execution_count": 1,
   "metadata": {},
   "outputs": [],
   "source": [
    "import numpy as np\n",
    "from sys import float_info\n",
    "from sklearn.datasets import load_iris\n",
    "from sklearn.preprocessing import MinMaxScaler, LabelBinarizer\n",
    "from sklearn.model_selection import train_test_split \n",
    "from sklearn.linear_model import LinearRegression, LogisticRegression\n",
    "from sklearn.metrics import confusion_matrix\n",
    "from sklearn.metrics import accuracy_score"
   ]
  },
  {
   "cell_type": "markdown",
   "metadata": {},
   "source": [
    "### Carga de Datos, Escalado y muestra de etiquetas diferentes"
   ]
  },
  {
   "cell_type": "code",
   "execution_count": 2,
   "metadata": {},
   "outputs": [
    {
     "data": {
      "text/plain": [
       "array([0, 1, 2])"
      ]
     },
     "execution_count": 2,
     "metadata": {},
     "output_type": "execute_result"
    }
   ],
   "source": [
    "iris = load_iris()\n",
    "scaler = MinMaxScaler()\n",
    "\n",
    "x = scaler.fit_transform(iris.data)#solo min max sobre x\n",
    "\n",
    "np.unique(iris.target)"
   ]
  },
  {
   "cell_type": "code",
   "execution_count": 3,
   "metadata": {
    "scrolled": true
   },
   "outputs": [
    {
     "data": {
      "text/plain": [
       "(array([0., 0., 0., 0.]), array([1., 1., 1., 1.]))"
      ]
     },
     "execution_count": 3,
     "metadata": {},
     "output_type": "execute_result"
    }
   ],
   "source": [
    "np.min(x, axis=0), np.max(x, axis=0)"
   ]
  },
  {
   "cell_type": "markdown",
   "metadata": {},
   "source": [
    "### Binarización de las Etiquetas"
   ]
  },
  {
   "cell_type": "code",
   "execution_count": 5,
   "metadata": {},
   "outputs": [],
   "source": [
    "d = LabelBinarizer().fit(np.unique(iris.target)).transform(iris.target)#label fit unique transform\n",
    "d = d.astype(float)\n"
   ]
  },
  {
   "cell_type": "markdown",
   "metadata": {},
   "source": [
    "### Método de HOLD-OUT (2/3 - 1/3)"
   ]
  },
  {
   "cell_type": "code",
   "execution_count": 6,
   "metadata": {},
   "outputs": [],
   "source": [
    "X_train, X_test, d_train, d_test = train_test_split(x, d, test_size=0.33, \n",
    "                                                    random_state=20, stratify=iris.target)"
   ]
  },
  {
   "cell_type": "code",
   "execution_count": 7,
   "metadata": {},
   "outputs": [
    {
     "data": {
      "text/plain": [
       "((100, 4), (50, 4), (100, 3), (50, 3))"
      ]
     },
     "execution_count": 7,
     "metadata": {},
     "output_type": "execute_result"
    }
   ],
   "source": [
    "X_train.shape, X_test.shape, d_train.shape, d_test.shape"
   ]
  },
  {
   "cell_type": "markdown",
   "metadata": {},
   "source": [
    "### REGRESIÓN LINEAL DE RESPUESTA MÚLTIPLE"
   ]
  },
  {
   "cell_type": "code",
   "execution_count": 8,
   "metadata": {},
   "outputs": [],
   "source": [
    "y_predict = float_info.max * np.ones(d_test.shape, dtype=float)#valor maximo float por tamano test\n",
    "for i in range(d_test.shape[1]):\n",
    "    regresion = LinearRegression().fit(X_train, d_train[:,i])#entreno en su posicion\n",
    "    y_predict[:,i] = regresion.predict(X_test)#guardo preccion\n",
    "y_predict_test = np.argmax(y_predict, axis=1)#vcojo el maximo\n",
    "\n",
    "#array=maxfloat\n",
    "#reg=train\n",
    "#predic=test\n",
    "#cojo maximo"
   ]
  },
  {
   "cell_type": "markdown",
   "metadata": {},
   "source": [
    "### RESULTADOS RLM"
   ]
  },
  {
   "cell_type": "code",
   "execution_count": 9,
   "metadata": {
    "scrolled": true
   },
   "outputs": [
    {
     "name": "stdout",
     "output_type": "stream",
     "text": [
      "Tasa de aciertos = 0.86\n",
      "\n",
      "Matriz de Confusión:\n",
      " [[16  0  0]\n",
      " [ 0 10  7]\n",
      " [ 0  0 17]]\n"
     ]
    }
   ],
   "source": [
    "#maximo de d maximo y predict\n",
    "print(\"Tasa de aciertos =\", accuracy_score(np.argmax(d_test, axis=1), np.argmax(y_predict, axis=1)))\n",
    "\n",
    "print(\"\\nMatriz de Confusión:\\n\", confusion_matrix(np.argmax(d_test, axis=1), np.argmax(y_predict, axis=1)))"
   ]
  },
  {
   "cell_type": "markdown",
   "metadata": {},
   "source": [
    "### K-FOLD"
   ]
  },
  {
   "cell_type": "code",
   "execution_count": 10,
   "metadata": {},
   "outputs": [],
   "source": [
    "from sklearn.model_selection import StratifiedKFold\n",
    "K = 10\n",
    "kfold = StratifiedKFold(n_splits=K)"
   ]
  },
  {
   "cell_type": "code",
   "execution_count": 12,
   "metadata": {},
   "outputs": [
    {
     "name": "stdout",
     "output_type": "stream",
     "text": [
      "ACIERTOS\n",
      "\n",
      "[  0   1   2   3   4  50  51  52  53  54 100 101 102 103 104]\n",
      "0.7333333333333333\n",
      "[  5   6   7   8   9  55  56  57  58  59 105 106 107 108 109]\n",
      "0.8\n",
      "[ 10  11  12  13  14  60  61  62  63  64 110 111 112 113 114]\n",
      "0.8666666666666667\n",
      "[ 15  16  17  18  19  65  66  67  68  69 115 116 117 118 119]\n",
      "0.8\n",
      "[ 20  21  22  23  24  70  71  72  73  74 120 121 122 123 124]\n",
      "0.8666666666666667\n",
      "[ 25  26  27  28  29  75  76  77  78  79 125 126 127 128 129]\n",
      "0.7333333333333333\n",
      "[ 30  31  32  33  34  80  81  82  83  84 130 131 132 133 134]\n",
      "0.7333333333333333\n",
      "[ 35  36  37  38  39  85  86  87  88  89 135 136 137 138 139]\n",
      "0.8\n",
      "[ 40  41  42  43  44  90  91  92  93  94 140 141 142 143 144]\n",
      "0.9333333333333333\n",
      "[ 45  46  47  48  49  95  96  97  98  99 145 146 147 148 149]\n",
      "1.0\n",
      "\n",
      "\n",
      "Tasa de aciertos = 0.8266666666666668\n"
     ]
    }
   ],
   "source": [
    "aciertos = np.zeros(K, dtype=float)\n",
    "k = 0\n",
    "print(\"ACIERTOS\\n\")\n",
    "for train_index, test_index in kfold.split(x, iris.target):#recorro los separados: train,test\n",
    "    \n",
    "    y_test = np.zeros((len(test_index), 3), dtype=float)#matrriz con 0\n",
    "    for i in range(3):\n",
    "        regresion = LinearRegression().fit(x[train_index], d[train_index, i])#entreno con los 3\n",
    "        y_test[:,i] = regresion.predict(x[test_index])#guardo preccion\n",
    "    aciertos[k] = accuracy_score(iris.target[test_index], np.argmax(y_test, axis=1))# score con el maximo\n",
    "    print(aciertos[k])\n",
    "    k += 1\n",
    "print(\"\\n\\nTasa de aciertos =\", np.mean(aciertos))    \n",
    "\n"
   ]
  },
  {
   "cell_type": "markdown",
   "metadata": {},
   "source": [
    "### REGRESIÓN LOGÍSTICA"
   ]
  },
  {
   "cell_type": "code",
   "execution_count": 28,
   "metadata": {},
   "outputs": [],
   "source": [
    "regresion_logistica = LogisticRegression(solver='lbfgs', multi_class='auto').fit(x, iris.target)"
   ]
  },
  {
   "cell_type": "code",
   "execution_count": 29,
   "metadata": {},
   "outputs": [
    {
     "name": "stdout",
     "output_type": "stream",
     "text": [
      "Tasa de aciertos = 0.96\n"
     ]
    }
   ],
   "source": [
    "y_test = regresion_logistica.predict(X_test)\n",
    "print(\"Tasa de aciertos =\", accuracy_score(np.argmax(d_test, axis=1), y_test))#maximo"
   ]
  },
  {
   "cell_type": "code",
   "execution_count": 30,
   "metadata": {
    "scrolled": true
   },
   "outputs": [
    {
     "name": "stdout",
     "output_type": "stream",
     "text": [
      "Matriz de Confusión:\n",
      " [[16  0  0]\n",
      " [ 0 15  2]\n",
      " [ 0  0 17]]\n"
     ]
    }
   ],
   "source": [
    "print(\"Matriz de Confusión:\\n\", confusion_matrix(np.argmax(d_test, axis=1), y_test))"
   ]
  },
  {
   "cell_type": "markdown",
   "metadata": {},
   "source": [
    "### VALIDACIÓN CRUZADA"
   ]
  },
  {
   "cell_type": "code",
   "execution_count": 35,
   "metadata": {
    "scrolled": true,
    "tags": []
   },
   "outputs": [
    {
     "name": "stdout",
     "output_type": "stream",
     "text": [
      "ACIERTOS\n",
      "\n",
      "0.8\n",
      "0.8666666666666667\n",
      "1.0\n",
      "0.9333333333333333\n",
      "0.9333333333333333\n",
      "0.9333333333333333\n",
      "0.8666666666666667\n",
      "0.8666666666666667\n",
      "1.0\n",
      "1.0\n",
      "\n",
      "\n",
      "Tasa de aciertos = 0.9199999999999999\n"
     ]
    }
   ],
   "source": [
    "aciertos = np.zeros(K, dtype=float)#tamano vecinos\n",
    "k = 0\n",
    "print(\"ACIERTOS\\n\")\n",
    "for train_index, test_index in kfold.split(x, iris.target):\n",
    "    regresion_logistica = LogisticRegression(solver='lbfgs', multi_class='auto').fit(x[train_index], iris.target[train_index])\n",
    "    y_test = regresion_logistica.predict(x[test_index])#prediccion\n",
    "    aciertos[k] = accuracy_score(iris.target[test_index], y_test)#score\n",
    "    print(aciertos[k])\n",
    "    k += 1\n",
    "print(\"\\n\\nTasa de aciertos =\", np.mean(aciertos))"
   ]
  },
  {
   "cell_type": "code",
   "execution_count": null,
   "metadata": {},
   "outputs": [],
   "source": []
  }
 ],
 "metadata": {
  "kernelspec": {
   "display_name": "Python 3 (ipykernel)",
   "language": "python",
   "name": "python3"
  },
  "language_info": {
   "codemirror_mode": {
    "name": "ipython",
    "version": 3
   },
   "file_extension": ".py",
   "mimetype": "text/x-python",
   "name": "python",
   "nbconvert_exporter": "python",
   "pygments_lexer": "ipython3",
   "version": "3.11.2"
  }
 },
 "nbformat": 4,
 "nbformat_minor": 4
}
