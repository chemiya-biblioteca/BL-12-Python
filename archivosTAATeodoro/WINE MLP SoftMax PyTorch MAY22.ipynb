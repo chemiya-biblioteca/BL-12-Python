{
 "cells": [
  {
   "cell_type": "code",
   "execution_count": 1,
   "id": "31d12fc3-9039-4621-93df-b420f04c82f6",
   "metadata": {},
   "outputs": [],
   "source": [
    "import torch\n",
    "from torch import nn\n",
    "from torch.utils.data import DataLoader\n",
    "from torchvision import datasets\n",
    "from torchvision.transforms import ToTensor\n",
    "import numpy as np\n",
    "import time"
   ]
  },
  {
   "cell_type": "code",
   "execution_count": 2,
   "id": "865630fb-175d-449a-aeac-5bbe75644939",
   "metadata": {},
   "outputs": [],
   "source": [
    "from sklearn.datasets import load_wine\n",
    "from sklearn.preprocessing import MinMaxScaler, LabelBinarizer\n",
    "from sklearn.model_selection import train_test_split\n",
    "from matplotlib import pyplot as plt"
   ]
  },
  {
   "cell_type": "code",
   "execution_count": 3,
   "id": "9a376175-b6b2-41eb-97e0-cc44455c7fec",
   "metadata": {},
   "outputs": [],
   "source": [
    "scaler = MinMaxScaler()\n",
    "datos = load_wine()\n",
    "X = torch.tensor(scaler.fit_transform(datos.data), dtype=torch.float32)#con fit"
   ]
  },
  {
   "cell_type": "code",
   "execution_count": 4,
   "id": "c475fd1f-64e5-4f2d-a82c-63ac1ebe9b58",
   "metadata": {},
   "outputs": [],
   "source": [
    "y = torch.tensor(LabelBinarizer().fit_transform(datos.target), dtype=torch.float32)#con  label bin"
   ]
  },
  {
   "cell_type": "code",
   "execution_count": 5,
   "id": "19d721cc-9f3d-449d-bcf0-b3746348ce9d",
   "metadata": {},
   "outputs": [
    {
     "data": {
      "text/plain": [
       "(torch.Tensor, torch.Tensor, torch.Size([178, 13]), torch.Size([178, 3]))"
      ]
     },
     "execution_count": 5,
     "metadata": {},
     "output_type": "execute_result"
    }
   ],
   "source": [
    "type(X), type(y), X.shape, y.shape"
   ]
  },
  {
   "cell_type": "code",
   "execution_count": 6,
   "id": "00f3f8da-7d81-44fd-80c9-b4b4374e4bf9",
   "metadata": {},
   "outputs": [
    {
     "data": {
      "text/plain": [
       "((118,), (60,))"
      ]
     },
     "execution_count": 6,
     "metadata": {},
     "output_type": "execute_result"
    }
   ],
   "source": [
    "train_index, test_index = train_test_split(np.arange(datos.data.shape[0]), test_size=1/3, stratify=datos.target)\n",
    "train_index.shape, test_index.shape"
   ]
  },
  {
   "cell_type": "code",
   "execution_count": 7,
   "id": "1a05c68e-f6fb-422f-8f1a-738cb2d7c7bc",
   "metadata": {},
   "outputs": [],
   "source": [
    "class MLP(nn.Module):\n",
    "    def __init__(self,input_dim,output_dim):\n",
    "        super(MLP,self).__init__()\n",
    "        self.hidden_layer  = nn.Linear(input_dim,64)\n",
    "        self.output_layer  = nn.Linear(64,output_dim)\n",
    "        self.relu = nn.ReLU()\n",
    "    \n",
    "    \n",
    "    def forward(self,x):\n",
    "        out =  self.relu(self.hidden_layer(x))\n",
    "        out =  self.output_layer(out)\n",
    "        return out"
   ]
  },
  {
   "cell_type": "code",
   "execution_count": 8,
   "id": "c1f9b611-ad32-4a89-a101-e48172ecfa8e",
   "metadata": {},
   "outputs": [],
   "source": [
    "model = MLP(input_dim=13, output_dim=3)"
   ]
  },
  {
   "cell_type": "code",
   "execution_count": 15,
   "id": "639fcb4d-fc46-4ca3-baf9-aeba2a320822",
   "metadata": {},
   "outputs": [
    {
     "data": {
      "text/plain": [
       "(tensor([ 0.0259,  0.1648, -0.3670], grad_fn=<AddBackward0>),\n",
       " tensor([1., 0., 0.]))"
      ]
     },
     "execution_count": 15,
     "metadata": {},
     "output_type": "execute_result"
    }
   ],
   "source": [
    "model(X[1]), y[1]"
   ]
  },
  {
   "cell_type": "code",
   "execution_count": 28,
   "id": "f1ac80de-90e1-4f6a-ba63-a112e58cc41b",
   "metadata": {},
   "outputs": [
    {
     "data": {
      "text/plain": [
       "(tensor([[ 0.0259,  0.1648, -0.3670]], grad_fn=<ReshapeAliasBackward0>),\n",
       " tensor([], size=(1, 0)))"
      ]
     },
     "execution_count": 28,
     "metadata": {},
     "output_type": "execute_result"
    }
   ],
   "source": [
    "model(X[1]).reshape(1, -1), y[1:1].reshape(1, -1)"
   ]
  },
  {
   "cell_type": "code",
   "execution_count": 29,
   "id": "9f5a5d1c-e6a5-4cf6-b7ab-64216b980851",
   "metadata": {},
   "outputs": [
    {
     "data": {
      "text/plain": [
       "tensor(1.0382, grad_fn=<DivBackward1>)"
      ]
     },
     "execution_count": 29,
     "metadata": {},
     "output_type": "execute_result"
    }
   ],
   "source": [
    "loss_fn(model(X[1]).reshape(1, -1), y[1].reshape(1,-1))"
   ]
  },
  {
   "cell_type": "code",
   "execution_count": 10,
   "id": "2a917fee-48dc-477d-a091-31cee6703187",
   "metadata": {},
   "outputs": [],
   "source": [
    "loss_fn = torch.nn.CrossEntropyLoss()#loss con cross"
   ]
  },
  {
   "cell_type": "code",
   "execution_count": 11,
   "id": "6d99bd8d-98e3-459d-a45f-5c4b3d0650e5",
   "metadata": {
    "tags": []
   },
   "outputs": [],
   "source": [
    "optimizador = torch.optim.SGD(model.parameters(), lr=0.01, momentum=0.9)#con optim"
   ]
  },
  {
   "cell_type": "code",
   "execution_count": 12,
   "id": "89582174-f029-496c-8356-5b99eaa4ba29",
   "metadata": {},
   "outputs": [],
   "source": [
    "aciertos_test = []\n",
    "aciertos_train = []"
   ]
  },
  {
   "cell_type": "code",
   "execution_count": 30,
   "id": "2fa93d36-72c8-41cd-88e0-75bc886bcf97",
   "metadata": {},
   "outputs": [
    {
     "name": "stdout",
     "output_type": "stream",
     "text": [
      "0\t accuracy (train) = [0.9067796610169492] \t\t (test) = [0.85] \t\t (elapsed) = 0.0617070198059082 seg.\n",
      "1\t accuracy (train) = [0.9491525423728814] \t\t (test) = [0.9166666666666666] \t\t (elapsed) = 0.13030147552490234 seg.\n",
      "2\t accuracy (train) = [0.9830508474576272] \t\t (test) = [0.95] \t\t (elapsed) = 0.04369497299194336 seg.\n",
      "3\t accuracy (train) = [0.9830508474576272] \t\t (test) = [0.9333333333333333] \t\t (elapsed) = 0.051724910736083984 seg.\n",
      "4\t accuracy (train) = [0.9915254237288136] \t\t (test) = [0.95] \t\t (elapsed) = 0.0642848014831543 seg.\n",
      "5\t accuracy (train) = [1.0] \t\t (test) = [0.9666666666666667] \t\t (elapsed) = 0.04277491569519043 seg.\n",
      "6\t accuracy (train) = [1.0] \t\t (test) = [0.9833333333333333] \t\t (elapsed) = 0.04589653015136719 seg.\n",
      "7\t accuracy (train) = [1.0] \t\t (test) = [0.9833333333333333] \t\t (elapsed) = 0.050908803939819336 seg.\n",
      "8\t accuracy (train) = [1.0] \t\t (test) = [0.9833333333333333] \t\t (elapsed) = 0.04529833793640137 seg.\n",
      "9\t accuracy (train) = [1.0] \t\t (test) = [0.9833333333333333] \t\t (elapsed) = 0.045632123947143555 seg.\n",
      "10\t accuracy (train) = [1.0] \t\t (test) = [0.9833333333333333] \t\t (elapsed) = 0.05667471885681152 seg.\n",
      "11\t accuracy (train) = [1.0] \t\t (test) = [0.9833333333333333] \t\t (elapsed) = 0.04665064811706543 seg.\n",
      "12\t accuracy (train) = [1.0] \t\t (test) = [0.9833333333333333] \t\t (elapsed) = 0.04497575759887695 seg.\n",
      "13\t accuracy (train) = [1.0] \t\t (test) = [0.9833333333333333] \t\t (elapsed) = 0.04377245903015137 seg.\n",
      "14\t accuracy (train) = [1.0] \t\t (test) = [0.9833333333333333] \t\t (elapsed) = 0.052191972732543945 seg.\n",
      "15\t accuracy (train) = [1.0] \t\t (test) = [0.9833333333333333] \t\t (elapsed) = 0.050261735916137695 seg.\n",
      "16\t accuracy (train) = [1.0] \t\t (test) = [0.9833333333333333] \t\t (elapsed) = 0.044515371322631836 seg.\n",
      "17\t accuracy (train) = [1.0] \t\t (test) = [1.0] \t\t (elapsed) = 0.045246124267578125 seg.\n",
      "18\t accuracy (train) = [1.0] \t\t (test) = [1.0] \t\t (elapsed) = 0.04402756690979004 seg.\n",
      "19\t accuracy (train) = [1.0] \t\t (test) = [1.0] \t\t (elapsed) = 0.04221749305725098 seg.\n",
      "20\t accuracy (train) = [1.0] \t\t (test) = [1.0] \t\t (elapsed) = 0.047821998596191406 seg.\n",
      "21\t accuracy (train) = [1.0] \t\t (test) = [1.0] \t\t (elapsed) = 0.053424835205078125 seg.\n",
      "22\t accuracy (train) = [1.0] \t\t (test) = [1.0] \t\t (elapsed) = 0.042443275451660156 seg.\n",
      "23\t accuracy (train) = [1.0] \t\t (test) = [1.0] \t\t (elapsed) = 0.04115128517150879 seg.\n",
      "24\t accuracy (train) = [1.0] \t\t (test) = [1.0] \t\t (elapsed) = 0.0423583984375 seg.\n",
      "25\t accuracy (train) = [1.0] \t\t (test) = [0.9833333333333333] \t\t (elapsed) = 0.0566868782043457 seg.\n",
      "26\t accuracy (train) = [1.0] \t\t (test) = [0.9833333333333333] \t\t (elapsed) = 0.062384843826293945 seg.\n",
      "27\t accuracy (train) = [1.0] \t\t (test) = [0.9833333333333333] \t\t (elapsed) = 0.04564046859741211 seg.\n",
      "28\t accuracy (train) = [1.0] \t\t (test) = [0.9833333333333333] \t\t (elapsed) = 0.04150819778442383 seg.\n",
      "29\t accuracy (train) = [1.0] \t\t (test) = [0.9833333333333333] \t\t (elapsed) = 0.04109477996826172 seg.\n",
      "30\t accuracy (train) = [1.0] \t\t (test) = [0.9833333333333333] \t\t (elapsed) = 0.04642534255981445 seg.\n",
      "31\t accuracy (train) = [1.0] \t\t (test) = [0.9833333333333333] \t\t (elapsed) = 0.05763864517211914 seg.\n",
      "32\t accuracy (train) = [1.0] \t\t (test) = [0.9833333333333333] \t\t (elapsed) = 0.051247596740722656 seg.\n",
      "33\t accuracy (train) = [1.0] \t\t (test) = [0.9833333333333333] \t\t (elapsed) = 0.04313850402832031 seg.\n",
      "34\t accuracy (train) = [1.0] \t\t (test) = [0.9833333333333333] \t\t (elapsed) = 0.04625582695007324 seg.\n",
      "35\t accuracy (train) = [1.0] \t\t (test) = [0.9833333333333333] \t\t (elapsed) = 0.07731914520263672 seg.\n",
      "36\t accuracy (train) = [1.0] \t\t (test) = [0.9833333333333333] \t\t (elapsed) = 0.0608980655670166 seg.\n",
      "37\t accuracy (train) = [1.0] \t\t (test) = [0.9833333333333333] \t\t (elapsed) = 0.05038905143737793 seg.\n",
      "38\t accuracy (train) = [1.0] \t\t (test) = [0.9833333333333333] \t\t (elapsed) = 0.057916879653930664 seg.\n",
      "39\t accuracy (train) = [1.0] \t\t (test) = [0.9833333333333333] \t\t (elapsed) = 0.049581289291381836 seg.\n",
      "40\t accuracy (train) = [1.0] \t\t (test) = [0.9833333333333333] \t\t (elapsed) = 0.046762704849243164 seg.\n",
      "41\t accuracy (train) = [1.0] \t\t (test) = [0.9833333333333333] \t\t (elapsed) = 0.04599118232727051 seg.\n",
      "42\t accuracy (train) = [1.0] \t\t (test) = [0.9833333333333333] \t\t (elapsed) = 0.058603763580322266 seg.\n",
      "43\t accuracy (train) = [1.0] \t\t (test) = [0.9833333333333333] \t\t (elapsed) = 0.07762789726257324 seg.\n",
      "44\t accuracy (train) = [1.0] \t\t (test) = [0.9833333333333333] \t\t (elapsed) = 0.049929141998291016 seg.\n",
      "45\t accuracy (train) = [1.0] \t\t (test) = [0.9833333333333333] \t\t (elapsed) = 0.048200368881225586 seg.\n",
      "46\t accuracy (train) = [1.0] \t\t (test) = [0.9833333333333333] \t\t (elapsed) = 0.05609726905822754 seg.\n",
      "47\t accuracy (train) = [1.0] \t\t (test) = [0.9833333333333333] \t\t (elapsed) = 0.06992292404174805 seg.\n",
      "48\t accuracy (train) = [1.0] \t\t (test) = [0.9833333333333333] \t\t (elapsed) = 0.044330596923828125 seg.\n",
      "49\t accuracy (train) = [1.0] \t\t (test) = [0.9833333333333333] \t\t (elapsed) = 0.0514068603515625 seg.\n"
     ]
    }
   ],
   "source": [
    "batch = 1\n",
    "for epochs in range(50):\n",
    "    initial = time.time()\n",
    "    for indx in train_index:\n",
    "        optimizador.zero_grad()\n",
    "        loss = loss_fn(model(X[indx]).reshape(batch, -1), y[indx].reshape(batch, -1))\n",
    "        loss.backward()\n",
    "        optimizador.step()\n",
    "    final = time.time()\n",
    "    aciertos_train.append((model(X[train_index]).argmax(axis=1) == y[train_index].argmax(axis=1)).numpy().mean())\n",
    "    aciertos_test.append((model(X[test_index]).argmax(axis=1) == y[test_index].argmax(axis=1)).numpy().mean())\n",
    "    print(f\"{epochs}\\t accuracy (train) = {aciertos_train[-1:]} \\t\\t (test) = {aciertos_test[-1:]} \\t\\t (elapsed) = {final - initial} seg.\")"
   ]
  },
  {
   "cell_type": "code",
   "execution_count": 31,
   "id": "e708998e-7453-47e4-b1a9-232297e2c910",
   "metadata": {},
   "outputs": [
    {
     "data": {
      "image/png": "[encoded data removed]",
      "text/plain": [
       "<Figure size 1500x600 with 1 Axes>"
      ]
     },
     "metadata": {
      "needs_background": "light"
     },
     "output_type": "display_data"
    }
   ],
   "source": [
    "plt.figure(figsize=(10,4), dpi=150)\n",
    "plt.plot(np.arange(len(aciertos_train), dtype=int), aciertos_train, label='training')\n",
    "plt.plot(np.arange(len(aciertos_test), dtype=int), aciertos_test, label='validation')\n",
    "plt.legend()\n",
    "plt.title('WINE DATASET Success Rate Evolution')\n",
    "plt.xlabel('Epoch')\n",
    "# plt.xticks(history.epoch)\n",
    "plt.grid()\n",
    "plt.savefig(\"WINE MLP Pytorch.jpg\", dpi=150)\n",
    "plt.show()"
   ]
  },
  {
   "cell_type": "code",
   "execution_count": null,
   "id": "f8093531-388e-40ce-89b8-d6aff54ce411",
   "metadata": {},
   "outputs": [],
   "source": []
  }
 ],
 "metadata": {
  "kernelspec": {
   "display_name": "Python 3 (ipykernel)",
   "language": "python",
   "name": "python3"
  },
  "language_info": {
   "codemirror_mode": {
    "name": "ipython",
    "version": 3
   },
   "file_extension": ".py",
   "mimetype": "text/x-python",
   "name": "python",
   "nbconvert_exporter": "python",
   "pygments_lexer": "ipython3",
   "version": "3.9.7"
  }
 },
 "nbformat": 4,
 "nbformat_minor": 5
}
